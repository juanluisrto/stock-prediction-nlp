{
 "cells": [
  {
   "cell_type": "code",
   "execution_count": 117,
   "id": "81904706-263a-48fc-a950-f4603d0f8d7b",
   "metadata": {},
   "outputs": [],
   "source": [
    "import pandas as pd\n",
    "import numpy as np\n",
    "import sklearn as sk"
   ]
  },
  {
   "cell_type": "code",
   "execution_count": 118,
   "id": "dffc7fc2-7b8b-41fe-8890-8a8f839caf7a",
   "metadata": {},
   "outputs": [],
   "source": [
    "from sklearn.metrics import f1_score"
   ]
  },
  {
   "cell_type": "code",
   "execution_count": 120,
   "id": "372a4404-3e7c-4198-b07f-f962b07b5275",
   "metadata": {},
   "outputs": [],
   "source": [
    "predicted = [0,1,1,0,0,0,1]\n",
    "actual = [0,1,1,0,0,0,1]"
   ]
  },
  {
   "cell_type": "code",
   "execution_count": 122,
   "id": "dd51bb2c-fada-45aa-a510-0ae46435192d",
   "metadata": {},
   "outputs": [],
   "source": [
    "o = f1_score(predicted,actual)"
   ]
  },
  {
   "cell_type": "code",
   "execution_count": 125,
   "id": "791f222f-5d7a-44f9-abd7-71df3c2fb772",
   "metadata": {},
   "outputs": [],
   "source": [
    "test_matrix = np.array([[35., 97.5, 47.5],\n",
    "\t\t\t\t\t\t[72.5, 60., 10.],\n",
    "\t\t\t\t\t\t[22.5, 110., 85.]])\n",
    "\n",
    "matrix_to_subtract = np.array([[32.8, 10.1, 5],\n",
    "\t\t\t\t\t\t\t\t[17.3, 40, 29.7],\n",
    "\t\t\t\t\t\t\t\t[34.8, 19.4, 7]])"
   ]
  },
  {
   "cell_type": "code",
   "execution_count": 134,
   "id": "f44fc8fa-3d16-473b-9fdd-a8507a82a52a",
   "metadata": {},
   "outputs": [],
   "source": [
    "arr = np.array(['03-04-2005 11:35 PM',\n",
    "\t\t\t\t\t\t'23-05-2010 12:01 AM',\n",
    "\t\t\t\t\t\t'04-09-2009 09:09 PM'])"
   ]
  },
  {
   "cell_type": "code",
   "execution_count": 138,
   "id": "5b054dc7-9965-4497-9e2c-3190c3c0005a",
   "metadata": {},
   "outputs": [
    {
     "ename": "TypeError",
     "evalue": "Expected unicode, got numpy.str_",
     "output_type": "error",
     "traceback": [
      "\u001b[0;31m---------------------------------------\u001b[0m",
      "\u001b[0;31mTypeError\u001b[0mTraceback (most recent call last)",
      "\u001b[0;32m<ipython-input-138-b356a9c9a771>\u001b[0m in \u001b[0;36m<module>\u001b[0;34m\u001b[0m\n\u001b[0;32m----> 1\u001b[0;31m \u001b[0;34m[\u001b[0m\u001b[0mpd\u001b[0m\u001b[0;34m.\u001b[0m\u001b[0mTimestamp\u001b[0m\u001b[0;34m(\u001b[0m\u001b[0mx\u001b[0m\u001b[0;34m)\u001b[0m \u001b[0;32mfor\u001b[0m \u001b[0mx\u001b[0m \u001b[0;32min\u001b[0m \u001b[0marr\u001b[0m\u001b[0;34m]\u001b[0m\u001b[0;34m\u001b[0m\u001b[0;34m\u001b[0m\u001b[0m\n\u001b[0m",
      "\u001b[0;32m<ipython-input-138-b356a9c9a771>\u001b[0m in \u001b[0;36m<listcomp>\u001b[0;34m(.0)\u001b[0m\n\u001b[0;32m----> 1\u001b[0;31m \u001b[0;34m[\u001b[0m\u001b[0mpd\u001b[0m\u001b[0;34m.\u001b[0m\u001b[0mTimestamp\u001b[0m\u001b[0;34m(\u001b[0m\u001b[0mx\u001b[0m\u001b[0;34m)\u001b[0m \u001b[0;32mfor\u001b[0m \u001b[0mx\u001b[0m \u001b[0;32min\u001b[0m \u001b[0marr\u001b[0m\u001b[0;34m]\u001b[0m\u001b[0;34m\u001b[0m\u001b[0;34m\u001b[0m\u001b[0m\n\u001b[0m",
      "\u001b[0;32mpandas/_libs/tslibs/timestamps.pyx\u001b[0m in \u001b[0;36mpandas._libs.tslibs.timestamps.Timestamp.__new__\u001b[0;34m()\u001b[0m\n",
      "\u001b[0;32mpandas/_libs/tslibs/conversion.pyx\u001b[0m in \u001b[0;36mpandas._libs.tslibs.conversion.convert_to_tsobject\u001b[0;34m()\u001b[0m\n",
      "\u001b[0;32mpandas/_libs/tslibs/conversion.pyx\u001b[0m in \u001b[0;36mpandas._libs.tslibs.conversion._convert_str_to_tsobject\u001b[0;34m()\u001b[0m\n",
      "\u001b[0;31mTypeError\u001b[0m: Expected unicode, got numpy.str_"
     ]
    }
   ],
   "source": [
    "[pd.Timestamp(x) for x in arr]"
   ]
  },
  {
   "cell_type": "code",
   "execution_count": 164,
   "id": "289fd050-27bb-4558-a6e2-ff7a8a3ea314",
   "metadata": {},
   "outputs": [
    {
     "name": "stderr",
     "output_type": "stream",
     "text": [
      "[nltk_data] Downloading package punkt to /Users/juanluis/nltk_data...\n",
      "[nltk_data]   Package punkt is already up-to-date!\n",
      "[nltk_data] Downloading package stopwords to\n",
      "[nltk_data]     /Users/juanluis/nltk_data...\n",
      "[nltk_data]   Package stopwords is already up-to-date!\n"
     ]
    }
   ],
   "source": [
    "import nltk\n",
    "from nltk.corpus import stopwords\n",
    "from nltk.tokenize import word_tokenize\n",
    "nltk.download('punkt')\n",
    "nltk.download('stopwords')\n",
    "stop_words = stopwords.words('english')"
   ]
  },
  {
   "cell_type": "code",
   "execution_count": 165,
   "id": "c70802d5-1702-409e-8305-5e1464e6d413",
   "metadata": {},
   "outputs": [
    {
     "ename": "NameError",
     "evalue": "name 'mtrx' is not defined",
     "output_type": "error",
     "traceback": [
      "\u001b[0;31m---------------------------------------\u001b[0m",
      "\u001b[0;31mNameError\u001b[0mTraceback (most recent call last)",
      "\u001b[0;32m<ipython-input-165-9c77639222d6>\u001b[0m in \u001b[0;36m<module>\u001b[0;34m\u001b[0m\n\u001b[0;32m----> 1\u001b[0;31m \u001b[0mmtrx\u001b[0m\u001b[0;34m\u001b[0m\u001b[0;34m\u001b[0m\u001b[0m\n\u001b[0m",
      "\u001b[0;31mNameError\u001b[0m: name 'mtrx' is not defined"
     ]
    }
   ],
   "source": [
    "mtrx"
   ]
  },
  {
   "cell_type": "code",
   "execution_count": null,
   "id": "2aad85e6-94b5-4f2c-957c-cedecf3dec5f",
   "metadata": {},
   "outputs": [],
   "source": [
    "from nltk.tokenize import word_tokenize\n",
    "words = word_tokenize()"
   ]
  },
  {
   "cell_type": "code",
   "execution_count": null,
   "id": "39e5ade8-a6b7-49d0-a7ee-ee2198f2f329",
   "metadata": {},
   "outputs": [],
   "source": [
    "new_words= [word for word in words if word.isalnum()]"
   ]
  },
  {
   "cell_type": "code",
   "execution_count": 157,
   "id": "cf7a1840-1eed-4ee8-b1cd-0edf7f5dfa70",
   "metadata": {},
   "outputs": [],
   "source": [
    "text = 'If you tell the truth you don’t have to remember anything.'"
   ]
  },
  {
   "cell_type": "code",
   "execution_count": 162,
   "id": "2c11241d-1fbd-4854-9870-4256f220ef0f",
   "metadata": {},
   "outputs": [
    {
     "data": {
      "text/html": [
       "<div>\n",
       "<style scoped>\n",
       "    .dataframe tbody tr th:only-of-type {\n",
       "        vertical-align: middle;\n",
       "    }\n",
       "\n",
       "    .dataframe tbody tr th {\n",
       "        vertical-align: top;\n",
       "    }\n",
       "\n",
       "    .dataframe thead th {\n",
       "        text-align: right;\n",
       "    }\n",
       "</style>\n",
       "<table border=\"1\" class=\"dataframe\">\n",
       "  <thead>\n",
       "    <tr style=\"text-align: right;\">\n",
       "      <th></th>\n",
       "      <th>column_0_int</th>\n",
       "      <th>column_1_int</th>\n",
       "      <th>column_2_cat</th>\n",
       "      <th>is_outlier</th>\n",
       "    </tr>\n",
       "  </thead>\n",
       "  <tbody>\n",
       "    <tr>\n",
       "      <th>0</th>\n",
       "      <td>3</td>\n",
       "      <td>6</td>\n",
       "      <td>John</td>\n",
       "      <td>True</td>\n",
       "    </tr>\n",
       "    <tr>\n",
       "      <th>1</th>\n",
       "      <td>8</td>\n",
       "      <td>7</td>\n",
       "      <td>Barbara</td>\n",
       "      <td>True</td>\n",
       "    </tr>\n",
       "    <tr>\n",
       "      <th>2</th>\n",
       "      <td>7</td>\n",
       "      <td>5</td>\n",
       "      <td>Richard</td>\n",
       "      <td>True</td>\n",
       "    </tr>\n",
       "    <tr>\n",
       "      <th>3</th>\n",
       "      <td>6</td>\n",
       "      <td>9</td>\n",
       "      <td>Linda</td>\n",
       "      <td>True</td>\n",
       "    </tr>\n",
       "    <tr>\n",
       "      <th>4</th>\n",
       "      <td>0</td>\n",
       "      <td>1</td>\n",
       "      <td>Susan</td>\n",
       "      <td>False</td>\n",
       "    </tr>\n",
       "    <tr>\n",
       "      <th>5</th>\n",
       "      <td>9</td>\n",
       "      <td>4</td>\n",
       "      <td>Barbara</td>\n",
       "      <td>True</td>\n",
       "    </tr>\n",
       "    <tr>\n",
       "      <th>6</th>\n",
       "      <td>6</td>\n",
       "      <td>0</td>\n",
       "      <td>Linda</td>\n",
       "      <td>True</td>\n",
       "    </tr>\n",
       "    <tr>\n",
       "      <th>7</th>\n",
       "      <td>8</td>\n",
       "      <td>6</td>\n",
       "      <td>John</td>\n",
       "      <td>True</td>\n",
       "    </tr>\n",
       "    <tr>\n",
       "      <th>8</th>\n",
       "      <td>4</td>\n",
       "      <td>3</td>\n",
       "      <td>John</td>\n",
       "      <td>True</td>\n",
       "    </tr>\n",
       "    <tr>\n",
       "      <th>9</th>\n",
       "      <td>2</td>\n",
       "      <td>0</td>\n",
       "      <td>Barbara</td>\n",
       "      <td>False</td>\n",
       "    </tr>\n",
       "  </tbody>\n",
       "</table>\n",
       "</div>"
      ],
      "text/plain": [
       "   column_0_int  column_1_int column_2_cat  is_outlier\n",
       "0             3             6         John        True\n",
       "1             8             7      Barbara        True\n",
       "2             7             5      Richard        True\n",
       "3             6             9        Linda        True\n",
       "4             0             1        Susan       False\n",
       "5             9             4      Barbara        True\n",
       "6             6             0        Linda        True\n",
       "7             8             6         John        True\n",
       "8             4             3         John        True\n",
       "9             2             0      Barbara       False"
      ]
     },
     "execution_count": 162,
     "metadata": {},
     "output_type": "execute_result"
    }
   ],
   "source": [
    "df.groupby(\"\")"
   ]
  },
  {
   "cell_type": "code",
   "execution_count": 160,
   "id": "d17210f0-041a-4aef-b299-d8ef98b3d822",
   "metadata": {},
   "outputs": [],
   "source": [
    "tokenized = word_tokenize(text)"
   ]
  },
  {
   "cell_type": "code",
   "execution_count": 161,
   "id": "b6582559-41ec-4f6d-87c4-50e82c1e4bf9",
   "metadata": {},
   "outputs": [
    {
     "data": {
      "text/plain": [
       "'If tell truth ’ remember anything .'"
      ]
     },
     "execution_count": 161,
     "metadata": {},
     "output_type": "execute_result"
    }
   ],
   "source": [
    "filtered = []\n",
    "for t in tokenized:\n",
    "    if t in stop_words:\n",
    "        pass\n",
    "    else:\n",
    "        filtered.append(t)\n",
    "        \n",
    "\" \".join(filtered)"
   ]
  },
  {
   "cell_type": "code",
   "execution_count": null,
   "id": "a16ccd40-5319-41b9-9cd3-ace69ea07e1d",
   "metadata": {},
   "outputs": [],
   "source": [
    "from datetime import tim"
   ]
  },
  {
   "cell_type": "code",
   "execution_count": 145,
   "id": "cf43e24f-31a2-46c2-8f45-4fd633771c99",
   "metadata": {},
   "outputs": [],
   "source": [
    "index = pd.to_datetime(arr)"
   ]
  },
  {
   "cell_type": "code",
   "execution_count": 151,
   "id": "4181359f-30fb-45bc-9cd9-7c7e2782395a",
   "metadata": {},
   "outputs": [],
   "source": [
    "solution = [pd.Timestamp(i) for i in pd.to_datetime(arr)]"
   ]
  },
  {
   "cell_type": "code",
   "execution_count": 152,
   "id": "b48e144d-c94c-41ef-abc4-99f5ee59c342",
   "metadata": {},
   "outputs": [
    {
     "data": {
      "text/plain": [
       "[Timestamp('2005-03-04 23:35:00'),\n",
       " Timestamp('2010-05-23 00:01:00'),\n",
       " Timestamp('2009-04-09 21:09:00')]"
      ]
     },
     "execution_count": 152,
     "metadata": {},
     "output_type": "execute_result"
    }
   ],
   "source": [
    "solution"
   ]
  },
  {
   "cell_type": "code",
   "execution_count": 149,
   "id": "ccffea85-26c1-44ba-87b9-48e462d7c4fc",
   "metadata": {},
   "outputs": [],
   "source": [
    "for i in index:\n",
    "    pd.Timestamp(i)"
   ]
  },
  {
   "cell_type": "code",
   "execution_count": 133,
   "id": "ea4d16c0-2946-49ef-a249-03286d70669a",
   "metadata": {},
   "outputs": [
    {
     "ename": "ImportError",
     "evalue": "cannot import name 'timestamp' from 'datetime' (/Users/juanluis/opt/anaconda3/envs/etl/lib/python3.8/datetime.py)",
     "output_type": "error",
     "traceback": [
      "\u001b[0;31m---------------------------------------\u001b[0m",
      "\u001b[0;31mImportError\u001b[0mTraceback (most recent call last)",
      "\u001b[0;32m<ipython-input-133-eb8fdbece884>\u001b[0m in \u001b[0;36m<module>\u001b[0;34m\u001b[0m\n\u001b[0;32m----> 1\u001b[0;31m \u001b[0;32mfrom\u001b[0m \u001b[0mdatetime\u001b[0m \u001b[0;32mimport\u001b[0m \u001b[0mtimestamp\u001b[0m\u001b[0;34m\u001b[0m\u001b[0;34m\u001b[0m\u001b[0m\n\u001b[0m",
      "\u001b[0;31mImportError\u001b[0m: cannot import name 'timestamp' from 'datetime' (/Users/juanluis/opt/anaconda3/envs/etl/lib/python3.8/datetime.py)"
     ]
    }
   ],
   "source": [
    "from datetime import timestamp\n"
   ]
  },
  {
   "cell_type": "code",
   "execution_count": 132,
   "id": "81d4868b-1a61-463e-a5aa-e938a2d914b1",
   "metadata": {},
   "outputs": [
    {
     "ename": "ValueError",
     "evalue": "only leading negative signs are allowed",
     "output_type": "error",
     "traceback": [
      "\u001b[0;31m---------------------------------------\u001b[0m",
      "\u001b[0;31mValueError\u001b[0mTraceback (most recent call last)",
      "\u001b[0;32mpandas/_libs/tslibs/timedeltas.pyx\u001b[0m in \u001b[0;36mpandas._libs.tslibs.timedeltas.array_to_timedelta64\u001b[0;34m()\u001b[0m\n",
      "\u001b[0;32mpandas/_libs/tslibs/timedeltas.pyx\u001b[0m in \u001b[0;36mpandas._libs.tslibs.timedeltas.parse_timedelta_string\u001b[0;34m()\u001b[0m\n",
      "\u001b[0;31mValueError\u001b[0m: only leading negative signs are allowed",
      "\nDuring handling of the above exception, another exception occurred:\n",
      "\u001b[0;31mValueError\u001b[0mTraceback (most recent call last)",
      "\u001b[0;32m<ipython-input-132-c6afb4b7e83e>\u001b[0m in \u001b[0;36m<module>\u001b[0;34m\u001b[0m\n\u001b[0;32m----> 1\u001b[0;31m \u001b[0mpd\u001b[0m\u001b[0;34m.\u001b[0m\u001b[0mto_timedelta\u001b[0m\u001b[0;34m(\u001b[0m\u001b[0mtest_array\u001b[0m\u001b[0;34m)\u001b[0m\u001b[0;34m\u001b[0m\u001b[0;34m\u001b[0m\u001b[0m\n\u001b[0m",
      "\u001b[0;32m~/opt/anaconda3/envs/etl/lib/python3.8/site-packages/pandas/core/tools/timedeltas.py\u001b[0m in \u001b[0;36mto_timedelta\u001b[0;34m(arg, unit, errors)\u001b[0m\n\u001b[1;32m    120\u001b[0m         \u001b[0marg\u001b[0m \u001b[0;34m=\u001b[0m \u001b[0marg\u001b[0m\u001b[0;34m.\u001b[0m\u001b[0mitem\u001b[0m\u001b[0;34m(\u001b[0m\u001b[0;34m)\u001b[0m\u001b[0;34m\u001b[0m\u001b[0;34m\u001b[0m\u001b[0m\n\u001b[1;32m    121\u001b[0m     \u001b[0;32melif\u001b[0m \u001b[0mis_list_like\u001b[0m\u001b[0;34m(\u001b[0m\u001b[0marg\u001b[0m\u001b[0;34m)\u001b[0m \u001b[0;32mand\u001b[0m \u001b[0mgetattr\u001b[0m\u001b[0;34m(\u001b[0m\u001b[0marg\u001b[0m\u001b[0;34m,\u001b[0m \u001b[0;34m\"ndim\"\u001b[0m\u001b[0;34m,\u001b[0m \u001b[0;36m1\u001b[0m\u001b[0;34m)\u001b[0m \u001b[0;34m==\u001b[0m \u001b[0;36m1\u001b[0m\u001b[0;34m:\u001b[0m\u001b[0;34m\u001b[0m\u001b[0;34m\u001b[0m\u001b[0m\n\u001b[0;32m--> 122\u001b[0;31m         \u001b[0;32mreturn\u001b[0m \u001b[0m_convert_listlike\u001b[0m\u001b[0;34m(\u001b[0m\u001b[0marg\u001b[0m\u001b[0;34m,\u001b[0m \u001b[0munit\u001b[0m\u001b[0;34m=\u001b[0m\u001b[0munit\u001b[0m\u001b[0;34m,\u001b[0m \u001b[0merrors\u001b[0m\u001b[0;34m=\u001b[0m\u001b[0merrors\u001b[0m\u001b[0;34m)\u001b[0m\u001b[0;34m\u001b[0m\u001b[0;34m\u001b[0m\u001b[0m\n\u001b[0m\u001b[1;32m    123\u001b[0m     \u001b[0;32melif\u001b[0m \u001b[0mgetattr\u001b[0m\u001b[0;34m(\u001b[0m\u001b[0marg\u001b[0m\u001b[0;34m,\u001b[0m \u001b[0;34m\"ndim\"\u001b[0m\u001b[0;34m,\u001b[0m \u001b[0;36m1\u001b[0m\u001b[0;34m)\u001b[0m \u001b[0;34m>\u001b[0m \u001b[0;36m1\u001b[0m\u001b[0;34m:\u001b[0m\u001b[0;34m\u001b[0m\u001b[0;34m\u001b[0m\u001b[0m\n\u001b[1;32m    124\u001b[0m         raise TypeError(\n",
      "\u001b[0;32m~/opt/anaconda3/envs/etl/lib/python3.8/site-packages/pandas/core/tools/timedeltas.py\u001b[0m in \u001b[0;36m_convert_listlike\u001b[0;34m(arg, unit, errors, name)\u001b[0m\n\u001b[1;32m    159\u001b[0m \u001b[0;34m\u001b[0m\u001b[0m\n\u001b[1;32m    160\u001b[0m     \u001b[0;32mtry\u001b[0m\u001b[0;34m:\u001b[0m\u001b[0;34m\u001b[0m\u001b[0;34m\u001b[0m\u001b[0m\n\u001b[0;32m--> 161\u001b[0;31m         \u001b[0mvalue\u001b[0m \u001b[0;34m=\u001b[0m \u001b[0msequence_to_td64ns\u001b[0m\u001b[0;34m(\u001b[0m\u001b[0marg\u001b[0m\u001b[0;34m,\u001b[0m \u001b[0munit\u001b[0m\u001b[0;34m=\u001b[0m\u001b[0munit\u001b[0m\u001b[0;34m,\u001b[0m \u001b[0merrors\u001b[0m\u001b[0;34m=\u001b[0m\u001b[0merrors\u001b[0m\u001b[0;34m,\u001b[0m \u001b[0mcopy\u001b[0m\u001b[0;34m=\u001b[0m\u001b[0;32mFalse\u001b[0m\u001b[0;34m)\u001b[0m\u001b[0;34m[\u001b[0m\u001b[0;36m0\u001b[0m\u001b[0;34m]\u001b[0m\u001b[0;34m\u001b[0m\u001b[0;34m\u001b[0m\u001b[0m\n\u001b[0m\u001b[1;32m    162\u001b[0m     \u001b[0;32mexcept\u001b[0m \u001b[0mValueError\u001b[0m\u001b[0;34m:\u001b[0m\u001b[0;34m\u001b[0m\u001b[0;34m\u001b[0m\u001b[0m\n\u001b[1;32m    163\u001b[0m         \u001b[0;32mif\u001b[0m \u001b[0merrors\u001b[0m \u001b[0;34m==\u001b[0m \u001b[0;34m\"ignore\"\u001b[0m\u001b[0;34m:\u001b[0m\u001b[0;34m\u001b[0m\u001b[0;34m\u001b[0m\u001b[0m\n",
      "\u001b[0;32m~/opt/anaconda3/envs/etl/lib/python3.8/site-packages/pandas/core/arrays/timedeltas.py\u001b[0m in \u001b[0;36msequence_to_td64ns\u001b[0;34m(data, copy, unit, errors)\u001b[0m\n\u001b[1;32m    955\u001b[0m     \u001b[0;32mif\u001b[0m \u001b[0mis_object_dtype\u001b[0m\u001b[0;34m(\u001b[0m\u001b[0mdata\u001b[0m\u001b[0;34m.\u001b[0m\u001b[0mdtype\u001b[0m\u001b[0;34m)\u001b[0m \u001b[0;32mor\u001b[0m \u001b[0mis_string_dtype\u001b[0m\u001b[0;34m(\u001b[0m\u001b[0mdata\u001b[0m\u001b[0;34m.\u001b[0m\u001b[0mdtype\u001b[0m\u001b[0;34m)\u001b[0m\u001b[0;34m:\u001b[0m\u001b[0;34m\u001b[0m\u001b[0;34m\u001b[0m\u001b[0m\n\u001b[1;32m    956\u001b[0m         \u001b[0;31m# no need to make a copy, need to convert if string-dtyped\u001b[0m\u001b[0;34m\u001b[0m\u001b[0;34m\u001b[0m\u001b[0;34m\u001b[0m\u001b[0m\n\u001b[0;32m--> 957\u001b[0;31m         \u001b[0mdata\u001b[0m \u001b[0;34m=\u001b[0m \u001b[0mobjects_to_td64ns\u001b[0m\u001b[0;34m(\u001b[0m\u001b[0mdata\u001b[0m\u001b[0;34m,\u001b[0m \u001b[0munit\u001b[0m\u001b[0;34m=\u001b[0m\u001b[0munit\u001b[0m\u001b[0;34m,\u001b[0m \u001b[0merrors\u001b[0m\u001b[0;34m=\u001b[0m\u001b[0merrors\u001b[0m\u001b[0;34m)\u001b[0m\u001b[0;34m\u001b[0m\u001b[0;34m\u001b[0m\u001b[0m\n\u001b[0m\u001b[1;32m    958\u001b[0m         \u001b[0mcopy\u001b[0m \u001b[0;34m=\u001b[0m \u001b[0;32mFalse\u001b[0m\u001b[0;34m\u001b[0m\u001b[0;34m\u001b[0m\u001b[0m\n\u001b[1;32m    959\u001b[0m \u001b[0;34m\u001b[0m\u001b[0m\n",
      "\u001b[0;32m~/opt/anaconda3/envs/etl/lib/python3.8/site-packages/pandas/core/arrays/timedeltas.py\u001b[0m in \u001b[0;36mobjects_to_td64ns\u001b[0;34m(data, unit, errors)\u001b[0m\n\u001b[1;32m   1065\u001b[0m     \u001b[0mvalues\u001b[0m \u001b[0;34m=\u001b[0m \u001b[0mnp\u001b[0m\u001b[0;34m.\u001b[0m\u001b[0marray\u001b[0m\u001b[0;34m(\u001b[0m\u001b[0mdata\u001b[0m\u001b[0;34m,\u001b[0m \u001b[0mdtype\u001b[0m\u001b[0;34m=\u001b[0m\u001b[0mnp\u001b[0m\u001b[0;34m.\u001b[0m\u001b[0mobject_\u001b[0m\u001b[0;34m,\u001b[0m \u001b[0mcopy\u001b[0m\u001b[0;34m=\u001b[0m\u001b[0;32mFalse\u001b[0m\u001b[0;34m)\u001b[0m\u001b[0;34m\u001b[0m\u001b[0;34m\u001b[0m\u001b[0m\n\u001b[1;32m   1066\u001b[0m \u001b[0;34m\u001b[0m\u001b[0m\n\u001b[0;32m-> 1067\u001b[0;31m     \u001b[0mresult\u001b[0m \u001b[0;34m=\u001b[0m \u001b[0marray_to_timedelta64\u001b[0m\u001b[0;34m(\u001b[0m\u001b[0mvalues\u001b[0m\u001b[0;34m,\u001b[0m \u001b[0munit\u001b[0m\u001b[0;34m=\u001b[0m\u001b[0munit\u001b[0m\u001b[0;34m,\u001b[0m \u001b[0merrors\u001b[0m\u001b[0;34m=\u001b[0m\u001b[0merrors\u001b[0m\u001b[0;34m)\u001b[0m\u001b[0;34m\u001b[0m\u001b[0;34m\u001b[0m\u001b[0m\n\u001b[0m\u001b[1;32m   1068\u001b[0m     \u001b[0;32mreturn\u001b[0m \u001b[0mresult\u001b[0m\u001b[0;34m.\u001b[0m\u001b[0mview\u001b[0m\u001b[0;34m(\u001b[0m\u001b[0;34m\"timedelta64[ns]\"\u001b[0m\u001b[0;34m)\u001b[0m\u001b[0;34m\u001b[0m\u001b[0;34m\u001b[0m\u001b[0m\n\u001b[1;32m   1069\u001b[0m \u001b[0;34m\u001b[0m\u001b[0m\n",
      "\u001b[0;32mpandas/_libs/tslibs/timedeltas.pyx\u001b[0m in \u001b[0;36mpandas._libs.tslibs.timedeltas.array_to_timedelta64\u001b[0;34m()\u001b[0m\n",
      "\u001b[0;32mpandas/_libs/tslibs/timedeltas.pyx\u001b[0m in \u001b[0;36mpandas._libs.tslibs.timedeltas.array_to_timedelta64\u001b[0;34m()\u001b[0m\n",
      "\u001b[0;32mpandas/_libs/tslibs/timedeltas.pyx\u001b[0m in \u001b[0;36mpandas._libs.tslibs.timedeltas.convert_to_timedelta64\u001b[0;34m()\u001b[0m\n",
      "\u001b[0;32mpandas/_libs/tslibs/timedeltas.pyx\u001b[0m in \u001b[0;36mpandas._libs.tslibs.timedeltas.parse_timedelta_string\u001b[0;34m()\u001b[0m\n",
      "\u001b[0;31mValueError\u001b[0m: only leading negative signs are allowed"
     ]
    }
   ],
   "source": [
    "pd.to_timedelta(test_array)"
   ]
  },
  {
   "cell_type": "code",
   "execution_count": 126,
   "id": "a7af3956-222f-4c50-abe6-5cfbf136e1ed",
   "metadata": {},
   "outputs": [
    {
     "data": {
      "text/plain": [
       "array([[  2.2,  87.4,  42.5],\n",
       "       [ 55.2,  20. , -19.7],\n",
       "       [-12.3,  90.6,  78. ]])"
      ]
     },
     "execution_count": 126,
     "metadata": {},
     "output_type": "execute_result"
    }
   ],
   "source": [
    "test_matrix - matrix_to_subtract"
   ]
  },
  {
   "cell_type": "code",
   "execution_count": 2,
   "id": "b029c0ba-07e0-49f1-a808-9ac1b1165c28",
   "metadata": {},
   "outputs": [],
   "source": [
    "a = [4,6,7,5,8,7,5]\n",
    "b = [3,1,5,-1,7,-2,8]"
   ]
  },
  {
   "cell_type": "code",
   "execution_count": 5,
   "id": "f711e8a0-1205-43c2-a22b-890c61157367",
   "metadata": {},
   "outputs": [],
   "source": [
    "m_a = np.mean(a)\n",
    "m_b = np.mean(b)"
   ]
  },
  {
   "cell_type": "code",
   "execution_count": 6,
   "id": "32542188-5f5a-4d7e-863f-bfeb451f23b0",
   "metadata": {},
   "outputs": [],
   "source": [
    "from scipy import stats"
   ]
  },
  {
   "cell_type": "code",
   "execution_count": 7,
   "id": "b3739c36-897d-4075-8fb4-6d5e84dc190d",
   "metadata": {},
   "outputs": [
    {
     "data": {
      "text/plain": [
       "Ttest_indResult(statistic=1.9250668437592438, pvalue=0.07824926412779604)"
      ]
     },
     "execution_count": 7,
     "metadata": {},
     "output_type": "execute_result"
    }
   ],
   "source": [
    "stats.ttest_ind(a, b)"
   ]
  },
  {
   "cell_type": "code",
   "execution_count": 22,
   "id": "f4de083f-a725-4a3c-bfce-81e2087dc370",
   "metadata": {},
   "outputs": [],
   "source": [
    "a, b = 2,6\n",
    "todos = [a,b,7,8,12]"
   ]
  },
  {
   "cell_type": "code",
   "execution_count": 23,
   "id": "2acb1447-7141-4655-9dae-f25556919d5b",
   "metadata": {},
   "outputs": [
    {
     "name": "stdout",
     "output_type": "stream",
     "text": [
      "7.0\n",
      "7.0\n"
     ]
    },
    {
     "data": {
      "text/plain": [
       "10"
      ]
     },
     "execution_count": 23,
     "metadata": {},
     "output_type": "execute_result"
    }
   ],
   "source": [
    "print(np.median(todos))\n",
    "print(np.mean(todos))\n",
    "\n",
    "max(todos) - min(todos)"
   ]
  },
  {
   "cell_type": "code",
   "execution_count": 38,
   "id": "d54de690-0b61-4095-968b-f349c2e16a21",
   "metadata": {},
   "outputs": [],
   "source": [
    "from scipy.stats import binom, norm"
   ]
  },
  {
   "cell_type": "code",
   "execution_count": 39,
   "id": "ebb92120-d296-4aac-b597-76ffb4c67709",
   "metadata": {},
   "outputs": [],
   "source": [
    "n_dist = norm(6.5,1.2)"
   ]
  },
  {
   "cell_type": "code",
   "execution_count": 52,
   "id": "2c887592-c262-4dd8-8aef-0a105dfb1148",
   "metadata": {},
   "outputs": [
    {
     "data": {
      "text/plain": [
       "0.04550026389635839"
      ]
     },
     "execution_count": 52,
     "metadata": {},
     "output_type": "execute_result"
    }
   ],
   "source": [
    "n_dist.cdf(4.1) + (1 - n_dist.cdf(8.9))"
   ]
  },
  {
   "cell_type": "code",
   "execution_count": 37,
   "id": "307b901b-dff9-417e-81a7-636eb71682a1",
   "metadata": {},
   "outputs": [
    {
     "data": {
      "text/plain": [
       "2.25"
      ]
     },
     "execution_count": 37,
     "metadata": {},
     "output_type": "execute_result"
    }
   ],
   "source": [
    "n*p"
   ]
  },
  {
   "cell_type": "code",
   "execution_count": 53,
   "id": "02cb4f77-57e6-4f25-96c0-c0b988087d94",
   "metadata": {},
   "outputs": [],
   "source": [
    "n, p = 5, 0.45"
   ]
  },
  {
   "cell_type": "code",
   "execution_count": 54,
   "id": "cf3239a8-3319-49eb-8cc0-61e8a1ebe548",
   "metadata": {},
   "outputs": [],
   "source": [
    "b_dist = binom(n = 5, p = 0.45)"
   ]
  },
  {
   "cell_type": "code",
   "execution_count": 69,
   "id": "74b552ed-d59c-4da4-8a1f-922dd2fec382",
   "metadata": {},
   "outputs": [
    {
     "data": {
      "text/plain": [
       "1.0"
      ]
     },
     "execution_count": 69,
     "metadata": {},
     "output_type": "execute_result"
    }
   ],
   "source": [
    "b_dist.cdf(5)"
   ]
  },
  {
   "cell_type": "code",
   "execution_count": 71,
   "id": "0248ada0-34c3-4db0-b1f7-dc353eeae7ba",
   "metadata": {},
   "outputs": [
    {
     "data": {
      "text/plain": [
       "0.9815471875"
      ]
     },
     "execution_count": 71,
     "metadata": {},
     "output_type": "execute_result"
    }
   ],
   "source": [
    "binom.cdf(k=4, n=5, p=0.45)"
   ]
  },
  {
   "cell_type": "code",
   "execution_count": 33,
   "id": "5f1eb94f-026a-424c-a90e-57b17fc3b53b",
   "metadata": {},
   "outputs": [
    {
     "data": {
      "text/plain": [
       "1.0"
      ]
     },
     "execution_count": 33,
     "metadata": {},
     "output_type": "execute_result"
    }
   ],
   "source": [
    "b_dist.cdf(5)"
   ]
  },
  {
   "cell_type": "code",
   "execution_count": 28,
   "id": "66bcea36-2a45-4899-9de4-6684cf698c66",
   "metadata": {},
   "outputs": [
    {
     "ename": "AttributeError",
     "evalue": "'binom_gen' object has no attribute 'pdf'",
     "output_type": "error",
     "traceback": [
      "\u001b[0;31m---------------------------------------\u001b[0m",
      "\u001b[0;31mAttributeError\u001b[0mTraceback (most recent call last)",
      "\u001b[0;32m<ipython-input-28-048cdff35a11>\u001b[0m in \u001b[0;36m<module>\u001b[0;34m\u001b[0m\n\u001b[0;32m----> 1\u001b[0;31m \u001b[0mb_dist\u001b[0m\u001b[0;34m.\u001b[0m\u001b[0mpdf\u001b[0m\u001b[0;34m(\u001b[0m\u001b[0;36m5\u001b[0m\u001b[0;34m)\u001b[0m\u001b[0;34m\u001b[0m\u001b[0;34m\u001b[0m\u001b[0m\n\u001b[0m",
      "\u001b[0;32m~/opt/anaconda3/envs/etl/lib/python3.8/site-packages/scipy/stats/_distn_infrastructure.py\u001b[0m in \u001b[0;36mpdf\u001b[0;34m(self, x)\u001b[0m\n\u001b[1;32m    449\u001b[0m \u001b[0;34m\u001b[0m\u001b[0m\n\u001b[1;32m    450\u001b[0m     \u001b[0;32mdef\u001b[0m \u001b[0mpdf\u001b[0m\u001b[0;34m(\u001b[0m\u001b[0mself\u001b[0m\u001b[0;34m,\u001b[0m \u001b[0mx\u001b[0m\u001b[0;34m)\u001b[0m\u001b[0;34m:\u001b[0m   \u001b[0;31m# raises AttributeError in frozen discrete distribution\u001b[0m\u001b[0;34m\u001b[0m\u001b[0;34m\u001b[0m\u001b[0m\n\u001b[0;32m--> 451\u001b[0;31m         \u001b[0;32mreturn\u001b[0m \u001b[0mself\u001b[0m\u001b[0;34m.\u001b[0m\u001b[0mdist\u001b[0m\u001b[0;34m.\u001b[0m\u001b[0mpdf\u001b[0m\u001b[0;34m(\u001b[0m\u001b[0mx\u001b[0m\u001b[0;34m,\u001b[0m \u001b[0;34m*\u001b[0m\u001b[0mself\u001b[0m\u001b[0;34m.\u001b[0m\u001b[0margs\u001b[0m\u001b[0;34m,\u001b[0m \u001b[0;34m**\u001b[0m\u001b[0mself\u001b[0m\u001b[0;34m.\u001b[0m\u001b[0mkwds\u001b[0m\u001b[0;34m)\u001b[0m\u001b[0;34m\u001b[0m\u001b[0;34m\u001b[0m\u001b[0m\n\u001b[0m\u001b[1;32m    452\u001b[0m \u001b[0;34m\u001b[0m\u001b[0m\n\u001b[1;32m    453\u001b[0m     \u001b[0;32mdef\u001b[0m \u001b[0mlogpdf\u001b[0m\u001b[0;34m(\u001b[0m\u001b[0mself\u001b[0m\u001b[0;34m,\u001b[0m \u001b[0mx\u001b[0m\u001b[0;34m)\u001b[0m\u001b[0;34m:\u001b[0m\u001b[0;34m\u001b[0m\u001b[0;34m\u001b[0m\u001b[0m\n",
      "\u001b[0;31mAttributeError\u001b[0m: 'binom_gen' object has no attribute 'pdf'"
     ]
    }
   ],
   "source": [
    "b_dist.pdf(5)"
   ]
  },
  {
   "cell_type": "code",
   "execution_count": 83,
   "id": "559d6ec0-7c14-4e59-ab05-28421a983fc0",
   "metadata": {},
   "outputs": [],
   "source": [
    "import numpy as np\n",
    "import matplotlib.pyplot as plt\n",
    "import seaborn as sns\n",
    "# Input variables\n",
    "# Number of trials\n",
    "trials = 30000\n",
    "# Number of independent experiments in each trial\n",
    "n = 5\n",
    "# Probability of success for each experiment\n",
    "p = 0.45\n",
    "# Function that runs our coin toss trials\n",
    "# heads is a list of the number of successes from each trial of n experiments\n",
    "def run_binom(trials, n, p):\n",
    "    heads = []\n",
    "    for i in range(trials):\n",
    "        tosses = [np.random.random() for i in range(n)]\n",
    "        heads.append(len([i for i in tosses if i>=0.50]))\n",
    "    return heads\n",
    "# Run the function\n",
    "heads = run_binom(trials, n, p)\n"
   ]
  },
  {
   "cell_type": "code",
   "execution_count": 90,
   "id": "e0d6296f-2a5a-4778-b285-059861785d1b",
   "metadata": {},
   "outputs": [
    {
     "data": {
      "text/plain": [
       "-2.0"
      ]
     },
     "execution_count": 90,
     "metadata": {},
     "output_type": "execute_result"
    }
   ],
   "source": [
    "(80 -100)/10\n"
   ]
  },
  {
   "cell_type": "code",
   "execution_count": 97,
   "id": "b0f32eea-25f8-4187-b2fa-c9deb53155cf",
   "metadata": {},
   "outputs": [],
   "source": [
    "predicted = [1,0,0,1]\n",
    "actual = [0,1,0,1]"
   ]
  },
  {
   "cell_type": "code",
   "execution_count": 101,
   "id": "d14bba95-d969-49cf-a6e1-37849a9ea5f4",
   "metadata": {},
   "outputs": [
    {
     "data": {
      "text/plain": [
       "False"
      ]
     },
     "execution_count": 101,
     "metadata": {},
     "output_type": "execute_result"
    }
   ],
   "source": [
    "bool(0)"
   ]
  },
  {
   "cell_type": "code",
   "execution_count": 102,
   "id": "064e5846-c291-48ec-bf18-2453a5e627d5",
   "metadata": {},
   "outputs": [],
   "source": [
    "def f1_score(predicted, actual):\n",
    "    tp, fp, fn = 0, 0, 0\n",
    "    for x, y in zip(predicted, actual):\n",
    "        if x == y == 1:\n",
    "            tp +=1\n",
    "        elif x == 1 and y == 0:\n",
    "            fp += 1\n",
    "        elif x == 0 and y == 1:\n",
    "            fn += 1\n",
    "    return round(tp/(tp + 0.5*(fp + fn)),2)\n"
   ]
  },
  {
   "cell_type": "code",
   "execution_count": 167,
   "id": "af1ccf6d-4ce6-4693-89fc-ef2b4fa20d5d",
   "metadata": {},
   "outputs": [],
   "source": [
    "mtrx = np.array([[86, 79, 81, 85],\n",
    "\t\t\t\t\t\t[92, 85, 87, 87],\n",
    "\t\t\t\t\t\t[73, 77, 94, 83]])"
   ]
  },
  {
   "cell_type": "code",
   "execution_count": 169,
   "id": "a6a10e19-df06-4e86-8316-f890f7300b2b",
   "metadata": {},
   "outputs": [
    {
     "data": {
      "text/plain": [
       "array([[ 94.6,  86.9,  89.1,  93.5],\n",
       "       [101.2,  93.5,  95.7,  95.7],\n",
       "       [ 80.3,  84.7, 103.4,  91.3]])"
      ]
     },
     "execution_count": 169,
     "metadata": {},
     "output_type": "execute_result"
    }
   ],
   "source": [
    "mtrx + mtrx*0.1"
   ]
  },
  {
   "cell_type": "code",
   "execution_count": 114,
   "id": "c29cd8dc-bbc6-4350-8300-2b3d7abb5a45",
   "metadata": {},
   "outputs": [],
   "source": [
    "df[\"is_outlier\"] = df.column_0_int > 2"
   ]
  },
  {
   "cell_type": "code",
   "execution_count": 116,
   "id": "e7a6a061-5127-4824-bdc2-483f16323cc9",
   "metadata": {},
   "outputs": [
    {
     "data": {
      "text/plain": [
       "0    1\n",
       "1    1\n",
       "2    1\n",
       "3    1\n",
       "4    0\n",
       "5    1\n",
       "6    1\n",
       "7    1\n",
       "8    1\n",
       "9    0\n",
       "Name: is_outlier, dtype: int64"
      ]
     },
     "execution_count": 116,
     "metadata": {},
     "output_type": "execute_result"
    }
   ],
   "source": [
    "df.is_outlier.astype(np.int64)"
   ]
  },
  {
   "cell_type": "code",
   "execution_count": 112,
   "id": "39f989b0-24d6-4d8b-a550-2901db9bb038",
   "metadata": {},
   "outputs": [],
   "source": [
    "df = generate_fake_dataframe(10, \"iic\")"
   ]
  },
  {
   "cell_type": "code",
   "execution_count": 103,
   "id": "fc47a52c-39a2-4d17-95bc-c88031dc4e05",
   "metadata": {},
   "outputs": [
    {
     "data": {
      "text/plain": [
       "0.5"
      ]
     },
     "execution_count": 103,
     "metadata": {},
     "output_type": "execute_result"
    }
   ],
   "source": [
    "f1_score(predicted, actual)"
   ]
  },
  {
   "cell_type": "code",
   "execution_count": 84,
   "id": "9ab5d3b8-974f-43f8-92be-c30df34fc8d6",
   "metadata": {},
   "outputs": [],
   "source": [
    "t = pd.value_counts(heads)"
   ]
  },
  {
   "cell_type": "code",
   "execution_count": 85,
   "id": "da05d5b6-8e5e-4082-84f4-cbc69b58e4e4",
   "metadata": {},
   "outputs": [
    {
     "data": {
      "text/plain": [
       "30000"
      ]
     },
     "execution_count": 85,
     "metadata": {},
     "output_type": "execute_result"
    }
   ],
   "source": [
    "sum(t)"
   ]
  },
  {
   "cell_type": "code",
   "execution_count": 86,
   "id": "7474c420-62b1-49c4-b2cb-9a6e2f477aaf",
   "metadata": {},
   "outputs": [
    {
     "data": {
      "text/plain": [
       "0.18883333333333333"
      ]
     },
     "execution_count": 86,
     "metadata": {},
     "output_type": "execute_result"
    }
   ],
   "source": [
    "(t.loc[4] + t.loc[5])/trials"
   ]
  },
  {
   "cell_type": "code",
   "execution_count": null,
   "id": "6086fc89-2a6f-42af-a42d-928160ab81d0",
   "metadata": {},
   "outputs": [],
   "source": []
  }
 ],
 "metadata": {
  "kernelspec": {
   "display_name": "etl",
   "language": "python",
   "name": "etl"
  },
  "language_info": {
   "codemirror_mode": {
    "name": "ipython",
    "version": 3
   },
   "file_extension": ".py",
   "mimetype": "text/x-python",
   "name": "python",
   "nbconvert_exporter": "python",
   "pygments_lexer": "ipython3",
   "version": "3.8.2"
  }
 },
 "nbformat": 4,
 "nbformat_minor": 5
}
