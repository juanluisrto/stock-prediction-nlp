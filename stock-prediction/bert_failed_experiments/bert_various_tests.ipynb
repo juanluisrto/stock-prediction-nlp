{
 "cells": [
  {
   "cell_type": "code",
   "execution_count": 1,
   "metadata": {},
   "outputs": [],
   "source": [
    "import tensorflow_hub as hub\n",
    "import tensorflow as tf\n",
    "import bert\n",
    "from tensorflow.keras.layers import Layer\n",
    "from tensorflow.keras.models import Model\n",
    "from utils import *"
   ]
  },
  {
   "cell_type": "code",
   "execution_count": 2,
   "metadata": {},
   "outputs": [],
   "source": [
    "import pandas as pd, numpy as np\n",
    "from matplotlib import pyplot as plt\n",
    "\n",
    "df_bitcoin = pd.read_csv(\"csv/articles_Bitcoin-Cryptocurrency_start=2019-01-01_end=2020-12-31.csv\", index_col = 0)\n",
    "df_tesla = pd.read_csv(\"csv/articles_Tesla-Elon_Musk_start=2019-01-01_end=2020-12-31.csv\", index_col = 0)\n",
    "df = df_bitcoin"
   ]
  },
  {
   "cell_type": "code",
   "execution_count": 3,
   "metadata": {},
   "outputs": [],
   "source": [
    "import yfinance as yf\n",
    "\n",
    "start = \"2019-01-01\"\n",
    "end   = \"2020-03-20\"\n",
    "\n",
    "stocks = [\"TSLA\"]\n",
    "keywords = {\"TSLA\": [\"Tesla\", \"Elon Musk\"]}\n",
    "stocks = [\"BTC-USD\"]\n",
    "keywords = {\"BTC-USD\" : [\"Bitcoin\", \"Cryptocurrency\"] }\n",
    "\n",
    "df_financial = yf.download(stocks, \n",
    "                     #period = \"1Y\",\n",
    "                      start= start, \n",
    "                      end= end, \n",
    "                      progress=False)\n",
    "prices = df_financial[\"Close\"]"
   ]
  },
  {
   "cell_type": "code",
   "execution_count": 4,
   "metadata": {},
   "outputs": [],
   "source": [
    "prices = pd.DataFrame(data = prices, index = pd.date_range(start,end)).fillna(method = \"bfill\")"
   ]
  },
  {
   "cell_type": "markdown",
   "metadata": {},
   "source": [
    "### Split sentences"
   ]
  },
  {
   "cell_type": "code",
   "execution_count": 5,
   "metadata": {},
   "outputs": [],
   "source": [
    "# titles and descriptions\n",
    "titles = df.title\n",
    "titles.index = df[\"date_google\"]\n",
    "descriptions = df.description\n",
    "descriptions.index = df[\"date_google\"]\n",
    "text = pd.concat([titles,descriptions]).sort_index().dropna()"
   ]
  },
  {
   "cell_type": "code",
   "execution_count": 28,
   "metadata": {},
   "outputs": [],
   "source": [
    "# main_text\n",
    "text = df.maintext #pd.DataFrame(df.maintext.values, index = df[\"date_google\"]).dropna()\n",
    "text.index = df[\"date_google\"]"
   ]
  },
  {
   "cell_type": "code",
   "execution_count": 6,
   "metadata": {},
   "outputs": [],
   "source": [
    "import nltk.data\n",
    "\n",
    "split_sentence_tokenizer = nltk.data.load('tokenizers/punkt/english.pickle')"
   ]
  },
  {
   "cell_type": "code",
   "execution_count": 7,
   "metadata": {},
   "outputs": [],
   "source": [
    "split_sentences = text.apply(split_sentence_tokenizer.tokenize)\n",
    "split_sentences = split_sentences.groupby(split_sentences.index).sum()\n",
    "split_sentences = pd.DataFrame(split_sentences)"
   ]
  },
  {
   "cell_type": "code",
   "execution_count": 8,
   "metadata": {},
   "outputs": [],
   "source": [
    "BERT_URL = \"https://tfhub.dev/tensorflow/bert_en_uncased_L-12_H-768_A-12/1\"\n",
    "bert_layer = hub.KerasLayer(BERT_URL, trainable=False)\n",
    "\n",
    "vocab_file = bert_layer.resolved_object.vocab_file.asset_path.numpy()"
   ]
  },
  {
   "cell_type": "code",
   "execution_count": 9,
   "metadata": {},
   "outputs": [
    {
     "name": "stdout",
     "output_type": "stream",
     "text": [
      "New tokens to be added:  ['bitcoin', 'cryptocurrency', 'crypto', 'cryptocurrencies', 'blockchain', 'bitcoin’s', 'btc']\n"
     ]
    }
   ],
   "source": [
    "keywords_bitcoin = [\"crypto\", \"BTC\", \"bitcoin\", \"blockchain\"]\n",
    "keywords_tesla =   [\"tesla\", \"Elon\", \"Musk\", \"TSLA\"]\n",
    "raw_text = \"\".join(text.values).replace(\".com\",\"-com\").replace(\".\", \"\").replace(\",\", \"\").replace(\"\\n\", \" \").replace(\"-com\",\".com\")\n",
    "new_tokens = find_new_token_with_custom_keywords(raw_text, keywords_bitcoin, 6, [\"btc\"])"
   ]
  },
  {
   "cell_type": "code",
   "execution_count": 10,
   "metadata": {},
   "outputs": [],
   "source": [
    "tokenizer = create_tokenizer(vocab_file)\n",
    "tokenizer = add_new_tokens(new_tokens, tokenizer)"
   ]
  },
  {
   "cell_type": "code",
   "execution_count": 11,
   "metadata": {},
   "outputs": [],
   "source": [
    "df_ret = label_transformer(prices.copy(), shift = 1)\n",
    "\n",
    "split_sentences, df_ret = series_intersection(split_sentences, df_ret)\n",
    "raw_sentences, raw_labels = generate_data_for_tokenizer(split_sentences,df_ret)\n",
    "\n",
    "lengths = raw_sentences.apply(lambda x: len(x[0].split()), axis = 1)\n",
    "sentences = raw_sentences[(lengths > 10) & (lengths < 120)] #filter short and long sentences\n",
    "labels = raw_labels[(lengths > 10) & (lengths < 120)]\n",
    "\n",
    "threshold = \"2020-01-01\"\n",
    "train_sentences = sentences.loc[:\"2019-12-31\"]\n",
    "test_sentences = sentences.loc[\"2020-01-01\":]\n",
    "train_labels = labels.loc[:\"2019-12-31\"]\n",
    "test_labels = labels.loc[\"2020-01-01\":]"
   ]
  },
  {
   "cell_type": "code",
   "execution_count": 12,
   "metadata": {},
   "outputs": [
    {
     "data": {
      "text/plain": [
       "(2618, 1)"
      ]
     },
     "execution_count": 12,
     "metadata": {},
     "output_type": "execute_result"
    }
   ],
   "source": [
    "train_labels.shape"
   ]
  },
  {
   "cell_type": "code",
   "execution_count": 13,
   "metadata": {},
   "outputs": [
    {
     "data": {
      "text/plain": [
       "[]"
      ]
     },
     "execution_count": 13,
     "metadata": {},
     "output_type": "execute_result"
    },
    {
     "data": {
      "image/png": "[encoded data removed]",
      "text/plain": [
       "<Figure size 432x288 with 1 Axes>"
      ]
     },
     "metadata": {
      "needs_background": "light"
     },
     "output_type": "display_data"
    }
   ],
   "source": [
    "plt.hist(lengths, bins = 100)\n",
    "plt.plot()"
   ]
  },
  {
   "cell_type": "code",
   "execution_count": 14,
   "metadata": {},
   "outputs": [
    {
     "name": "stdout",
     "output_type": "stream",
     "text": [
      "['Extrapolating on crypto’s first decade: How does BTC performance correlate with that of gold, tech stocks and other traditional assets?']\n",
      "['extra', '##pol', '##ating', 'on', 'crypto', '’', 's', 'first', 'decade', ':', 'how', 'does', 'btc', 'performance', 'co', '##rre', '##late', 'with', 'that', 'of', 'gold', ',', 'tech', 'stocks', 'and', 'other', 'traditional', 'assets', '?']\n"
     ]
    }
   ],
   "source": [
    "print(train_sentences.values[0])\n",
    "print(tokenizer.tokenize(train_sentences.values[0][0]))"
   ]
  },
  {
   "cell_type": "code",
   "execution_count": 15,
   "metadata": {},
   "outputs": [],
   "source": [
    "max_seq_length = 80\n",
    "train_input_ids, train_input_masks, train_segment_ids = convert_sentences_to_features(train_sentences.values.flatten(), tokenizer, max_seq_length)\n",
    "test_input_ids, test_input_masks, test_segment_ids = convert_sentences_to_features(test_sentences.values.flatten(), tokenizer, max_seq_length)\n"
   ]
  },
  {
   "cell_type": "code",
   "execution_count": 16,
   "metadata": {},
   "outputs": [],
   "source": [
    "train_inputs = {\n",
    "     \"input_ids\": np.array(train_input_ids),\n",
    "     \"input_mask\": np.array(train_input_masks),\n",
    "     \"segment_ids\": np.array(train_segment_ids),\n",
    "     }\n",
    "\n",
    "\n",
    "test_inputs = {\n",
    "     \"input_ids\": np.array(test_input_ids),\n",
    "     \"input_mask\": np.array(test_input_masks ),\n",
    "     \"segment_ids\": np.array(test_segment_ids),\n",
    "     }"
   ]
  },
  {
   "cell_type": "code",
   "execution_count": 1,
   "metadata": {},
   "outputs": [],
   "source": [
    "import pickle"
   ]
  },
  {
   "cell_type": "code",
   "execution_count": null,
   "metadata": {},
   "outputs": [],
   "source": [
    "pickle.dumps(train_inputs)"
   ]
  },
  {
   "cell_type": "code",
   "execution_count": 23,
   "metadata": {},
   "outputs": [],
   "source": [
    "with open('train_inputs_bitcoin_articles.pickle', 'wb') as handle:\n",
    "    pickle.dump(train_inputs, handle, protocol=pickle.HIGHEST_PROTOCOL)\n",
    "with open('test_inputs_bitcoin_articles.pickle', 'wb') as handle:\n",
    "    pickle.dump(test_inputs, handle, protocol=pickle.HIGHEST_PROTOCOL)"
   ]
  },
  {
   "cell_type": "code",
   "execution_count": 2,
   "metadata": {},
   "outputs": [],
   "source": [
    "with open('train_inputs_bitcoin_articles.pickle', 'rb') as handle:\n",
    "    train_inputs = pickle.load(handle)\n",
    "with open('test_inputs_bitcoin_articles.pickle', 'rb') as handle:\n",
    "    test_inputs = pickle.load(handle)\n"
   ]
  },
  {
   "cell_type": "code",
   "execution_count": 2,
   "metadata": {},
   "outputs": [],
   "source": [
    "import os\n",
    "os.environ[\"CUDA_VISIBLE_DEVICES\"] = \"-1\"\n",
    "import tensorflow as tf"
   ]
  },
  {
   "cell_type": "code",
   "execution_count": 3,
   "metadata": {},
   "outputs": [],
   "source": [
    "import tensorflow_hub as hub\n",
    "import tensorflow as tf\n",
    "import bert\n",
    "from tensorflow.keras.layers import Layer\n",
    "from tensorflow.keras.models import Model\n",
    "from utils import *"
   ]
  },
  {
   "cell_type": "markdown",
   "metadata": {},
   "source": [
    "### BERT output"
   ]
  },
  {
   "cell_type": "code",
   "execution_count": null,
   "metadata": {},
   "outputs": [],
   "source": []
  },
  {
   "cell_type": "code",
   "execution_count": 4,
   "metadata": {},
   "outputs": [],
   "source": [
    "gpus = tf.config.experimental.list_physical_devices('GPU')\n",
    "if gpus:\n",
    "    try:\n",
    "        # Currently, memory growth needs to be the same across GPUs\n",
    "        for gpu in gpus:\n",
    "            tf.config.experimental.set_memory_growth(gpu, True)\n",
    "        logical_gpus = tf.config.experimental.list_logical_devices('GPU')\n",
    "        print(len(gpus), \"Physical GPUs,\", len(logical_gpus), \"Logical GPUs\")\n",
    "    except RuntimeError as e:\n",
    "        # Memory growth must be set before GPUs have been initialized\n",
    "        print(e)"
   ]
  },
  {
   "cell_type": "code",
   "execution_count": 5,
   "metadata": {},
   "outputs": [],
   "source": [
    "BERT_URL = \"https://tfhub.dev/tensorflow/bert_en_uncased_L-12_H-768_A-12/1\"\n",
    "bert_layer = hub.KerasLayer(BERT_URL, trainable=False)\n",
    "\n",
    "vocab_file = bert_layer.resolved_object.vocab_file.asset_path.numpy()"
   ]
  },
  {
   "cell_type": "code",
   "execution_count": 7,
   "metadata": {},
   "outputs": [],
   "source": [
    "max_seq_length = 120\n",
    "# Build model\n",
    "in_id = tf.keras.layers.Input(shape=(max_seq_length,), dtype=tf.int32, name=\"input_ids\")\n",
    "in_mask = tf.keras.layers.Input(shape=(max_seq_length,), dtype=tf.int32, name=\"input_mask\")\n",
    "in_segment = tf.keras.layers.Input(shape=(max_seq_length,), dtype=tf.int32, name=\"segment_ids\")\n",
    "bert_inputs = [in_id, in_mask, in_segment]\n",
    "\n",
    "# Instantiate the custom Bert Layer defined above\n",
    "pooled_output, sequence_output = bert_layer(inputs = bert_inputs)\n",
    "bert_outputs = [pooled_output, sequence_output]\n",
    "bert_model = tf.keras.models.Model(inputs=bert_inputs, outputs=bert_outputs)\n",
    "bert_model.compile(loss='mean_squared_error', optimizer='adam')"
   ]
  },
  {
   "cell_type": "code",
   "execution_count": 8,
   "metadata": {},
   "outputs": [],
   "source": [
    "with open('train_inputs_bitcoin_articles.pickle', 'rb') as handle:\n",
    "    train_inputs = pickle.load(handle)"
   ]
  },
  {
   "cell_type": "code",
   "execution_count": 9,
   "metadata": {},
   "outputs": [],
   "source": [
    "train_bert_output = bert_model.predict(train_inputs, batch_size=64)"
   ]
  },
  {
   "cell_type": "code",
   "execution_count": 15,
   "metadata": {},
   "outputs": [],
   "source": [
    "with open('test_inputs_bitcoin_articles.pickle', 'rb') as handle:\n",
    "    test_inputs = pickle.load(handle)\n"
   ]
  },
  {
   "cell_type": "code",
   "execution_count": 16,
   "metadata": {},
   "outputs": [],
   "source": [
    "test_bert_output = bert_model.predict(test_inputs, batch_size=256)"
   ]
  },
  {
   "cell_type": "code",
   "execution_count": 12,
   "metadata": {},
   "outputs": [],
   "source": [
    "name = \"bitcoin_articles\""
   ]
  },
  {
   "cell_type": "code",
   "execution_count": 13,
   "metadata": {},
   "outputs": [],
   "source": [
    "np.save(\"features_labels/train_bert_{}_output_pooled\".format(name),train_bert_output[0])\n",
    "np.save(\"features_labels/train_bert_{}_output_sequence\".format(name),train_bert_output[1])"
   ]
  },
  {
   "cell_type": "code",
   "execution_count": 17,
   "metadata": {},
   "outputs": [],
   "source": [
    "np.save(\"features_labels/test_bert_{}_output_pooled\".format(name),test_bert_output[0])\n",
    "np.save(\"features_labels/test_bert_{}_output_sequence\".format(name),test_bert_output[1])"
   ]
  },
  {
   "cell_type": "code",
   "execution_count": 36,
   "metadata": {},
   "outputs": [],
   "source": [
    "label_name = \"bitcoin_ret1days\"\n",
    "pd.to_pickle(train_labels, \"features_labels/train_{}_labels\".format(label_name))\n",
    "pd.to_pickle(test_labels, \"features_labels/test_{}_labels\".format(label_name))"
   ]
  },
  {
   "cell_type": "code",
   "execution_count": 155,
   "metadata": {},
   "outputs": [],
   "source": [
    "def smooth(y, box_pts):\n",
    "    box = np.ones(box_pts)/box_pts\n",
    "    y_smooth = np.convolve(y, box, mode='same')\n",
    "    return y_smooth"
   ]
  },
  {
   "cell_type": "code",
   "execution_count": 26,
   "metadata": {},
   "outputs": [
    {
     "data": {
      "text/plain": [
       "(40522, 768)"
      ]
     },
     "execution_count": 26,
     "metadata": {},
     "output_type": "execute_result"
    }
   ],
   "source": [
    "train_bert_output[0].shape"
   ]
  },
  {
   "cell_type": "code",
   "execution_count": 28,
   "metadata": {},
   "outputs": [
    {
     "data": {
      "text/plain": [
       "[<matplotlib.lines.Line2D at 0x267042e76d8>]"
      ]
     },
     "execution_count": 28,
     "metadata": {},
     "output_type": "execute_result"
    },
    {
     "data": {
      "image/png": "[encoded data removed]",
      "text/plain": [
       "<Figure size 720x360 with 1 Axes>"
      ]
     },
     "metadata": {
      "needs_background": "light"
     },
     "output_type": "display_data"
    }
   ],
   "source": [
    "from random import randint\n",
    "max_ = 768 # 40522\n",
    "i = randint(0, max_)\n",
    "i2 = randint(0, max_)\n",
    "s = train_bert_output[0][:,i]\n",
    "s2 = train_bert_output[0][:,i + 1]\n",
    "\n",
    "plt.figure(figsize=(10, 5))\n",
    "plt.plot(smooth(s,300), '-', lw=0.2)\n",
    "plt.plot(smooth(s2,300), '-', lw=0.2)\n"
   ]
  },
  {
   "cell_type": "code",
   "execution_count": 308,
   "metadata": {},
   "outputs": [
    {
     "data": {
      "text/plain": [
       "(2584, 120, 768)"
      ]
     },
     "execution_count": 308,
     "metadata": {},
     "output_type": "execute_result"
    }
   ],
   "source": [
    "train_bert_output[1].shape"
   ]
  },
  {
   "cell_type": "code",
   "execution_count": 30,
   "metadata": {},
   "outputs": [
    {
     "name": "stdout",
     "output_type": "stream",
     "text": [
      "(40522, 120)\n",
      "(40522, 120)\n",
      "(40522, 120)\n"
     ]
    }
   ],
   "source": [
    "print(train_inputs[\"input_ids\"].shape)\n",
    "print(train_inputs[\"input_mask\"].shape)\n",
    "print(train_inputs[\"segment_ids\"].shape)"
   ]
  },
  {
   "cell_type": "code",
   "execution_count": 156,
   "metadata": {},
   "outputs": [
    {
     "name": "stdout",
     "output_type": "stream",
     "text": [
      "Sentence ['Extrapolating on crypto’s first decade: How does BTC performance correlate with that of gold, tech stocks and other traditional assets?']\n",
      "Text number of words:  20 20\n",
      "Text number of tokens:  31\n",
      "\n",
      "input_ids \n",
      " [  101  4469 18155  5844  2006     3  1521  1055  2034  5476  1024  2129\n",
      "  2515     7  2836  2522 14343 13806  2007  2008  1997  2751  1010  6627\n",
      " 15768  1998  2060  3151  7045  1029   102     0     0     0     0     0\n",
      "     0     0     0     0]\n",
      "input_mask \n",
      " [1 1 1 1 1 1 1 1 1 1 1 1 1 1 1 1 1 1 1 1 1 1 1 1 1 1 1 1 1 1 1 0 0 0 0 0 0\n",
      " 0 0 0]\n",
      "segment_ids \n",
      " [0 0 0 0 0 0 0 0 0 0 0 0 0 0 0 0 0 0 0 0 0 0 0 0 0 0 0 0 0 0 0 0 0 0 0 0 0\n",
      " 0 0 0]\n"
     ]
    },
    {
     "data": {
      "text/plain": [
       "[<matplotlib.lines.Line2D at 0x18cc8f47b80>]"
      ]
     },
     "execution_count": 156,
     "metadata": {},
     "output_type": "execute_result"
    },
    {
     "data": {
      "image/png": "[encoded data removed]",
      "text/plain": [
       "<Figure size 720x360 with 1 Axes>"
      ]
     },
     "metadata": {
      "needs_background": "light"
     },
     "output_type": "display_data"
    }
   ],
   "source": [
    "i = 0#randint(0, 40522)\n",
    "text = train_sentences.values[i]\n",
    "print(\"Sentence\",text)\n",
    "print(\"Text number of words: \", lengths[i], len(text[0].split(\" \")))\n",
    "print(\"Text number of tokens: \", train_inputs[\"input_mask\"][i].sum())\n",
    "print(\"\\ninput_ids \\n\",train_inputs[\"input_ids\"][i])\n",
    "print(\"input_mask \\n\",train_inputs[\"input_mask\"][i])\n",
    "print(\"segment_ids \\n\",train_inputs[\"segment_ids\"][i])\n",
    "\n",
    "_120_1 = train_bert_output[1][i,:,1]\n",
    "_120_2 = train_bert_output[1][i,:,2]\n",
    "plt.figure(figsize=(10, 5))\n",
    "plt.plot(smooth(_120_1,1), '-', lw=0.6)\n",
    "plt.plot(smooth(_120_2,1), '-', lw=0.6)"
   ]
  },
  {
   "cell_type": "code",
   "execution_count": 59,
   "metadata": {},
   "outputs": [],
   "source": [
    "train_bert_concat_articles = bert_output_to_one_time_series_per_day(...)\n",
    "test_bert_concat_articles = bert_output_to_one_time_series_per_day(...)"
   ]
  },
  {
   "cell_type": "code",
   "execution_count": 60,
   "metadata": {},
   "outputs": [],
   "source": [
    "np.save(\"features_labels/train_bert_concat_articles\",train_bert_concat_articles)\n",
    "np.save(\"features_labels/test_bert_concat_articles\",test_bert_concat_articles)\n",
    "train_labels.to_pickle(\"features_labels/train_labels\")\n",
    "test_labels.to_pickle(\"features_labels/test_labels\")"
   ]
  },
  {
   "cell_type": "code",
   "execution_count": 61,
   "metadata": {},
   "outputs": [
    {
     "name": "stdout",
     "output_type": "stream",
     "text": [
      "27 32\n"
     ]
    },
    {
     "data": {
      "text/plain": [
       "[<matplotlib.lines.Line2D at 0x26724fffcf8>]"
      ]
     },
     "execution_count": 61,
     "metadata": {},
     "output_type": "execute_result"
    },
    {
     "data": {
      "image/png": "[encoded data removed]",
      "text/plain": [
       "<Figure size 720x360 with 1 Axes>"
      ]
     },
     "metadata": {
      "needs_background": "light"
     },
     "output_type": "display_data"
    }
   ],
   "source": [
    "i = 0\n",
    "mask_i = train_inputs[\"input_mask\"][i].sum()\n",
    "mask_i1 = train_inputs[\"input_mask\"][i + 1].sum()\n",
    "print(mask_i,mask_i1)\n",
    "masked_sentence = train_bert_output[1][i,:mask_i,0]\n",
    "masked_sentence1 = train_bert_output[1][i+1,:mask_i,0]\n",
    "concat = np.append(masked_sentence,masked_sentence1)\n",
    "plt.figure(figsize=(10, 5))\n",
    "plt.plot(concat, '-', lw=0.6)\n",
    "plt.plot(train_bert_concat_articles[0][:mask_i + mask_i1,0], '-', lw=0.4)"
   ]
  },
  {
   "cell_type": "markdown",
   "metadata": {},
   "source": [
    "## LSTM"
   ]
  },
  {
   "cell_type": "markdown",
   "metadata": {},
   "source": [
    "- https://ieeexplore.ieee.org/document/8141873\n",
    "- https://machinelearningmastery.com/sequence-classification-lstm-recurrent-neural-networks-python-keras/\n",
    "- https://machinelearningmastery.com/how-to-develop-lstm-models-for-time-series-forecasting/"
   ]
  },
  {
   "cell_type": "code",
   "execution_count": 1,
   "metadata": {},
   "outputs": [],
   "source": [
    "import pandas as pd, numpy as np"
   ]
  },
  {
   "cell_type": "code",
   "execution_count": 2,
   "metadata": {},
   "outputs": [],
   "source": [
    "name = \"bitcoin_articles\""
   ]
  },
  {
   "cell_type": "code",
   "execution_count": 5,
   "metadata": {},
   "outputs": [],
   "source": [
    "import numpy as np\n",
    "# save np.load\n",
    "np_load_old = np.load\n",
    "\n",
    "# modify the default parameters of np.load\n",
    "np.load = lambda *a,**k: np_load_old(*a, allow_pickle=True, **k)\n",
    "\n",
    "np.load = np_load_old"
   ]
  },
  {
   "cell_type": "code",
   "execution_count": 17,
   "metadata": {},
   "outputs": [
    {
     "data": {
      "text/plain": [
       "(40260, 120)"
      ]
     },
     "execution_count": 17,
     "metadata": {},
     "output_type": "execute_result"
    }
   ],
   "source": [
    "train_inputs[\"input_ids\"].shape"
   ]
  },
  {
   "cell_type": "code",
   "execution_count": 14,
   "metadata": {},
   "outputs": [
    {
     "data": {
      "text/plain": [
       "(40522, 768)"
      ]
     },
     "execution_count": 14,
     "metadata": {},
     "output_type": "execute_result"
    }
   ],
   "source": [
    "X_train_tr.shape"
   ]
  },
  {
   "cell_type": "code",
   "execution_count": 18,
   "metadata": {},
   "outputs": [],
   "source": [
    "X_train_tr = train_bert_output[1]\n",
    "X_test_tr = test_bert_output[1]"
   ]
  },
  {
   "cell_type": "code",
   "execution_count": 8,
   "metadata": {},
   "outputs": [],
   "source": [
    "X_train_tr = np.load(\"features_labels/train_bert_{}_output_sequence.npy\".format(name))\n",
    "X_test_tr = np.load(\"features_labels/test_bert_{}_output_sequence.npy\".format(name))"
   ]
  },
  {
   "cell_type": "code",
   "execution_count": 13,
   "metadata": {},
   "outputs": [],
   "source": [
    "X_train_tr = np.load(\"features_labels/train_bert_output_{}_pooled.npy\".format(name))\n",
    "X_test_tr = np.load(\"features_labels/test_bert_output_{}_pooled.npy\".format(name))"
   ]
  },
  {
   "cell_type": "code",
   "execution_count": 9,
   "metadata": {},
   "outputs": [],
   "source": [
    "label_name = \"bitcoin_ret1days\"\n",
    "train_labels = pd.read_pickle(\"features_labels/train_{}_labels\".format(label_name))\n",
    "test_labels = pd.read_pickle(\"features_labels/test_{}_labels\".format(label_name))"
   ]
  },
  {
   "cell_type": "code",
   "execution_count": 10,
   "metadata": {},
   "outputs": [
    {
     "name": "stdout",
     "output_type": "stream",
     "text": [
      "(40260, 120, 768)\n",
      "(40260, 1)\n",
      "(8425, 120, 768)\n",
      "(8425, 1)\n"
     ]
    }
   ],
   "source": [
    "print(X_train_tr.shape)\n",
    "print(train_labels.shape)\n",
    "print(X_test_tr.shape)\n",
    "print(test_labels.shape)\n",
    "y_train = train_labels.values\n",
    "y_test = test_labels.values"
   ]
  },
  {
   "cell_type": "code",
   "execution_count": 11,
   "metadata": {},
   "outputs": [],
   "source": [
    "def unison_shuffled_copies(a, b):\n",
    "    assert len(a) == len(b)\n",
    "    p = np.random.permutation(len(a))\n",
    "    return a[p], b[p]"
   ]
  },
  {
   "cell_type": "code",
   "execution_count": 12,
   "metadata": {
    "scrolled": true
   },
   "outputs": [],
   "source": [
    "X_train_tr, y_train = unison_shuffled_copies(X_train_tr, y_train)"
   ]
  },
  {
   "cell_type": "code",
   "execution_count": 13,
   "metadata": {},
   "outputs": [],
   "source": [
    "y_train = np.where(y_train > 0, 1, 0)\n",
    "y_test  = np.where(y_test  > 0, 1, 0)"
   ]
  },
  {
   "cell_type": "code",
   "execution_count": 14,
   "metadata": {},
   "outputs": [],
   "source": [
    "from sklearn.preprocessing import OneHotEncoder\n",
    "ohe = OneHotEncoder(sparse=False )\n",
    "y_train_ohe = ohe.fit_transform(y_train)\n",
    "y_test_ohe = ohe.fit_transform(y_test)"
   ]
  },
  {
   "cell_type": "code",
   "execution_count": 49,
   "metadata": {},
   "outputs": [
    {
     "data": {
      "text/plain": [
       "<module 'tensorflow' from 'C:\\\\Users\\\\HPfamiliaRuiz-Tagle\\\\Anaconda3\\\\envs\\\\bert\\\\lib\\\\site-packages\\\\tensorflow\\\\__init__.py'>"
      ]
     },
     "execution_count": 49,
     "metadata": {},
     "output_type": "execute_result"
    }
   ],
   "source": [
    "import importlib\n",
    "importlib.reload(tf)"
   ]
  },
  {
   "cell_type": "code",
   "execution_count": 47,
   "metadata": {},
   "outputs": [],
   "source": [
    "import os\n",
    "#os.environ[\"CUDA_VISIBLE_DEVICES\"] = \"0\"\n",
    "import tensorflow as tf"
   ]
  },
  {
   "cell_type": "code",
   "execution_count": 15,
   "metadata": {},
   "outputs": [],
   "source": [
    "from tensorflow.keras.layers import LSTM, Dense, Input\n",
    "from tensorflow.keras.layers import Bidirectional, TimeDistributed, Dropout, BatchNormalization #, CuDNNLSTM\n",
    "from tensorflow.keras.models import Sequential"
   ]
  },
  {
   "cell_type": "code",
   "execution_count": 52,
   "metadata": {},
   "outputs": [],
   "source": [
    "%load_ext autoreload\n",
    "%autoreload 2"
   ]
  },
  {
   "cell_type": "code",
   "execution_count": 17,
   "metadata": {},
   "outputs": [],
   "source": [
    "from inception import Classifier_INCEPTION"
   ]
  },
  {
   "cell_type": "code",
   "execution_count": 54,
   "metadata": {},
   "outputs": [
    {
     "ename": "ValueError",
     "evalue": "cannot reshape array of size 80424960 into shape (2618,1,40)",
     "output_type": "error",
     "traceback": [
      "\u001b[1;31m---------------------------------------------------------------------------\u001b[0m",
      "\u001b[1;31mValueError\u001b[0m                                Traceback (most recent call last)",
      "\u001b[1;32m<ipython-input-54-4795bfa47fc4>\u001b[0m in \u001b[0;36m<module>\u001b[1;34m\u001b[0m\n\u001b[1;32m----> 1\u001b[1;33m \u001b[0mX_train_tr\u001b[0m \u001b[1;33m=\u001b[0m \u001b[0mX_train_tr\u001b[0m\u001b[1;33m.\u001b[0m\u001b[0mreshape\u001b[0m\u001b[1;33m(\u001b[0m\u001b[0mX_train_tr\u001b[0m\u001b[1;33m.\u001b[0m\u001b[0mshape\u001b[0m\u001b[1;33m[\u001b[0m\u001b[1;36m0\u001b[0m\u001b[1;33m]\u001b[0m\u001b[1;33m,\u001b[0m\u001b[1;36m1\u001b[0m\u001b[1;33m,\u001b[0m\u001b[0mX_train_tr\u001b[0m\u001b[1;33m.\u001b[0m\u001b[0mshape\u001b[0m\u001b[1;33m[\u001b[0m\u001b[1;36m1\u001b[0m\u001b[1;33m]\u001b[0m\u001b[1;33m)\u001b[0m\u001b[1;33m\u001b[0m\u001b[1;33m\u001b[0m\u001b[0m\n\u001b[0m\u001b[0;32m      2\u001b[0m \u001b[0mX_test_tr\u001b[0m  \u001b[1;33m=\u001b[0m \u001b[0mX_test_tr\u001b[0m\u001b[1;33m.\u001b[0m\u001b[0mreshape\u001b[0m\u001b[1;33m(\u001b[0m\u001b[0mX_test_tr\u001b[0m\u001b[1;33m.\u001b[0m\u001b[0mshape\u001b[0m\u001b[1;33m[\u001b[0m\u001b[1;36m0\u001b[0m\u001b[1;33m]\u001b[0m\u001b[1;33m,\u001b[0m \u001b[1;36m1\u001b[0m\u001b[1;33m,\u001b[0m\u001b[0mX_test_tr\u001b[0m\u001b[1;33m.\u001b[0m\u001b[0mshape\u001b[0m\u001b[1;33m[\u001b[0m\u001b[1;36m1\u001b[0m\u001b[1;33m]\u001b[0m\u001b[1;33m)\u001b[0m\u001b[1;33m\u001b[0m\u001b[1;33m\u001b[0m\u001b[0m\n",
      "\u001b[1;31mValueError\u001b[0m: cannot reshape array of size 80424960 into shape (2618,1,40)"
     ]
    }
   ],
   "source": [
    "X_train_tr = X_train_tr.reshape(X_train_tr.shape[0],1,X_train_tr.shape[1])\n",
    "X_test_tr  = X_test_tr.reshape(X_test_tr.shape[0], 1,X_test_tr.shape[1])"
   ]
  },
  {
   "cell_type": "code",
   "execution_count": 18,
   "metadata": {},
   "outputs": [
    {
     "name": "stdout",
     "output_type": "stream",
     "text": [
      "Model: \"model\"\n",
      "__________________________________________________________________________________________________\n",
      "Layer (type)                    Output Shape         Param #     Connected to                     \n",
      "==================================================================================================\n",
      "input_1 (InputLayer)            [(None, None, 768)]  0                                            \n",
      "__________________________________________________________________________________________________\n",
      "conv1d (Conv1D)                 (None, None, 32)     24576       input_1[0][0]                    \n",
      "__________________________________________________________________________________________________\n",
      "max_pooling1d (MaxPooling1D)    (None, None, 768)    0           input_1[0][0]                    \n",
      "__________________________________________________________________________________________________\n",
      "conv1d_1 (Conv1D)               (None, None, 32)     40960       conv1d[0][0]                     \n",
      "__________________________________________________________________________________________________\n",
      "conv1d_2 (Conv1D)               (None, None, 32)     20480       conv1d[0][0]                     \n",
      "__________________________________________________________________________________________________\n",
      "conv1d_3 (Conv1D)               (None, None, 32)     10240       conv1d[0][0]                     \n",
      "__________________________________________________________________________________________________\n",
      "conv1d_4 (Conv1D)               (None, None, 32)     24576       max_pooling1d[0][0]              \n",
      "__________________________________________________________________________________________________\n",
      "concatenate (Concatenate)       (None, None, 128)    0           conv1d_1[0][0]                   \n",
      "                                                                 conv1d_2[0][0]                   \n",
      "                                                                 conv1d_3[0][0]                   \n",
      "                                                                 conv1d_4[0][0]                   \n",
      "__________________________________________________________________________________________________\n",
      "batch_normalization (BatchNorma (None, None, 128)    512         concatenate[0][0]                \n",
      "__________________________________________________________________________________________________\n",
      "activation (Activation)         (None, None, 128)    0           batch_normalization[0][0]        \n",
      "__________________________________________________________________________________________________\n",
      "conv1d_5 (Conv1D)               (None, None, 32)     4096        activation[0][0]                 \n",
      "__________________________________________________________________________________________________\n",
      "max_pooling1d_1 (MaxPooling1D)  (None, None, 128)    0           activation[0][0]                 \n",
      "__________________________________________________________________________________________________\n",
      "conv1d_6 (Conv1D)               (None, None, 32)     40960       conv1d_5[0][0]                   \n",
      "__________________________________________________________________________________________________\n",
      "conv1d_7 (Conv1D)               (None, None, 32)     20480       conv1d_5[0][0]                   \n",
      "__________________________________________________________________________________________________\n",
      "conv1d_8 (Conv1D)               (None, None, 32)     10240       conv1d_5[0][0]                   \n",
      "__________________________________________________________________________________________________\n",
      "conv1d_9 (Conv1D)               (None, None, 32)     4096        max_pooling1d_1[0][0]            \n",
      "__________________________________________________________________________________________________\n",
      "concatenate_1 (Concatenate)     (None, None, 128)    0           conv1d_6[0][0]                   \n",
      "                                                                 conv1d_7[0][0]                   \n",
      "                                                                 conv1d_8[0][0]                   \n",
      "                                                                 conv1d_9[0][0]                   \n",
      "__________________________________________________________________________________________________\n",
      "batch_normalization_1 (BatchNor (None, None, 128)    512         concatenate_1[0][0]              \n",
      "__________________________________________________________________________________________________\n",
      "activation_1 (Activation)       (None, None, 128)    0           batch_normalization_1[0][0]      \n",
      "__________________________________________________________________________________________________\n",
      "conv1d_10 (Conv1D)              (None, None, 32)     4096        activation_1[0][0]               \n",
      "__________________________________________________________________________________________________\n",
      "max_pooling1d_2 (MaxPooling1D)  (None, None, 128)    0           activation_1[0][0]               \n",
      "__________________________________________________________________________________________________\n",
      "conv1d_11 (Conv1D)              (None, None, 32)     40960       conv1d_10[0][0]                  \n",
      "__________________________________________________________________________________________________\n",
      "conv1d_12 (Conv1D)              (None, None, 32)     20480       conv1d_10[0][0]                  \n",
      "__________________________________________________________________________________________________\n",
      "conv1d_13 (Conv1D)              (None, None, 32)     10240       conv1d_10[0][0]                  \n",
      "__________________________________________________________________________________________________\n",
      "conv1d_14 (Conv1D)              (None, None, 32)     4096        max_pooling1d_2[0][0]            \n",
      "__________________________________________________________________________________________________\n",
      "concatenate_2 (Concatenate)     (None, None, 128)    0           conv1d_11[0][0]                  \n",
      "                                                                 conv1d_12[0][0]                  \n",
      "                                                                 conv1d_13[0][0]                  \n",
      "                                                                 conv1d_14[0][0]                  \n",
      "__________________________________________________________________________________________________\n",
      "conv1d_15 (Conv1D)              (None, None, 128)    98304       input_1[0][0]                    \n",
      "__________________________________________________________________________________________________\n",
      "batch_normalization_2 (BatchNor (None, None, 128)    512         concatenate_2[0][0]              \n",
      "__________________________________________________________________________________________________\n",
      "batch_normalization_3 (BatchNor (None, None, 128)    512         conv1d_15[0][0]                  \n",
      "__________________________________________________________________________________________________\n",
      "activation_2 (Activation)       (None, None, 128)    0           batch_normalization_2[0][0]      \n",
      "__________________________________________________________________________________________________\n",
      "add (Add)                       (None, None, 128)    0           batch_normalization_3[0][0]      \n",
      "                                                                 activation_2[0][0]               \n",
      "__________________________________________________________________________________________________\n",
      "activation_3 (Activation)       (None, None, 128)    0           add[0][0]                        \n",
      "__________________________________________________________________________________________________\n",
      "conv1d_16 (Conv1D)              (None, None, 32)     4096        activation_3[0][0]               \n",
      "__________________________________________________________________________________________________\n",
      "max_pooling1d_3 (MaxPooling1D)  (None, None, 128)    0           activation_3[0][0]               \n",
      "__________________________________________________________________________________________________\n",
      "conv1d_17 (Conv1D)              (None, None, 32)     40960       conv1d_16[0][0]                  \n",
      "__________________________________________________________________________________________________\n",
      "conv1d_18 (Conv1D)              (None, None, 32)     20480       conv1d_16[0][0]                  \n",
      "__________________________________________________________________________________________________\n",
      "conv1d_19 (Conv1D)              (None, None, 32)     10240       conv1d_16[0][0]                  \n",
      "__________________________________________________________________________________________________\n",
      "conv1d_20 (Conv1D)              (None, None, 32)     4096        max_pooling1d_3[0][0]            \n",
      "__________________________________________________________________________________________________\n",
      "concatenate_3 (Concatenate)     (None, None, 128)    0           conv1d_17[0][0]                  \n",
      "                                                                 conv1d_18[0][0]                  \n",
      "                                                                 conv1d_19[0][0]                  \n",
      "                                                                 conv1d_20[0][0]                  \n",
      "__________________________________________________________________________________________________\n",
      "batch_normalization_4 (BatchNor (None, None, 128)    512         concatenate_3[0][0]              \n",
      "__________________________________________________________________________________________________\n",
      "activation_4 (Activation)       (None, None, 128)    0           batch_normalization_4[0][0]      \n",
      "__________________________________________________________________________________________________\n",
      "conv1d_21 (Conv1D)              (None, None, 32)     4096        activation_4[0][0]               \n",
      "__________________________________________________________________________________________________\n",
      "max_pooling1d_4 (MaxPooling1D)  (None, None, 128)    0           activation_4[0][0]               \n",
      "__________________________________________________________________________________________________\n",
      "conv1d_22 (Conv1D)              (None, None, 32)     40960       conv1d_21[0][0]                  \n",
      "__________________________________________________________________________________________________\n",
      "conv1d_23 (Conv1D)              (None, None, 32)     20480       conv1d_21[0][0]                  \n",
      "__________________________________________________________________________________________________\n",
      "conv1d_24 (Conv1D)              (None, None, 32)     10240       conv1d_21[0][0]                  \n",
      "__________________________________________________________________________________________________\n",
      "conv1d_25 (Conv1D)              (None, None, 32)     4096        max_pooling1d_4[0][0]            \n",
      "__________________________________________________________________________________________________\n",
      "concatenate_4 (Concatenate)     (None, None, 128)    0           conv1d_22[0][0]                  \n",
      "                                                                 conv1d_23[0][0]                  \n",
      "                                                                 conv1d_24[0][0]                  \n",
      "                                                                 conv1d_25[0][0]                  \n",
      "__________________________________________________________________________________________________\n",
      "batch_normalization_5 (BatchNor (None, None, 128)    512         concatenate_4[0][0]              \n",
      "__________________________________________________________________________________________________\n",
      "activation_5 (Activation)       (None, None, 128)    0           batch_normalization_5[0][0]      \n",
      "__________________________________________________________________________________________________\n",
      "conv1d_26 (Conv1D)              (None, None, 32)     4096        activation_5[0][0]               \n",
      "__________________________________________________________________________________________________\n",
      "max_pooling1d_5 (MaxPooling1D)  (None, None, 128)    0           activation_5[0][0]               \n",
      "__________________________________________________________________________________________________\n",
      "conv1d_27 (Conv1D)              (None, None, 32)     40960       conv1d_26[0][0]                  \n",
      "__________________________________________________________________________________________________\n",
      "conv1d_28 (Conv1D)              (None, None, 32)     20480       conv1d_26[0][0]                  \n",
      "__________________________________________________________________________________________________\n",
      "conv1d_29 (Conv1D)              (None, None, 32)     10240       conv1d_26[0][0]                  \n",
      "__________________________________________________________________________________________________\n",
      "conv1d_30 (Conv1D)              (None, None, 32)     4096        max_pooling1d_5[0][0]            \n",
      "__________________________________________________________________________________________________\n",
      "concatenate_5 (Concatenate)     (None, None, 128)    0           conv1d_27[0][0]                  \n",
      "                                                                 conv1d_28[0][0]                  \n",
      "                                                                 conv1d_29[0][0]                  \n",
      "                                                                 conv1d_30[0][0]                  \n",
      "__________________________________________________________________________________________________\n",
      "conv1d_31 (Conv1D)              (None, None, 128)    16384       activation_3[0][0]               \n",
      "__________________________________________________________________________________________________\n",
      "batch_normalization_6 (BatchNor (None, None, 128)    512         concatenate_5[0][0]              \n",
      "__________________________________________________________________________________________________\n",
      "batch_normalization_7 (BatchNor (None, None, 128)    512         conv1d_31[0][0]                  \n",
      "__________________________________________________________________________________________________\n",
      "activation_6 (Activation)       (None, None, 128)    0           batch_normalization_6[0][0]      \n",
      "__________________________________________________________________________________________________\n",
      "add_1 (Add)                     (None, None, 128)    0           batch_normalization_7[0][0]      \n",
      "                                                                 activation_6[0][0]               \n",
      "__________________________________________________________________________________________________\n",
      "activation_7 (Activation)       (None, None, 128)    0           add_1[0][0]                      \n",
      "__________________________________________________________________________________________________\n",
      "global_average_pooling1d (Globa (None, 128)          0           activation_7[0][0]               \n",
      "__________________________________________________________________________________________________\n",
      "dense (Dense)                   (None, 2)            258         global_average_pooling1d[0][0]   \n",
      "==================================================================================================\n",
      "Total params: 639,234\n",
      "Trainable params: 637,186\n",
      "Non-trainable params: 2,048\n",
      "__________________________________________________________________________________________________\n"
     ]
    }
   ],
   "source": [
    "inception = Classifier_INCEPTION(\"models/\",[None,768],2, verbose = True, nb_epochs = 1500)"
   ]
  },
  {
   "cell_type": "code",
   "execution_count": null,
   "metadata": {},
   "outputs": [
    {
     "name": "stdout",
     "output_type": "stream",
     "text": [
      "Epoch 1/1500\n",
      "630/630 [==============================] - 28s 45ms/step - loss: 0.6963 - accuracy: 0.5354 - val_loss: 0.6979 - val_accuracy: 0.5191 - lr: 0.0010\n",
      "Epoch 2/1500\n",
      "630/630 [==============================] - 27s 43ms/step - loss: 0.6815 - accuracy: 0.5605 - val_loss: 0.7050 - val_accuracy: 0.5094 - lr: 0.0010\n",
      "Epoch 3/1500\n",
      "630/630 [==============================] - 27s 42ms/step - loss: 0.6742 - accuracy: 0.5785 - val_loss: 0.7087 - val_accuracy: 0.5295 - lr: 0.0010\n",
      "Epoch 4/1500\n",
      "630/630 [==============================] - 27s 43ms/step - loss: 0.6632 - accuracy: 0.5938 - val_loss: 0.7244 - val_accuracy: 0.5079 - lr: 0.0010\n",
      "Epoch 5/1500\n",
      "630/630 [==============================] - 27s 43ms/step - loss: 0.6500 - accuracy: 0.6173 - val_loss: 0.7328 - val_accuracy: 0.5036 - lr: 0.0010\n",
      "Epoch 6/1500\n",
      "630/630 [==============================] - 27s 43ms/step - loss: 0.6346 - accuracy: 0.6367 - val_loss: 0.7420 - val_accuracy: 0.5050 - lr: 0.0010\n",
      "Epoch 7/1500\n",
      "630/630 [==============================] - 27s 43ms/step - loss: 0.6113 - accuracy: 0.6633 - val_loss: 0.7892 - val_accuracy: 0.4944 - lr: 0.0010\n",
      "Epoch 8/1500\n",
      "630/630 [==============================] - 27s 43ms/step - loss: 0.5813 - accuracy: 0.6909 - val_loss: 0.8947 - val_accuracy: 0.4888 - lr: 0.0010\n",
      "Epoch 9/1500\n",
      "630/630 [==============================] - 27s 43ms/step - loss: 0.5379 - accuracy: 0.7249 - val_loss: 0.8322 - val_accuracy: 0.5170 - lr: 0.0010\n",
      "Epoch 10/1500\n",
      "630/630 [==============================] - 27s 43ms/step - loss: 0.4839 - accuracy: 0.7625 - val_loss: 1.2232 - val_accuracy: 0.4913 - lr: 0.0010\n",
      "Epoch 11/1500\n",
      "630/630 [==============================] - 27s 43ms/step - loss: 0.4122 - accuracy: 0.8084 - val_loss: 1.1065 - val_accuracy: 0.5148 - lr: 0.0010\n",
      "Epoch 12/1500\n",
      "630/630 [==============================] - 27s 43ms/step - loss: 0.3321 - accuracy: 0.8534 - val_loss: 1.2774 - val_accuracy: 0.4942 - lr: 0.0010\n",
      "Epoch 13/1500\n",
      "630/630 [==============================] - 27s 43ms/step - loss: 0.2629 - accuracy: 0.8883 - val_loss: 1.3666 - val_accuracy: 0.5090 - lr: 0.0010\n",
      "Epoch 14/1500\n",
      "630/630 [==============================] - 27s 43ms/step - loss: 0.2074 - accuracy: 0.9150 - val_loss: 1.8350 - val_accuracy: 0.5017 - lr: 0.0010\n",
      "Epoch 15/1500\n",
      "630/630 [==============================] - 27s 43ms/step - loss: 0.1732 - accuracy: 0.9301 - val_loss: 1.7991 - val_accuracy: 0.5106 - lr: 0.0010\n",
      "Epoch 16/1500\n",
      "630/630 [==============================] - 27s 43ms/step - loss: 0.1503 - accuracy: 0.9407 - val_loss: 2.2204 - val_accuracy: 0.4925 - lr: 0.0010\n",
      "Epoch 17/1500\n",
      "630/630 [==============================] - 27s 43ms/step - loss: 0.1368 - accuracy: 0.9467 - val_loss: 2.1422 - val_accuracy: 0.5028 - lr: 0.0010\n",
      "Epoch 18/1500\n",
      "630/630 [==============================] - 27s 42ms/step - loss: 0.1373 - accuracy: 0.9474 - val_loss: 2.0604 - val_accuracy: 0.5061 - lr: 0.0010\n",
      "Epoch 19/1500\n",
      "630/630 [==============================] - 27s 43ms/step - loss: 0.1140 - accuracy: 0.9555 - val_loss: 2.6419 - val_accuracy: 0.4974 - lr: 0.0010\n",
      "Epoch 20/1500\n",
      "630/630 [==============================] - 27s 43ms/step - loss: 0.1066 - accuracy: 0.9580 - val_loss: 2.4591 - val_accuracy: 0.5037 - lr: 0.0010\n",
      "Epoch 21/1500\n",
      "630/630 [==============================] - 27s 43ms/step - loss: 0.0949 - accuracy: 0.9621 - val_loss: 2.4166 - val_accuracy: 0.5123 - lr: 0.0010\n",
      "Epoch 22/1500\n",
      "630/630 [==============================] - 27s 43ms/step - loss: 0.0968 - accuracy: 0.9603 - val_loss: 2.5261 - val_accuracy: 0.5072 - lr: 0.0010\n",
      "Epoch 23/1500\n",
      "630/630 [==============================] - 27s 42ms/step - loss: 0.0922 - accuracy: 0.9622 - val_loss: 2.7159 - val_accuracy: 0.4972 - lr: 0.0010\n",
      "Epoch 24/1500\n",
      "630/630 [==============================] - 27s 43ms/step - loss: 0.0881 - accuracy: 0.9646 - val_loss: 2.4844 - val_accuracy: 0.5046 - lr: 0.0010\n",
      "Epoch 25/1500\n",
      "630/630 [==============================] - 27s 43ms/step - loss: 0.0883 - accuracy: 0.9643 - val_loss: 2.7558 - val_accuracy: 0.5028 - lr: 0.0010\n",
      "Epoch 26/1500\n",
      "630/630 [==============================] - 27s 43ms/step - loss: 0.1015 - accuracy: 0.9595 - val_loss: 2.9719 - val_accuracy: 0.5014 - lr: 0.0010\n",
      "Epoch 27/1500\n",
      "630/630 [==============================] - 27s 43ms/step - loss: 0.0937 - accuracy: 0.9622 - val_loss: 2.8849 - val_accuracy: 0.4938 - lr: 0.0010\n",
      "Epoch 28/1500\n",
      "630/630 [==============================] - 27s 43ms/step - loss: 0.0706 - accuracy: 0.9704 - val_loss: 2.6537 - val_accuracy: 0.5034 - lr: 0.0010\n",
      "Epoch 29/1500\n",
      "630/630 [==============================] - 27s 43ms/step - loss: 0.0873 - accuracy: 0.9623 - val_loss: 3.1581 - val_accuracy: 0.5100 - lr: 0.0010\n",
      "Epoch 30/1500\n",
      "630/630 [==============================] - 27s 43ms/step - loss: 0.0728 - accuracy: 0.9688 - val_loss: 3.0728 - val_accuracy: 0.5026 - lr: 0.0010\n",
      "Epoch 31/1500\n",
      "630/630 [==============================] - 27s 43ms/step - loss: 0.0827 - accuracy: 0.9649 - val_loss: 2.6450 - val_accuracy: 0.5091 - lr: 0.0010\n",
      "Epoch 32/1500\n",
      "630/630 [==============================] - 27s 43ms/step - loss: 0.0865 - accuracy: 0.9639 - val_loss: 2.5878 - val_accuracy: 0.5036 - lr: 0.0010\n",
      "Epoch 33/1500\n",
      "630/630 [==============================] - 27s 43ms/step - loss: 0.0649 - accuracy: 0.9719 - val_loss: 3.0258 - val_accuracy: 0.5040 - lr: 0.0010\n",
      "Epoch 34/1500\n",
      "630/630 [==============================] - 27s 43ms/step - loss: 0.0665 - accuracy: 0.9716 - val_loss: 3.0341 - val_accuracy: 0.5101 - lr: 0.0010\n",
      "Epoch 35/1500\n",
      "630/630 [==============================] - 27s 43ms/step - loss: 0.0822 - accuracy: 0.9652 - val_loss: 2.8703 - val_accuracy: 0.5124 - lr: 0.0010\n",
      "Epoch 36/1500\n",
      "630/630 [==============================] - 27s 43ms/step - loss: 0.0626 - accuracy: 0.9723 - val_loss: 2.8678 - val_accuracy: 0.5073 - lr: 0.0010\n",
      "Epoch 37/1500\n",
      "630/630 [==============================] - 27s 43ms/step - loss: 0.0631 - accuracy: 0.9710 - val_loss: 2.7272 - val_accuracy: 0.5012 - lr: 0.0010\n",
      "Epoch 38/1500\n",
      "630/630 [==============================] - 27s 43ms/step - loss: 0.0723 - accuracy: 0.9685 - val_loss: 2.9041 - val_accuracy: 0.5118 - lr: 0.0010\n",
      "Epoch 39/1500\n",
      "630/630 [==============================] - 27s 43ms/step - loss: 0.0867 - accuracy: 0.9639 - val_loss: 3.2310 - val_accuracy: 0.5016 - lr: 0.0010\n",
      "Epoch 40/1500\n",
      "630/630 [==============================] - 27s 43ms/step - loss: 0.0630 - accuracy: 0.9722 - val_loss: 3.1938 - val_accuracy: 0.5082 - lr: 0.0010\n",
      "Epoch 41/1500\n",
      "630/630 [==============================] - 27s 43ms/step - loss: 0.0568 - accuracy: 0.9736 - val_loss: 3.0931 - val_accuracy: 0.5022 - lr: 0.0010\n",
      "Epoch 42/1500\n",
      "630/630 [==============================] - 27s 42ms/step - loss: 0.0608 - accuracy: 0.9714 - val_loss: 2.9005 - val_accuracy: 0.5065 - lr: 0.0010\n",
      "Epoch 43/1500\n",
      "630/630 [==============================] - 27s 43ms/step - loss: 0.0712 - accuracy: 0.9686 - val_loss: 3.1251 - val_accuracy: 0.5026 - lr: 0.0010\n",
      "Epoch 44/1500\n",
      "630/630 [==============================] - 27s 43ms/step - loss: 0.0571 - accuracy: 0.9730 - val_loss: 3.2682 - val_accuracy: 0.5058 - lr: 0.0010\n",
      "Epoch 45/1500\n",
      "630/630 [==============================] - 27s 43ms/step - loss: 0.0563 - accuracy: 0.9735 - val_loss: 3.0639 - val_accuracy: 0.5052 - lr: 0.0010\n",
      "Epoch 46/1500\n",
      "630/630 [==============================] - 27s 42ms/step - loss: 0.0591 - accuracy: 0.9727 - val_loss: 3.2173 - val_accuracy: 0.5039 - lr: 0.0010\n",
      "Epoch 47/1500\n",
      "630/630 [==============================] - 27s 43ms/step - loss: 0.0751 - accuracy: 0.9665 - val_loss: 3.2938 - val_accuracy: 0.4970 - lr: 0.0010\n",
      "Epoch 48/1500\n",
      "630/630 [==============================] - 27s 43ms/step - loss: 0.0473 - accuracy: 0.9764 - val_loss: 3.0419 - val_accuracy: 0.5176 - lr: 0.0010\n",
      "Epoch 49/1500\n",
      "630/630 [==============================] - 27s 43ms/step - loss: 0.0565 - accuracy: 0.9741 - val_loss: 3.0792 - val_accuracy: 0.5087 - lr: 0.0010\n",
      "Epoch 50/1500\n",
      "630/630 [==============================] - 27s 43ms/step - loss: 0.0711 - accuracy: 0.9676 - val_loss: 2.9898 - val_accuracy: 0.5042 - lr: 0.0010\n",
      "Epoch 51/1500\n",
      "630/630 [==============================] - 27s 44ms/step - loss: 0.0467 - accuracy: 0.9778 - val_loss: 3.9987 - val_accuracy: 0.4950 - lr: 0.0010\n",
      "Epoch 52/1500\n",
      "630/630 [==============================] - 27s 42ms/step - loss: 0.0516 - accuracy: 0.9752 - val_loss: 3.1868 - val_accuracy: 0.5031 - lr: 0.0010\n",
      "Epoch 53/1500\n",
      "630/630 [==============================] - 27s 42ms/step - loss: 0.0732 - accuracy: 0.9680 - val_loss: 3.2165 - val_accuracy: 0.5014 - lr: 0.0010\n",
      "Epoch 54/1500\n",
      "630/630 [==============================] - 27s 42ms/step - loss: 0.0486 - accuracy: 0.9768 - val_loss: 3.5412 - val_accuracy: 0.4947 - lr: 0.0010\n",
      "Epoch 55/1500\n",
      "630/630 [==============================] - 27s 42ms/step - loss: 0.0636 - accuracy: 0.9707 - val_loss: 3.1546 - val_accuracy: 0.5073 - lr: 0.0010\n",
      "Epoch 56/1500\n",
      "630/630 [==============================] - 27s 43ms/step - loss: 0.0409 - accuracy: 0.9785 - val_loss: 3.3917 - val_accuracy: 0.5136 - lr: 0.0010\n",
      "Epoch 57/1500\n",
      "417/630 [==================>...........] - ETA: 8s - loss: 0.0577 - accuracy: 0.9726"
     ]
    }
   ],
   "source": [
    "hist = inception.fit(X_train_tr, y_train_ohe, X_test_tr, y_test_ohe, y_train, plot_test_acc=True)"
   ]
  },
  {
   "cell_type": "code",
   "execution_count": 64,
   "metadata": {},
   "outputs": [
    {
     "data": {
      "image/png": "[encoded data removed]",
      "text/plain": [
       "<Figure size 432x288 with 1 Axes>"
      ]
     },
     "metadata": {
      "needs_background": "light"
     },
     "output_type": "display_data"
    }
   ],
   "source": [
    "from matplotlib import pyplot as plt\n",
    "plt.plot(hist.history[\"accuracy\"])\n",
    "plt.plot(hist.history[\"val_accuracy\"])\n",
    "plt.legend([\"acc\",\"val_acc\"])\n",
    "plt.show()"
   ]
  },
  {
   "cell_type": "code",
   "execution_count": 128,
   "metadata": {},
   "outputs": [],
   "source": [
    "hist_first = hist"
   ]
  },
  {
   "cell_type": "code",
   "execution_count": 125,
   "metadata": {},
   "outputs": [
    {
     "data": {
      "image/png": "[encoded data removed]",
      "text/plain": [
       "<Figure size 432x288 with 1 Axes>"
      ]
     },
     "metadata": {
      "needs_background": "light"
     },
     "output_type": "display_data"
    }
   ],
   "source": [
    "from matplotlib import pyplot as plt\n",
    "plt.plot(hist.history[\"accuracy\"])\n",
    "plt.plot(hist.history[\"val_accuracy\"])\n",
    "plt.legend([\"acc\",\"val_acc\"])\n",
    "plt.show()"
   ]
  },
  {
   "cell_type": "code",
   "execution_count": 126,
   "metadata": {},
   "outputs": [
    {
     "data": {
      "text/plain": [
       "0.5775400996208191"
      ]
     },
     "execution_count": 126,
     "metadata": {},
     "output_type": "execute_result"
    }
   ],
   "source": [
    "hist.history[\"val_accuracy\"][-1]"
   ]
  },
  {
   "cell_type": "code",
   "execution_count": null,
   "metadata": {},
   "outputs": [],
   "source": [
    "inception.predict()"
   ]
  },
  {
   "cell_type": "markdown",
   "metadata": {},
   "source": [
    "# OTHER MODELS"
   ]
  },
  {
   "cell_type": "code",
   "execution_count": 31,
   "metadata": {},
   "outputs": [],
   "source": [
    "import tensorflow"
   ]
  },
  {
   "cell_type": "code",
   "execution_count": 422,
   "metadata": {},
   "outputs": [
    {
     "name": "stdout",
     "output_type": "stream",
     "text": [
      "Model: \"sequential_38\"\n",
      "_________________________________________________________________\n",
      "Layer (type)                 Output Shape              Param #   \n",
      "=================================================================\n",
      "dense_143 (Dense)            (None, 200)               153800    \n",
      "_________________________________________________________________\n",
      "dropout_95 (Dropout)         (None, 200)               0         \n",
      "_________________________________________________________________\n",
      "batch_normalization_34 (Batc (None, 200)               800       \n",
      "_________________________________________________________________\n",
      "dense_144 (Dense)            (None, 200)               40200     \n",
      "_________________________________________________________________\n",
      "dropout_96 (Dropout)         (None, 200)               0         \n",
      "_________________________________________________________________\n",
      "dense_145 (Dense)            (None, 1)                 201       \n",
      "=================================================================\n",
      "Total params: 195,001\n",
      "Trainable params: 194,601\n",
      "Non-trainable params: 400\n",
      "_________________________________________________________________\n",
      "None\n"
     ]
    }
   ],
   "source": [
    "# create the Dense Model\n",
    "\n",
    "n_features = 768\n",
    "model = Sequential()\n",
    "model.add(Input(n_features))\n",
    "model.add(Dense(200, activation='elu'))\n",
    "model.add(Dropout(0.4))\n",
    "model.add(BatchNormalization())\n",
    "model.add(Dense(200, activation='elu'))\n",
    "model.add(Dropout(0.4))\n",
    "model.add(Dense(1, activation='sigmoid'))\n",
    "model.compile(loss= \"binary_crossentropy\", optimizer='adam', metrics = [\"acc\"])\n",
    "print(model.summary())"
   ]
  },
  {
   "cell_type": "code",
   "execution_count": 423,
   "metadata": {
    "scrolled": true
   },
   "outputs": [
    {
     "name": "stdout",
     "output_type": "stream",
     "text": [
      "Train on 2584 samples, validate on 623 samples\n",
      "Epoch 1/100\n",
      "2584/2584 [==============================] - ETA: 29s - loss: 0.9354 - acc: 0.53 - ETA: 1s - loss: 0.9286 - acc: 0.4779 - ETA: 0s - loss: 0.9303 - acc: 0.483 - ETA: 0s - loss: 0.9102 - acc: 0.487 - ETA: 0s - loss: 0.8932 - acc: 0.484 - 1s 275us/sample - loss: 0.8870 - acc: 0.4876 - val_loss: 0.7002 - val_acc: 0.4783\n",
      "Epoch 2/100\n",
      "2584/2584 [==============================] - ETA: 0s - loss: 0.6541 - acc: 0.718 - ETA: 0s - loss: 0.8229 - acc: 0.526 - ETA: 0s - loss: 0.8129 - acc: 0.524 - ETA: 0s - loss: 0.8126 - acc: 0.509 - ETA: 0s - loss: 0.8133 - acc: 0.501 - 0s 109us/sample - loss: 0.8116 - acc: 0.5012 - val_loss: 0.7048 - val_acc: 0.5024\n",
      "Epoch 3/100\n",
      "2584/2584 [==============================] - ETA: 0s - loss: 0.9885 - acc: 0.406 - ETA: 0s - loss: 0.8339 - acc: 0.468 - ETA: 0s - loss: 0.7976 - acc: 0.508 - ETA: 0s - loss: 0.7933 - acc: 0.504 - ETA: 0s - loss: 0.7895 - acc: 0.505 - 0s 110us/sample - loss: 0.7852 - acc: 0.5112 - val_loss: 0.7019 - val_acc: 0.5088\n",
      "Epoch 4/100\n",
      "2584/2584 [==============================] - ETA: 0s - loss: 0.8626 - acc: 0.500 - ETA: 0s - loss: 0.7670 - acc: 0.523 - ETA: 0s - loss: 0.7602 - acc: 0.522 - ETA: 0s - loss: 0.7634 - acc: 0.513 - ETA: 0s - loss: 0.7613 - acc: 0.519 - 0s 113us/sample - loss: 0.7577 - acc: 0.5205 - val_loss: 0.6978 - val_acc: 0.5024\n",
      "Epoch 5/100\n",
      "2584/2584 [==============================] - ETA: 0s - loss: 0.7668 - acc: 0.406 - ETA: 0s - loss: 0.7793 - acc: 0.503 - ETA: 0s - loss: 0.7842 - acc: 0.484 - ETA: 0s - loss: 0.7715 - acc: 0.488 - ETA: 0s - loss: 0.7655 - acc: 0.486 - 0s 116us/sample - loss: 0.7635 - acc: 0.4861 - val_loss: 0.7014 - val_acc: 0.5281\n",
      "Epoch 6/100\n",
      "2584/2584 [==============================] - ETA: 0s - loss: 0.6661 - acc: 0.562 - ETA: 0s - loss: 0.7320 - acc: 0.524 - ETA: 0s - loss: 0.7427 - acc: 0.521 - ETA: 0s - loss: 0.7445 - acc: 0.507 - ETA: 0s - loss: 0.7402 - acc: 0.510 - 0s 110us/sample - loss: 0.7415 - acc: 0.5089 - val_loss: 0.6963 - val_acc: 0.5120\n",
      "Epoch 7/100\n",
      "2584/2584 [==============================] - ETA: 0s - loss: 0.6347 - acc: 0.500 - ETA: 0s - loss: 0.7249 - acc: 0.500 - ETA: 0s - loss: 0.7307 - acc: 0.518 - ETA: 0s - loss: 0.7274 - acc: 0.527 - ETA: 0s - loss: 0.7225 - acc: 0.532 - 0s 111us/sample - loss: 0.7250 - acc: 0.5286 - val_loss: 0.6910 - val_acc: 0.5425\n",
      "Epoch 8/100\n",
      "2584/2584 [==============================] - ETA: 0s - loss: 0.7625 - acc: 0.406 - ETA: 0s - loss: 0.7209 - acc: 0.500 - ETA: 0s - loss: 0.7238 - acc: 0.510 - ETA: 0s - loss: 0.7226 - acc: 0.510 - ETA: 0s - loss: 0.7232 - acc: 0.504 - 0s 112us/sample - loss: 0.7250 - acc: 0.4981 - val_loss: 0.6935 - val_acc: 0.5457\n",
      "Epoch 9/100\n",
      "2584/2584 [==============================] - ETA: 0s - loss: 0.6737 - acc: 0.593 - ETA: 0s - loss: 0.7160 - acc: 0.517 - ETA: 0s - loss: 0.7157 - acc: 0.513 - ETA: 0s - loss: 0.7146 - acc: 0.516 - ETA: 0s - loss: 0.7186 - acc: 0.506 - 0s 116us/sample - loss: 0.7192 - acc: 0.5039 - val_loss: 0.6918 - val_acc: 0.5329\n",
      "Epoch 10/100\n",
      "2584/2584 [==============================] - ETA: 0s - loss: 0.6535 - acc: 0.593 - ETA: 0s - loss: 0.7173 - acc: 0.480 - ETA: 0s - loss: 0.7134 - acc: 0.492 - ETA: 0s - loss: 0.7075 - acc: 0.506 - ETA: 0s - loss: 0.7100 - acc: 0.498 - 0s 111us/sample - loss: 0.7108 - acc: 0.5004 - val_loss: 0.6957 - val_acc: 0.5233\n",
      "Epoch 11/100\n",
      "2584/2584 [==============================] - ETA: 0s - loss: 0.7132 - acc: 0.437 - ETA: 0s - loss: 0.6999 - acc: 0.506 - ETA: 0s - loss: 0.6978 - acc: 0.518 - ETA: 0s - loss: 0.7036 - acc: 0.515 - ETA: 0s - loss: 0.7010 - acc: 0.523 - 0s 110us/sample - loss: 0.7023 - acc: 0.5240 - val_loss: 0.6973 - val_acc: 0.4735\n",
      "Epoch 12/100\n",
      "2584/2584 [==============================] - ETA: 0s - loss: 0.7315 - acc: 0.468 - ETA: 0s - loss: 0.7104 - acc: 0.518 - ETA: 0s - loss: 0.7105 - acc: 0.516 - ETA: 0s - loss: 0.7094 - acc: 0.511 - ETA: 0s - loss: 0.7078 - acc: 0.514 - 0s 117us/sample - loss: 0.7054 - acc: 0.5193 - val_loss: 0.6917 - val_acc: 0.5249\n",
      "Epoch 13/100\n",
      "2584/2584 [==============================] - ETA: 0s - loss: 0.7207 - acc: 0.468 - ETA: 0s - loss: 0.6981 - acc: 0.529 - ETA: 0s - loss: 0.7031 - acc: 0.523 - ETA: 0s - loss: 0.7000 - acc: 0.524 - ETA: 0s - loss: 0.7013 - acc: 0.515 - 0s 109us/sample - loss: 0.7019 - acc: 0.5174 - val_loss: 0.6921 - val_acc: 0.4880\n",
      "Epoch 14/100\n",
      "2584/2584 [==============================] - ETA: 0s - loss: 0.7061 - acc: 0.593 - ETA: 0s - loss: 0.7166 - acc: 0.473 - ETA: 0s - loss: 0.7086 - acc: 0.487 - ETA: 0s - loss: 0.7045 - acc: 0.497 - ETA: 0s - loss: 0.7049 - acc: 0.496 - 0s 108us/sample - loss: 0.7046 - acc: 0.4977 - val_loss: 0.6932 - val_acc: 0.4799\n",
      "Epoch 15/100\n",
      "2584/2584 [==============================] - ETA: 0s - loss: 0.6995 - acc: 0.593 - ETA: 0s - loss: 0.7066 - acc: 0.516 - ETA: 0s - loss: 0.7056 - acc: 0.506 - ETA: 0s - loss: 0.7052 - acc: 0.510 - ETA: 0s - loss: 0.7028 - acc: 0.508 - 0s 113us/sample - loss: 0.7012 - acc: 0.5159 - val_loss: 0.6958 - val_acc: 0.5056\n",
      "Epoch 16/100\n",
      "2584/2584 [==============================] - ETA: 0s - loss: 0.6567 - acc: 0.593 - ETA: 0s - loss: 0.6913 - acc: 0.546 - ETA: 0s - loss: 0.6941 - acc: 0.531 - ETA: 0s - loss: 0.6954 - acc: 0.518 - ETA: 0s - loss: 0.6969 - acc: 0.511 - 0s 115us/sample - loss: 0.6971 - acc: 0.5104 - val_loss: 0.6926 - val_acc: 0.5281\n",
      "Epoch 17/100\n",
      "2584/2584 [==============================] - ETA: 0s - loss: 0.6955 - acc: 0.500 - ETA: 0s - loss: 0.6965 - acc: 0.521 - ETA: 0s - loss: 0.6960 - acc: 0.532 - ETA: 0s - loss: 0.6983 - acc: 0.518 - ETA: 0s - loss: 0.6979 - acc: 0.510 - 0s 109us/sample - loss: 0.6992 - acc: 0.5066 - val_loss: 0.6905 - val_acc: 0.5233\n",
      "Epoch 18/100\n",
      "2584/2584 [==============================] - ETA: 0s - loss: 0.7014 - acc: 0.468 - ETA: 0s - loss: 0.6960 - acc: 0.495 - ETA: 0s - loss: 0.6997 - acc: 0.490 - ETA: 0s - loss: 0.6966 - acc: 0.502 - ETA: 0s - loss: 0.6968 - acc: 0.511 - 0s 109us/sample - loss: 0.6963 - acc: 0.5120 - val_loss: 0.6931 - val_acc: 0.5393\n",
      "Epoch 19/100\n",
      "2584/2584 [==============================] - ETA: 0s - loss: 0.6926 - acc: 0.562 - ETA: 0s - loss: 0.6966 - acc: 0.517 - ETA: 0s - loss: 0.6993 - acc: 0.520 - ETA: 0s - loss: 0.6976 - acc: 0.519 - ETA: 0s - loss: 0.6980 - acc: 0.512 - 0s 115us/sample - loss: 0.6977 - acc: 0.5112 - val_loss: 0.6931 - val_acc: 0.5313\n",
      "Epoch 20/100\n",
      "2584/2584 [==============================] - ETA: 0s - loss: 0.6837 - acc: 0.625 - ETA: 0s - loss: 0.6835 - acc: 0.585 - ETA: 0s - loss: 0.6921 - acc: 0.551 - ETA: 0s - loss: 0.6926 - acc: 0.544 - ETA: 0s - loss: 0.6931 - acc: 0.542 - 0s 108us/sample - loss: 0.6945 - acc: 0.5364 - val_loss: 0.6949 - val_acc: 0.5072\n",
      "Epoch 21/100\n",
      "2584/2584 [==============================] - ETA: 0s - loss: 0.7100 - acc: 0.437 - ETA: 0s - loss: 0.6899 - acc: 0.546 - ETA: 0s - loss: 0.6958 - acc: 0.526 - ETA: 0s - loss: 0.7005 - acc: 0.514 - ETA: 0s - loss: 0.7005 - acc: 0.506 - 0s 119us/sample - loss: 0.6993 - acc: 0.5046 - val_loss: 0.6960 - val_acc: 0.5056\n",
      "Epoch 22/100\n",
      "2584/2584 [==============================] - ETA: 0s - loss: 0.6985 - acc: 0.562 - ETA: 0s - loss: 0.6977 - acc: 0.498 - ETA: 0s - loss: 0.6985 - acc: 0.507 - ETA: 0s - loss: 0.6979 - acc: 0.510 - ETA: 0s - loss: 0.6986 - acc: 0.506 - 0s 114us/sample - loss: 0.6987 - acc: 0.5050 - val_loss: 0.6924 - val_acc: 0.5393\n",
      "Epoch 23/100\n",
      "2584/2584 [==============================] - ETA: 0s - loss: 0.7277 - acc: 0.406 - ETA: 0s - loss: 0.6981 - acc: 0.495 - ETA: 0s - loss: 0.6958 - acc: 0.497 - ETA: 0s - loss: 0.6948 - acc: 0.512 - ETA: 0s - loss: 0.6945 - acc: 0.506 - 0s 112us/sample - loss: 0.6954 - acc: 0.5027 - val_loss: 0.6949 - val_acc: 0.5072\n",
      "Epoch 24/100\n",
      "2584/2584 [==============================] - ETA: 0s - loss: 0.6831 - acc: 0.500 - ETA: 0s - loss: 0.6912 - acc: 0.519 - ETA: 0s - loss: 0.6985 - acc: 0.498 - ETA: 0s - loss: 0.6973 - acc: 0.498 - ETA: 0s - loss: 0.6964 - acc: 0.502 - 0s 112us/sample - loss: 0.6952 - acc: 0.5039 - val_loss: 0.6915 - val_acc: 0.5265\n",
      "Epoch 25/100\n",
      "2584/2584 [==============================] - ETA: 0s - loss: 0.6931 - acc: 0.531 - ETA: 0s - loss: 0.7025 - acc: 0.482 - ETA: 0s - loss: 0.6936 - acc: 0.520 - ETA: 0s - loss: 0.6932 - acc: 0.520 - ETA: 0s - loss: 0.6934 - acc: 0.523 - 0s 112us/sample - loss: 0.6936 - acc: 0.5228 - val_loss: 0.6928 - val_acc: 0.5345\n",
      "Epoch 26/100\n",
      "2584/2584 [==============================] - ETA: 0s - loss: 0.7299 - acc: 0.375 - ETA: 0s - loss: 0.6950 - acc: 0.501 - ETA: 0s - loss: 0.6986 - acc: 0.498 - ETA: 0s - loss: 0.7004 - acc: 0.501 - ETA: 0s - loss: 0.7001 - acc: 0.502 - 0s 114us/sample - loss: 0.6992 - acc: 0.5066 - val_loss: 0.6941 - val_acc: 0.4719\n",
      "Epoch 27/100\n",
      "2584/2584 [==============================] - ETA: 0s - loss: 0.6796 - acc: 0.593 - ETA: 0s - loss: 0.6930 - acc: 0.546 - ETA: 0s - loss: 0.6928 - acc: 0.536 - ETA: 0s - loss: 0.6937 - acc: 0.527 - ETA: 0s - loss: 0.6947 - acc: 0.513 - 0s 110us/sample - loss: 0.6937 - acc: 0.5166 - val_loss: 0.6969 - val_acc: 0.5169\n",
      "Epoch 28/100\n",
      "2584/2584 [==============================] - ETA: 0s - loss: 0.7297 - acc: 0.375 - ETA: 0s - loss: 0.7015 - acc: 0.491 - ETA: 0s - loss: 0.6960 - acc: 0.510 - ETA: 0s - loss: 0.6952 - acc: 0.519 - ETA: 0s - loss: 0.6963 - acc: 0.511 - 0s 114us/sample - loss: 0.6964 - acc: 0.5120 - val_loss: 0.6976 - val_acc: 0.5072\n",
      "Epoch 29/100\n",
      "2584/2584 [==============================] - ETA: 0s - loss: 0.6776 - acc: 0.531 - ETA: 0s - loss: 0.6971 - acc: 0.518 - ETA: 0s - loss: 0.6951 - acc: 0.523 - ETA: 0s - loss: 0.6942 - acc: 0.523 - ETA: 0s - loss: 0.6953 - acc: 0.519 - 0s 111us/sample - loss: 0.6959 - acc: 0.5139 - val_loss: 0.6983 - val_acc: 0.4896\n",
      "Epoch 30/100\n",
      "2584/2584 [==============================] - ETA: 0s - loss: 0.6860 - acc: 0.500 - ETA: 0s - loss: 0.7007 - acc: 0.483 - ETA: 0s - loss: 0.6981 - acc: 0.496 - ETA: 0s - loss: 0.6973 - acc: 0.495 - ETA: 0s - loss: 0.6984 - acc: 0.489 - 0s 113us/sample - loss: 0.6978 - acc: 0.4930 - val_loss: 0.6960 - val_acc: 0.5185\n",
      "Epoch 31/100\n",
      "2584/2584 [==============================] - ETA: 0s - loss: 0.6819 - acc: 0.656 - ETA: 0s - loss: 0.6930 - acc: 0.537 - ETA: 0s - loss: 0.6954 - acc: 0.514 - ETA: 0s - loss: 0.6963 - acc: 0.512 - ETA: 0s - loss: 0.6963 - acc: 0.509 - 0s 109us/sample - loss: 0.6950 - acc: 0.5101 - val_loss: 0.6929 - val_acc: 0.5217\n",
      "Epoch 32/100\n",
      "2584/2584 [==============================] - ETA: 0s - loss: 0.6472 - acc: 0.656 - ETA: 0s - loss: 0.6945 - acc: 0.531 - ETA: 0s - loss: 0.6964 - acc: 0.513 - ETA: 0s - loss: 0.6966 - acc: 0.513 - ETA: 0s - loss: 0.6962 - acc: 0.509 - 0s 116us/sample - loss: 0.6943 - acc: 0.5182 - val_loss: 0.6941 - val_acc: 0.5281\n",
      "Epoch 33/100\n",
      "2584/2584 [==============================] - ETA: 0s - loss: 0.6982 - acc: 0.531 - ETA: 0s - loss: 0.6978 - acc: 0.520 - ETA: 0s - loss: 0.6925 - acc: 0.520 - ETA: 0s - loss: 0.6912 - acc: 0.527 - ETA: 0s - loss: 0.6934 - acc: 0.526 - 0s 112us/sample - loss: 0.6931 - acc: 0.5248 - val_loss: 0.6911 - val_acc: 0.5361\n",
      "Epoch 34/100\n",
      "2584/2584 [==============================] - ETA: 0s - loss: 0.7324 - acc: 0.437 - ETA: 0s - loss: 0.6981 - acc: 0.506 - ETA: 0s - loss: 0.6953 - acc: 0.528 - ETA: 0s - loss: 0.6982 - acc: 0.512 - ETA: 0s - loss: 0.6983 - acc: 0.510 - 0s 114us/sample - loss: 0.6975 - acc: 0.5116 - val_loss: 0.6929 - val_acc: 0.4831\n",
      "Epoch 35/100\n",
      "2584/2584 [==============================] - ETA: 0s - loss: 0.6966 - acc: 0.437 - ETA: 0s - loss: 0.6915 - acc: 0.521 - ETA: 0s - loss: 0.6875 - acc: 0.532 - ETA: 0s - loss: 0.6877 - acc: 0.530 - ETA: 0s - loss: 0.6881 - acc: 0.535 - 0s 111us/sample - loss: 0.6898 - acc: 0.5348 - val_loss: 0.7028 - val_acc: 0.5024\n",
      "Epoch 36/100\n",
      "2584/2584 [==============================] - ETA: 0s - loss: 0.6789 - acc: 0.562 - ETA: 0s - loss: 0.6924 - acc: 0.528 - ETA: 0s - loss: 0.6981 - acc: 0.511 - ETA: 0s - loss: 0.6966 - acc: 0.515 - ETA: 0s - loss: 0.6968 - acc: 0.515 - 0s 117us/sample - loss: 0.6970 - acc: 0.5155 - val_loss: 0.6968 - val_acc: 0.5217\n",
      "Epoch 37/100\n",
      "2584/2584 [==============================] - ETA: 0s - loss: 0.7209 - acc: 0.406 - ETA: 0s - loss: 0.7016 - acc: 0.477 - ETA: 0s - loss: 0.7019 - acc: 0.500 - ETA: 0s - loss: 0.6963 - acc: 0.521 - ETA: 0s - loss: 0.6955 - acc: 0.521 - 0s 118us/sample - loss: 0.6947 - acc: 0.5252 - val_loss: 0.7008 - val_acc: 0.4992\n",
      "Epoch 38/100\n",
      "2584/2584 [==============================] - ETA: 0s - loss: 0.6899 - acc: 0.562 - ETA: 0s - loss: 0.6890 - acc: 0.554 - ETA: 0s - loss: 0.6910 - acc: 0.539 - ETA: 0s - loss: 0.6910 - acc: 0.541 - ETA: 0s - loss: 0.6928 - acc: 0.533 - 0s 110us/sample - loss: 0.6946 - acc: 0.5306 - val_loss: 0.7011 - val_acc: 0.4848\n",
      "Epoch 39/100\n",
      "2584/2584 [==============================] - ETA: 0s - loss: 0.6800 - acc: 0.656 - ETA: 0s - loss: 0.6914 - acc: 0.548 - ETA: 0s - loss: 0.6940 - acc: 0.530 - ETA: 0s - loss: 0.6937 - acc: 0.526 - ETA: 0s - loss: 0.6929 - acc: 0.532 - 0s 108us/sample - loss: 0.6934 - acc: 0.5321 - val_loss: 0.6935 - val_acc: 0.5201\n",
      "Epoch 40/100\n",
      "2584/2584 [==============================] - ETA: 0s - loss: 0.7293 - acc: 0.250 - ETA: 0s - loss: 0.6967 - acc: 0.517 - ETA: 0s - loss: 0.6999 - acc: 0.501 - ETA: 0s - loss: 0.6989 - acc: 0.508 - ETA: 0s - loss: 0.6983 - acc: 0.513 - ETA: 0s - loss: 0.6970 - acc: 0.514 - 0s 128us/sample - loss: 0.6972 - acc: 0.5132 - val_loss: 0.6928 - val_acc: 0.5008\n",
      "Epoch 41/100\n",
      "2584/2584 [==============================] - ETA: 0s - loss: 0.6924 - acc: 0.562 - ETA: 0s - loss: 0.6918 - acc: 0.516 - ETA: 0s - loss: 0.6929 - acc: 0.523 - ETA: 0s - loss: 0.6949 - acc: 0.509 - ETA: 0s - loss: 0.6938 - acc: 0.514 - 0s 114us/sample - loss: 0.6955 - acc: 0.5058 - val_loss: 0.6961 - val_acc: 0.4944\n",
      "Epoch 42/100\n",
      "2584/2584 [==============================] - ETA: 0s - loss: 0.7242 - acc: 0.531 - ETA: 0s - loss: 0.6880 - acc: 0.548 - ETA: 0s - loss: 0.6956 - acc: 0.525 - ETA: 0s - loss: 0.6953 - acc: 0.520 - ETA: 0s - loss: 0.6931 - acc: 0.517 - 0s 111us/sample - loss: 0.6934 - acc: 0.5159 - val_loss: 0.6927 - val_acc: 0.5474\n",
      "Epoch 43/100\n",
      "2584/2584 [==============================] - ETA: 0s - loss: 0.6920 - acc: 0.375 - ETA: 0s - loss: 0.6900 - acc: 0.521 - ETA: 0s - loss: 0.6927 - acc: 0.522 - ETA: 0s - loss: 0.6935 - acc: 0.518 - ETA: 0s - loss: 0.6941 - acc: 0.517 - 0s 108us/sample - loss: 0.6943 - acc: 0.5166 - val_loss: 0.6920 - val_acc: 0.5201\n",
      "Epoch 44/100\n",
      "2584/2584 [==============================] - ETA: 0s - loss: 0.7103 - acc: 0.500 - ETA: 0s - loss: 0.6962 - acc: 0.533 - ETA: 0s - loss: 0.6965 - acc: 0.525 - ETA: 0s - loss: 0.6990 - acc: 0.521 - ETA: 0s - loss: 0.6968 - acc: 0.526 - 0s 111us/sample - loss: 0.6963 - acc: 0.5252 - val_loss: 0.6910 - val_acc: 0.5281\n",
      "Epoch 45/100\n",
      "2584/2584 [==============================] - ETA: 0s - loss: 0.6919 - acc: 0.562 - ETA: 0s - loss: 0.7015 - acc: 0.489 - ETA: 0s - loss: 0.6984 - acc: 0.496 - ETA: 0s - loss: 0.6980 - acc: 0.497 - ETA: 0s - loss: 0.6964 - acc: 0.500 - 0s 109us/sample - loss: 0.6965 - acc: 0.5062 - val_loss: 0.6947 - val_acc: 0.5297\n",
      "Epoch 46/100\n",
      "2584/2584 [==============================] - ETA: 0s - loss: 0.6841 - acc: 0.531 - ETA: 0s - loss: 0.6943 - acc: 0.519 - ETA: 0s - loss: 0.6911 - acc: 0.533 - ETA: 0s - loss: 0.6943 - acc: 0.522 - ETA: 0s - loss: 0.6945 - acc: 0.523 - 0s 113us/sample - loss: 0.6941 - acc: 0.5236 - val_loss: 0.6934 - val_acc: 0.5169\n",
      "Epoch 47/100\n",
      "2584/2584 [==============================] - ETA: 0s - loss: 0.6908 - acc: 0.531 - ETA: 0s - loss: 0.6905 - acc: 0.519 - ETA: 0s - loss: 0.6922 - acc: 0.526 - ETA: 0s - loss: 0.6948 - acc: 0.521 - ETA: 0s - loss: 0.6952 - acc: 0.515 - 0s 112us/sample - loss: 0.6950 - acc: 0.5143 - val_loss: 0.6927 - val_acc: 0.5088\n",
      "Epoch 48/100\n",
      "2584/2584 [==============================] - ETA: 0s - loss: 0.6813 - acc: 0.562 - ETA: 0s - loss: 0.6891 - acc: 0.543 - ETA: 0s - loss: 0.6923 - acc: 0.530 - ETA: 0s - loss: 0.6921 - acc: 0.524 - ETA: 0s - loss: 0.6912 - acc: 0.529 - 0s 111us/sample - loss: 0.6928 - acc: 0.5240 - val_loss: 0.6928 - val_acc: 0.5024\n",
      "Epoch 49/100\n",
      "2584/2584 [==============================] - ETA: 0s - loss: 0.6855 - acc: 0.500 - ETA: 0s - loss: 0.6970 - acc: 0.524 - ETA: 0s - loss: 0.6948 - acc: 0.524 - ETA: 0s - loss: 0.6964 - acc: 0.527 - ETA: 0s - loss: 0.6955 - acc: 0.524 - 0s 113us/sample - loss: 0.6952 - acc: 0.5232 - val_loss: 0.6935 - val_acc: 0.5217\n"
     ]
    },
    {
     "name": "stdout",
     "output_type": "stream",
     "text": [
      "Epoch 50/100\n",
      "2584/2584 [==============================] - ETA: 0s - loss: 0.6829 - acc: 0.531 - ETA: 0s - loss: 0.7016 - acc: 0.483 - ETA: 0s - loss: 0.6951 - acc: 0.518 - ETA: 0s - loss: 0.6939 - acc: 0.522 - ETA: 0s - loss: 0.6934 - acc: 0.526 - 0s 112us/sample - loss: 0.6932 - acc: 0.5236 - val_loss: 0.7047 - val_acc: 0.5056\n",
      "Epoch 51/100\n",
      "2584/2584 [==============================] - ETA: 0s - loss: 0.7282 - acc: 0.375 - ETA: 0s - loss: 0.6982 - acc: 0.490 - ETA: 0s - loss: 0.6949 - acc: 0.503 - ETA: 0s - loss: 0.6962 - acc: 0.496 - ETA: 0s - loss: 0.6961 - acc: 0.503 - 0s 114us/sample - loss: 0.6952 - acc: 0.5043 - val_loss: 0.6954 - val_acc: 0.5169\n",
      "Epoch 52/100\n",
      "2584/2584 [==============================] - ETA: 0s - loss: 0.7025 - acc: 0.531 - ETA: 0s - loss: 0.6898 - acc: 0.529 - ETA: 0s - loss: 0.6947 - acc: 0.522 - ETA: 0s - loss: 0.6955 - acc: 0.514 - ETA: 0s - loss: 0.6944 - acc: 0.514 - 0s 111us/sample - loss: 0.6944 - acc: 0.5147 - val_loss: 0.6990 - val_acc: 0.4912\n",
      "Epoch 53/100\n",
      "2584/2584 [==============================] - ETA: 0s - loss: 0.7179 - acc: 0.437 - ETA: 0s - loss: 0.6933 - acc: 0.523 - ETA: 0s - loss: 0.6938 - acc: 0.519 - ETA: 0s - loss: 0.6941 - acc: 0.518 - ETA: 0s - loss: 0.6942 - acc: 0.518 - 0s 110us/sample - loss: 0.6957 - acc: 0.5147 - val_loss: 0.6926 - val_acc: 0.5185\n",
      "Epoch 54/100\n",
      "2584/2584 [==============================] - ETA: 0s - loss: 0.7069 - acc: 0.500 - ETA: 0s - loss: 0.6977 - acc: 0.486 - ETA: 0s - loss: 0.6946 - acc: 0.499 - ETA: 0s - loss: 0.6933 - acc: 0.521 - ETA: 0s - loss: 0.6937 - acc: 0.519 - 0s 117us/sample - loss: 0.6935 - acc: 0.5232 - val_loss: 0.6944 - val_acc: 0.5072\n",
      "Epoch 55/100\n",
      "2584/2584 [==============================] - ETA: 0s - loss: 0.7041 - acc: 0.500 - ETA: 0s - loss: 0.6934 - acc: 0.516 - ETA: 0s - loss: 0.6901 - acc: 0.526 - ETA: 0s - loss: 0.6937 - acc: 0.528 - ETA: 0s - loss: 0.6936 - acc: 0.517 - 0s 115us/sample - loss: 0.6929 - acc: 0.5178 - val_loss: 0.6964 - val_acc: 0.5040\n",
      "Epoch 56/100\n",
      "2584/2584 [==============================] - ETA: 0s - loss: 0.6834 - acc: 0.562 - ETA: 0s - loss: 0.6985 - acc: 0.477 - ETA: 0s - loss: 0.6975 - acc: 0.496 - ETA: 0s - loss: 0.6974 - acc: 0.498 - ETA: 0s - loss: 0.6961 - acc: 0.510 - 0s 112us/sample - loss: 0.6955 - acc: 0.5108 - val_loss: 0.6917 - val_acc: 0.5329\n",
      "Epoch 57/100\n",
      "2584/2584 [==============================] - ETA: 0s - loss: 0.7091 - acc: 0.468 - ETA: 0s - loss: 0.6930 - acc: 0.523 - ETA: 0s - loss: 0.6927 - acc: 0.528 - ETA: 0s - loss: 0.6956 - acc: 0.520 - ETA: 0s - loss: 0.6973 - acc: 0.509 - ETA: 0s - loss: 0.6964 - acc: 0.515 - 0s 125us/sample - loss: 0.6966 - acc: 0.5120 - val_loss: 0.6972 - val_acc: 0.5152\n",
      "Epoch 58/100\n",
      "2584/2584 [==============================] - ETA: 0s - loss: 0.7183 - acc: 0.468 - ETA: 0s - loss: 0.6820 - acc: 0.564 - ETA: 0s - loss: 0.6888 - acc: 0.557 - ETA: 0s - loss: 0.6884 - acc: 0.548 - ETA: 0s - loss: 0.6886 - acc: 0.545 - 0s 117us/sample - loss: 0.6888 - acc: 0.5414 - val_loss: 0.6966 - val_acc: 0.4976\n",
      "Epoch 59/100\n",
      "2584/2584 [==============================] - ETA: 0s - loss: 0.6875 - acc: 0.625 - ETA: 0s - loss: 0.6863 - acc: 0.536 - ETA: 0s - loss: 0.6933 - acc: 0.528 - ETA: 0s - loss: 0.6916 - acc: 0.525 - ETA: 0s - loss: 0.6939 - acc: 0.522 - 0s 115us/sample - loss: 0.6925 - acc: 0.5271 - val_loss: 0.6921 - val_acc: 0.5217\n",
      "Epoch 60/100\n",
      "2584/2584 [==============================] - ETA: 0s - loss: 0.6938 - acc: 0.468 - ETA: 0s - loss: 0.6887 - acc: 0.525 - ETA: 0s - loss: 0.6877 - acc: 0.541 - ETA: 0s - loss: 0.6900 - acc: 0.535 - ETA: 0s - loss: 0.6926 - acc: 0.527 - ETA: 0s - loss: 0.6934 - acc: 0.527 - 0s 125us/sample - loss: 0.6932 - acc: 0.5283 - val_loss: 0.6954 - val_acc: 0.5024\n",
      "Epoch 61/100\n",
      "2584/2584 [==============================] - ETA: 0s - loss: 0.6363 - acc: 0.656 - ETA: 0s - loss: 0.6938 - acc: 0.496 - ETA: 0s - loss: 0.6896 - acc: 0.518 - ETA: 0s - loss: 0.6888 - acc: 0.524 - ETA: 0s - loss: 0.6881 - acc: 0.539 - 0s 122us/sample - loss: 0.6909 - acc: 0.5317 - val_loss: 0.7058 - val_acc: 0.4992\n",
      "Epoch 62/100\n",
      "2584/2584 [==============================] - ETA: 0s - loss: 0.6817 - acc: 0.531 - ETA: 0s - loss: 0.6980 - acc: 0.509 - ETA: 0s - loss: 0.6964 - acc: 0.522 - ETA: 0s - loss: 0.6940 - acc: 0.524 - ETA: 0s - loss: 0.6954 - acc: 0.520 - 0s 114us/sample - loss: 0.6945 - acc: 0.5228 - val_loss: 0.6960 - val_acc: 0.5249\n",
      "Epoch 63/100\n",
      "2584/2584 [==============================] - ETA: 0s - loss: 0.6901 - acc: 0.562 - ETA: 0s - loss: 0.6944 - acc: 0.519 - ETA: 0s - loss: 0.6940 - acc: 0.517 - ETA: 0s - loss: 0.6917 - acc: 0.525 - ETA: 0s - loss: 0.6916 - acc: 0.527 - 0s 110us/sample - loss: 0.6923 - acc: 0.5248 - val_loss: 0.6939 - val_acc: 0.5136\n",
      "Epoch 64/100\n",
      "2584/2584 [==============================] - ETA: 0s - loss: 0.6881 - acc: 0.562 - ETA: 0s - loss: 0.6899 - acc: 0.527 - ETA: 0s - loss: 0.6842 - acc: 0.558 - ETA: 0s - loss: 0.6898 - acc: 0.546 - ETA: 0s - loss: 0.6907 - acc: 0.547 - 0s 110us/sample - loss: 0.6903 - acc: 0.5488 - val_loss: 0.6945 - val_acc: 0.5008\n",
      "Epoch 65/100\n",
      "2584/2584 [==============================] - ETA: 0s - loss: 0.6826 - acc: 0.500 - ETA: 0s - loss: 0.6805 - acc: 0.548 - ETA: 0s - loss: 0.6940 - acc: 0.517 - ETA: 0s - loss: 0.6910 - acc: 0.523 - ETA: 0s - loss: 0.6921 - acc: 0.523 - 0s 113us/sample - loss: 0.6919 - acc: 0.5232 - val_loss: 0.6997 - val_acc: 0.5169\n",
      "Epoch 66/100\n",
      "2584/2584 [==============================] - ETA: 0s - loss: 0.6990 - acc: 0.562 - ETA: 0s - loss: 0.6867 - acc: 0.543 - ETA: 0s - loss: 0.6921 - acc: 0.535 - ETA: 0s - loss: 0.6904 - acc: 0.536 - ETA: 0s - loss: 0.6897 - acc: 0.538 - 0s 113us/sample - loss: 0.6914 - acc: 0.5368 - val_loss: 0.6997 - val_acc: 0.5104\n",
      "Epoch 67/100\n",
      "2584/2584 [==============================] - ETA: 0s - loss: 0.6774 - acc: 0.562 - ETA: 0s - loss: 0.7002 - acc: 0.508 - ETA: 0s - loss: 0.6962 - acc: 0.513 - ETA: 0s - loss: 0.6934 - acc: 0.516 - ETA: 0s - loss: 0.6952 - acc: 0.513 - 0s 110us/sample - loss: 0.6946 - acc: 0.5166 - val_loss: 0.6983 - val_acc: 0.5072\n",
      "Epoch 68/100\n",
      "2584/2584 [==============================] - ETA: 0s - loss: 0.6877 - acc: 0.562 - ETA: 0s - loss: 0.6890 - acc: 0.538 - ETA: 0s - loss: 0.6904 - acc: 0.531 - ETA: 0s - loss: 0.6891 - acc: 0.535 - ETA: 0s - loss: 0.6876 - acc: 0.541 - 0s 118us/sample - loss: 0.6874 - acc: 0.5399 - val_loss: 0.7039 - val_acc: 0.4928\n",
      "Epoch 69/100\n",
      "2584/2584 [==============================] - ETA: 0s - loss: 0.6548 - acc: 0.625 - ETA: 0s - loss: 0.7023 - acc: 0.500 - ETA: 0s - loss: 0.6921 - acc: 0.525 - ETA: 0s - loss: 0.6875 - acc: 0.537 - ETA: 0s - loss: 0.6899 - acc: 0.530 - 0s 114us/sample - loss: 0.6912 - acc: 0.5313 - val_loss: 0.7023 - val_acc: 0.5072\n",
      "Epoch 70/100\n",
      "2584/2584 [==============================] - ETA: 0s - loss: 0.7124 - acc: 0.562 - ETA: 0s - loss: 0.6987 - acc: 0.507 - ETA: 0s - loss: 0.6986 - acc: 0.509 - ETA: 0s - loss: 0.6976 - acc: 0.512 - ETA: 0s - loss: 0.6970 - acc: 0.516 - 0s 116us/sample - loss: 0.6950 - acc: 0.5232 - val_loss: 0.6996 - val_acc: 0.5120\n",
      "Epoch 71/100\n",
      "2584/2584 [==============================] - ETA: 0s - loss: 0.6880 - acc: 0.562 - ETA: 0s - loss: 0.6992 - acc: 0.511 - ETA: 0s - loss: 0.6965 - acc: 0.529 - ETA: 0s - loss: 0.6947 - acc: 0.532 - ETA: 0s - loss: 0.6950 - acc: 0.529 - 0s 111us/sample - loss: 0.6946 - acc: 0.5302 - val_loss: 0.7045 - val_acc: 0.5008\n",
      "Epoch 72/100\n",
      "2584/2584 [==============================] - ETA: 0s - loss: 0.7046 - acc: 0.531 - ETA: 0s - loss: 0.6930 - acc: 0.537 - ETA: 0s - loss: 0.6849 - acc: 0.562 - ETA: 0s - loss: 0.6877 - acc: 0.556 - ETA: 0s - loss: 0.6870 - acc: 0.560 - ETA: 0s - loss: 0.6888 - acc: 0.550 - 0s 126us/sample - loss: 0.6901 - acc: 0.5430 - val_loss: 0.6947 - val_acc: 0.5233\n",
      "Epoch 73/100\n",
      "2584/2584 [==============================] - ETA: 0s - loss: 0.6911 - acc: 0.531 - ETA: 0s - loss: 0.6920 - acc: 0.524 - ETA: 0s - loss: 0.6914 - acc: 0.528 - ETA: 0s - loss: 0.6912 - acc: 0.530 - ETA: 0s - loss: 0.6928 - acc: 0.528 - 0s 113us/sample - loss: 0.6926 - acc: 0.5290 - val_loss: 0.6980 - val_acc: 0.5169\n",
      "Epoch 74/100\n",
      "2584/2584 [==============================] - ETA: 0s - loss: 0.6652 - acc: 0.500 - ETA: 0s - loss: 0.6880 - acc: 0.553 - ETA: 0s - loss: 0.6889 - acc: 0.543 - ETA: 0s - loss: 0.6919 - acc: 0.531 - ETA: 0s - loss: 0.6902 - acc: 0.533 - 0s 117us/sample - loss: 0.6919 - acc: 0.5310 - val_loss: 0.6939 - val_acc: 0.5265\n",
      "Epoch 75/100\n",
      "2584/2584 [==============================] - ETA: 0s - loss: 0.6870 - acc: 0.500 - ETA: 0s - loss: 0.6971 - acc: 0.508 - ETA: 0s - loss: 0.6943 - acc: 0.514 - ETA: 0s - loss: 0.6948 - acc: 0.512 - ETA: 0s - loss: 0.6924 - acc: 0.523 - 0s 114us/sample - loss: 0.6923 - acc: 0.5283 - val_loss: 0.6961 - val_acc: 0.5217\n",
      "Epoch 76/100\n",
      "2584/2584 [==============================] - ETA: 0s - loss: 0.6908 - acc: 0.562 - ETA: 0s - loss: 0.6938 - acc: 0.516 - ETA: 0s - loss: 0.6916 - acc: 0.534 - ETA: 0s - loss: 0.6916 - acc: 0.532 - ETA: 0s - loss: 0.6912 - acc: 0.526 - 0s 112us/sample - loss: 0.6912 - acc: 0.5290 - val_loss: 0.6971 - val_acc: 0.5201\n",
      "Epoch 77/100\n",
      "2584/2584 [==============================] - ETA: 0s - loss: 0.6759 - acc: 0.593 - ETA: 0s - loss: 0.6864 - acc: 0.531 - ETA: 0s - loss: 0.6927 - acc: 0.521 - ETA: 0s - loss: 0.6902 - acc: 0.526 - ETA: 0s - loss: 0.6892 - acc: 0.533 - 0s 111us/sample - loss: 0.6908 - acc: 0.5341 - val_loss: 0.6982 - val_acc: 0.5185\n",
      "Epoch 78/100\n",
      "2584/2584 [==============================] - ETA: 0s - loss: 0.7098 - acc: 0.562 - ETA: 0s - loss: 0.6910 - acc: 0.541 - ETA: 0s - loss: 0.6863 - acc: 0.545 - ETA: 0s - loss: 0.6859 - acc: 0.545 - ETA: 0s - loss: 0.6885 - acc: 0.540 - 0s 114us/sample - loss: 0.6909 - acc: 0.5395 - val_loss: 0.7041 - val_acc: 0.4976\n",
      "Epoch 79/100\n",
      "2584/2584 [==============================] - ETA: 0s - loss: 0.7698 - acc: 0.343 - ETA: 0s - loss: 0.7050 - acc: 0.502 - ETA: 0s - loss: 0.6995 - acc: 0.507 - ETA: 0s - loss: 0.6960 - acc: 0.510 - ETA: 0s - loss: 0.6945 - acc: 0.520 - 0s 115us/sample - loss: 0.6942 - acc: 0.5244 - val_loss: 0.6934 - val_acc: 0.5056\n",
      "Epoch 80/100\n",
      "2584/2584 [==============================] - ETA: 0s - loss: 0.6784 - acc: 0.562 - ETA: 0s - loss: 0.6923 - acc: 0.534 - ETA: 0s - loss: 0.6909 - acc: 0.535 - ETA: 0s - loss: 0.6897 - acc: 0.531 - ETA: 0s - loss: 0.6910 - acc: 0.531 - 0s 111us/sample - loss: 0.6899 - acc: 0.5344 - val_loss: 0.7007 - val_acc: 0.4944\n",
      "Epoch 81/100\n",
      "2584/2584 [==============================] - ETA: 0s - loss: 0.7229 - acc: 0.437 - ETA: 0s - loss: 0.6841 - acc: 0.562 - ETA: 0s - loss: 0.6919 - acc: 0.541 - ETA: 0s - loss: 0.6938 - acc: 0.542 - ETA: 0s - loss: 0.6918 - acc: 0.547 - 0s 111us/sample - loss: 0.6898 - acc: 0.5515 - val_loss: 0.7168 - val_acc: 0.4944\n",
      "Epoch 82/100\n",
      "2584/2584 [==============================] - ETA: 0s - loss: 0.6694 - acc: 0.562 - ETA: 0s - loss: 0.7002 - acc: 0.491 - ETA: 0s - loss: 0.6944 - acc: 0.512 - ETA: 0s - loss: 0.6954 - acc: 0.512 - ETA: 0s - loss: 0.6909 - acc: 0.525 - 0s 118us/sample - loss: 0.6914 - acc: 0.5271 - val_loss: 0.6985 - val_acc: 0.5104\n",
      "Epoch 83/100\n",
      "2584/2584 [==============================] - ETA: 0s - loss: 0.6873 - acc: 0.562 - ETA: 0s - loss: 0.6950 - acc: 0.503 - ETA: 0s - loss: 0.6938 - acc: 0.522 - ETA: 0s - loss: 0.6915 - acc: 0.535 - ETA: 0s - loss: 0.6908 - acc: 0.537 - 0s 116us/sample - loss: 0.6908 - acc: 0.5395 - val_loss: 0.7102 - val_acc: 0.5104\n",
      "Epoch 84/100\n",
      "2584/2584 [==============================] - ETA: 0s - loss: 0.6886 - acc: 0.562 - ETA: 0s - loss: 0.6835 - acc: 0.557 - ETA: 0s - loss: 0.6886 - acc: 0.546 - ETA: 0s - loss: 0.6900 - acc: 0.542 - ETA: 0s - loss: 0.6913 - acc: 0.540 - 0s 109us/sample - loss: 0.6911 - acc: 0.5402 - val_loss: 0.6942 - val_acc: 0.5217\n",
      "Epoch 85/100\n",
      "2584/2584 [==============================] - ETA: 0s - loss: 0.6711 - acc: 0.656 - ETA: 0s - loss: 0.6860 - acc: 0.560 - ETA: 0s - loss: 0.6853 - acc: 0.554 - ETA: 0s - loss: 0.6869 - acc: 0.548 - ETA: 0s - loss: 0.6913 - acc: 0.535 - 0s 108us/sample - loss: 0.6916 - acc: 0.5344 - val_loss: 0.6948 - val_acc: 0.5072\n",
      "Epoch 86/100\n",
      "2584/2584 [==============================] - ETA: 0s - loss: 0.6955 - acc: 0.437 - ETA: 0s - loss: 0.6928 - acc: 0.537 - ETA: 0s - loss: 0.6915 - acc: 0.530 - ETA: 0s - loss: 0.6939 - acc: 0.517 - ETA: 0s - loss: 0.6925 - acc: 0.526 - 0s 116us/sample - loss: 0.6905 - acc: 0.5387 - val_loss: 0.7046 - val_acc: 0.5072\n",
      "Epoch 87/100\n",
      "2584/2584 [==============================] - ETA: 0s - loss: 0.6727 - acc: 0.500 - ETA: 0s - loss: 0.6789 - acc: 0.560 - ETA: 0s - loss: 0.6840 - acc: 0.551 - ETA: 0s - loss: 0.6837 - acc: 0.551 - ETA: 0s - loss: 0.6849 - acc: 0.552 - 0s 112us/sample - loss: 0.6863 - acc: 0.5507 - val_loss: 0.7052 - val_acc: 0.5056\n",
      "Epoch 88/100\n",
      "2584/2584 [==============================] - ETA: 0s - loss: 0.6580 - acc: 0.625 - ETA: 0s - loss: 0.6815 - acc: 0.564 - ETA: 0s - loss: 0.6890 - acc: 0.549 - ETA: 0s - loss: 0.6899 - acc: 0.552 - ETA: 0s - loss: 0.6903 - acc: 0.550 - 0s 113us/sample - loss: 0.6894 - acc: 0.5526 - val_loss: 0.6991 - val_acc: 0.5088\n",
      "Epoch 89/100\n",
      "2584/2584 [==============================] - ETA: 0s - loss: 0.7102 - acc: 0.500 - ETA: 0s - loss: 0.6959 - acc: 0.534 - ETA: 0s - loss: 0.6919 - acc: 0.542 - ETA: 0s - loss: 0.6916 - acc: 0.546 - ETA: 0s - loss: 0.6921 - acc: 0.540 - 0s 115us/sample - loss: 0.6926 - acc: 0.5391 - val_loss: 0.6981 - val_acc: 0.4848\n",
      "Epoch 90/100\n",
      "2584/2584 [==============================] - ETA: 0s - loss: 0.6624 - acc: 0.625 - ETA: 0s - loss: 0.6790 - acc: 0.564 - ETA: 0s - loss: 0.6838 - acc: 0.557 - ETA: 0s - loss: 0.6831 - acc: 0.557 - ETA: 0s - loss: 0.6848 - acc: 0.550 - 0s 112us/sample - loss: 0.6844 - acc: 0.5515 - val_loss: 0.7105 - val_acc: 0.5024\n",
      "Epoch 91/100\n",
      "2584/2584 [==============================] - ETA: 0s - loss: 0.6514 - acc: 0.625 - ETA: 0s - loss: 0.6879 - acc: 0.555 - ETA: 0s - loss: 0.6915 - acc: 0.541 - ETA: 0s - loss: 0.6914 - acc: 0.544 - ETA: 0s - loss: 0.6896 - acc: 0.545 - 0s 112us/sample - loss: 0.6905 - acc: 0.5441 - val_loss: 0.6981 - val_acc: 0.5008\n",
      "Epoch 92/100\n",
      "2584/2584 [==============================] - ETA: 0s - loss: 0.6838 - acc: 0.531 - ETA: 0s - loss: 0.6883 - acc: 0.564 - ETA: 0s - loss: 0.6877 - acc: 0.552 - ETA: 0s - loss: 0.6874 - acc: 0.549 - ETA: 0s - loss: 0.6893 - acc: 0.547 - 0s 114us/sample - loss: 0.6896 - acc: 0.5461 - val_loss: 0.7018 - val_acc: 0.5201\n",
      "Epoch 93/100\n",
      "2584/2584 [==============================] - ETA: 0s - loss: 0.6822 - acc: 0.562 - ETA: 0s - loss: 0.6887 - acc: 0.550 - ETA: 0s - loss: 0.6865 - acc: 0.550 - ETA: 0s - loss: 0.6846 - acc: 0.552 - ETA: 0s - loss: 0.6840 - acc: 0.554 - 0s 114us/sample - loss: 0.6846 - acc: 0.5546 - val_loss: 0.7093 - val_acc: 0.5169\n",
      "Epoch 94/100\n",
      "2584/2584 [==============================] - ETA: 0s - loss: 0.7013 - acc: 0.406 - ETA: 0s - loss: 0.6969 - acc: 0.517 - ETA: 0s - loss: 0.6902 - acc: 0.544 - ETA: 0s - loss: 0.6914 - acc: 0.535 - ETA: 0s - loss: 0.6923 - acc: 0.534 - 0s 118us/sample - loss: 0.6911 - acc: 0.5368 - val_loss: 0.7016 - val_acc: 0.5136\n",
      "Epoch 95/100\n",
      "2584/2584 [==============================] - ETA: 0s - loss: 0.7081 - acc: 0.468 - ETA: 0s - loss: 0.6936 - acc: 0.520 - ETA: 0s - loss: 0.6932 - acc: 0.529 - ETA: 0s - loss: 0.6943 - acc: 0.533 - ETA: 0s - loss: 0.6940 - acc: 0.527 - 0s 118us/sample - loss: 0.6913 - acc: 0.5344 - val_loss: 0.6995 - val_acc: 0.5169\n",
      "Epoch 96/100\n",
      "2584/2584 [==============================] - ETA: 0s - loss: 0.7021 - acc: 0.562 - ETA: 0s - loss: 0.6848 - acc: 0.552 - ETA: 0s - loss: 0.6843 - acc: 0.557 - ETA: 0s - loss: 0.6908 - acc: 0.539 - ETA: 0s - loss: 0.6906 - acc: 0.538 - 0s 117us/sample - loss: 0.6905 - acc: 0.5375 - val_loss: 0.7001 - val_acc: 0.5152\n",
      "Epoch 97/100\n",
      "2584/2584 [==============================] - ETA: 0s - loss: 0.6146 - acc: 0.718 - ETA: 0s - loss: 0.6850 - acc: 0.547 - ETA: 0s - loss: 0.6850 - acc: 0.565 - ETA: 0s - loss: 0.6899 - acc: 0.545 - ETA: 0s - loss: 0.6905 - acc: 0.535 - 0s 113us/sample - loss: 0.6898 - acc: 0.5406 - val_loss: 0.6994 - val_acc: 0.5008\n",
      "Epoch 98/100\n",
      "2584/2584 [==============================] - ETA: 0s - loss: 0.6874 - acc: 0.593 - ETA: 0s - loss: 0.6794 - acc: 0.550 - ETA: 0s - loss: 0.6890 - acc: 0.531 - ETA: 0s - loss: 0.6886 - acc: 0.534 - ETA: 0s - loss: 0.6886 - acc: 0.544 - 0s 113us/sample - loss: 0.6895 - acc: 0.5441 - val_loss: 0.7144 - val_acc: 0.4912\n"
     ]
    },
    {
     "name": "stdout",
     "output_type": "stream",
     "text": [
      "Epoch 99/100\n",
      "2584/2584 [==============================] - ETA: 0s - loss: 0.6801 - acc: 0.593 - ETA: 0s - loss: 0.6867 - acc: 0.552 - ETA: 0s - loss: 0.6855 - acc: 0.554 - ETA: 0s - loss: 0.6851 - acc: 0.556 - ETA: 0s - loss: 0.6872 - acc: 0.551 - 0s 112us/sample - loss: 0.6874 - acc: 0.5499 - val_loss: 0.7021 - val_acc: 0.5169\n",
      "Epoch 100/100\n",
      "2584/2584 [==============================] - ETA: 0s - loss: 0.6803 - acc: 0.656 - ETA: 0s - loss: 0.6902 - acc: 0.523 - ETA: 0s - loss: 0.6900 - acc: 0.525 - ETA: 0s - loss: 0.6898 - acc: 0.524 - ETA: 0s - loss: 0.6865 - acc: 0.537 - 0s 112us/sample - loss: 0.6878 - acc: 0.5348 - val_loss: 0.7045 - val_acc: 0.4944\n"
     ]
    }
   ],
   "source": [
    "history = model.fit(X_train_tr, y_train, validation_data=(X_test_tr, y_test), epochs=100, batch_size=32)"
   ]
  },
  {
   "cell_type": "code",
   "execution_count": 62,
   "metadata": {},
   "outputs": [
    {
     "data": {
      "image/png": "[encoded data removed]",
      "text/plain": [
       "<Figure size 432x288 with 1 Axes>"
      ]
     },
     "metadata": {
      "needs_background": "light"
     },
     "output_type": "display_data"
    }
   ],
   "source": [
    "plt.plot(hist.history[\"loss\"])\n",
    "plt.plot(hist.history[\"val_loss\"])\n",
    "plt.legend([\"loss\",\"val_loss\"])\n",
    "plt.show()"
   ]
  },
  {
   "cell_type": "code",
   "execution_count": 427,
   "metadata": {},
   "outputs": [],
   "source": [
    "pred_binary = np.where(predictions > 0.5, 1, 0)"
   ]
  },
  {
   "cell_type": "code",
   "execution_count": 428,
   "metadata": {},
   "outputs": [
    {
     "name": "stdout",
     "output_type": "stream",
     "text": [
      "623/623 [==============================] - ETA: 0s - loss: 0.7291 - acc: 0.312 - 0s 85us/sample - loss: 0.7045 - acc: 0.4944\n"
     ]
    },
    {
     "data": {
      "text/plain": [
       "[0.7045035697101207, 0.49438202]"
      ]
     },
     "execution_count": 428,
     "metadata": {},
     "output_type": "execute_result"
    }
   ],
   "source": [
    "model.evaluate(X_test_tr, y_test)"
   ]
  },
  {
   "cell_type": "code",
   "execution_count": 63,
   "metadata": {},
   "outputs": [
    {
     "ename": "NameError",
     "evalue": "name 'model' is not defined",
     "output_type": "error",
     "traceback": [
      "\u001b[1;31m---------------------------------------------------------------------------\u001b[0m",
      "\u001b[1;31mNameError\u001b[0m                                 Traceback (most recent call last)",
      "\u001b[1;32m<ipython-input-63-95ac8050aeb6>\u001b[0m in \u001b[0;36m<module>\u001b[1;34m\u001b[0m\n\u001b[1;32m----> 1\u001b[1;33m \u001b[0mpredictions\u001b[0m \u001b[1;33m=\u001b[0m \u001b[0mmodel\u001b[0m\u001b[1;33m.\u001b[0m\u001b[0mpredict\u001b[0m\u001b[1;33m(\u001b[0m\u001b[0mX_test_tr\u001b[0m\u001b[1;33m)\u001b[0m\u001b[1;33m\u001b[0m\u001b[1;33m\u001b[0m\u001b[0m\n\u001b[0m\u001b[0;32m      2\u001b[0m \u001b[0mplt\u001b[0m\u001b[1;33m.\u001b[0m\u001b[0mplot\u001b[0m\u001b[1;33m(\u001b[0m\u001b[0mpredictions\u001b[0m\u001b[1;33m.\u001b[0m\u001b[0mflatten\u001b[0m\u001b[1;33m(\u001b[0m\u001b[1;33m)\u001b[0m\u001b[1;33m)\u001b[0m\u001b[1;33m\u001b[0m\u001b[1;33m\u001b[0m\u001b[0m\n\u001b[0;32m      3\u001b[0m \u001b[0mplt\u001b[0m\u001b[1;33m.\u001b[0m\u001b[0mplot\u001b[0m\u001b[1;33m(\u001b[0m\u001b[0my_test\u001b[0m\u001b[1;33m)\u001b[0m\u001b[1;33m\u001b[0m\u001b[1;33m\u001b[0m\u001b[0m\n",
      "\u001b[1;31mNameError\u001b[0m: name 'model' is not defined"
     ]
    }
   ],
   "source": [
    "predictions = model.predict(X_test_tr)\n",
    "plt.plot(predictions.flatten())\n",
    "plt.plot(y_test)"
   ]
  },
  {
   "cell_type": "code",
   "execution_count": 335,
   "metadata": {},
   "outputs": [
    {
     "name": "stdout",
     "output_type": "stream",
     "text": [
      "Model: \"sequential_13\"\n",
      "_________________________________________________________________\n",
      "Layer (type)                 Output Shape              Param #   \n",
      "=================================================================\n",
      "bidirectional_4 (Bidirection (None, None, 400)         1550400   \n",
      "_________________________________________________________________\n",
      "dropout_13 (Dropout)         (None, None, 400)         0         \n",
      "_________________________________________________________________\n",
      "time_distributed_4 (TimeDist (None, None, 50)          20050     \n",
      "_________________________________________________________________\n",
      "dense_36 (Dense)             (None, None, 1)           51        \n",
      "=================================================================\n",
      "Total params: 1,570,501\n",
      "Trainable params: 1,570,501\n",
      "Non-trainable params: 0\n",
      "_________________________________________________________________\n",
      "None\n"
     ]
    }
   ],
   "source": [
    "# create the LSTM model\n",
    "n_steps = 120\n",
    "n_features = 768\n",
    "model = Sequential()\n",
    "#model.add(CuDNNLSTM(200, input_shape=(None, n_features), return_sequences= True))\n",
    "model.add(Input((None, n_features)))\n",
    "model.add(Bidirectional(LSTM(200, return_sequences = True)))\n",
    "model.add(Dropout(0.4))\n",
    "model.add(TimeDistributed(Dense(50, activation='relu')))\n",
    "model.add(Dense(1, activation='elu'))\n",
    "model.compile(loss='mae', optimizer='adam')\n",
    "print(model.summary())\n"
   ]
  },
  {
   "cell_type": "code",
   "execution_count": 227,
   "metadata": {},
   "outputs": [
    {
     "name": "stdout",
     "output_type": "stream",
     "text": [
      "Model: \"sequential_9\"\n",
      "_________________________________________________________________\n",
      "Layer (type)                 Output Shape              Param #   \n",
      "=================================================================\n",
      "dense_23 (Dense)             (None, 200)               153800    \n",
      "_________________________________________________________________\n",
      "dropout_9 (Dropout)          (None, 200)               0         \n",
      "_________________________________________________________________\n",
      "dense_24 (Dense)             (None, 200)               40200     \n",
      "_________________________________________________________________\n",
      "dense_25 (Dense)             (None, 1)                 201       \n",
      "=================================================================\n",
      "Total params: 194,201\n",
      "Trainable params: 194,201\n",
      "Non-trainable params: 0\n",
      "_________________________________________________________________\n",
      "None\n"
     ]
    }
   ],
   "source": [
    "# create the Dense Model\n",
    "\n",
    "n_features = 768\n",
    "model = Sequential()\n",
    "model.add(Input(n_features))\n",
    "model.add(Dense(200, activation='elu'))\n",
    "model.add(Dropout(0.4))\n",
    "model.add(Dense(200, activation='elu'))\n",
    "model.add(Dense(1, activation='sigmoid'))\n",
    "model.compile(loss='binary_crossentropy', optimizer='adam', metrics = [\"acc\"])\n",
    "print(model.summary())"
   ]
  },
  {
   "cell_type": "code",
   "execution_count": 8,
   "metadata": {},
   "outputs": [],
   "source": [
    "def my_own_pad_sequence(array, maxlen):\n",
    "    X_tr = []\n",
    "    for x in array:\n",
    "        length =  x.shape[0]\n",
    "        if length > maxlen:\n",
    "            X_tr.append(x[:maxlen])\n",
    "        else:\n",
    "            pad_diff = maxlen - length\n",
    "            x = np.vstack((x, np.zeros([pad_diff,x.shape[1]])))\n",
    "            X_tr.append(x)\n",
    "    return np.array(X_tr)    \n",
    "    "
   ]
  },
  {
   "cell_type": "code",
   "execution_count": 18,
   "metadata": {},
   "outputs": [],
   "source": [
    "# X and y for one sequence per day\n",
    "maxlen = 3000\n",
    "X_train_tr = my_own_pad_sequence(train_bert_concat_articles, maxlen)\n",
    "X_test_tr = my_own_pad_sequence(test_bert_concat_articles, maxlen)\n",
    "y_train = train_labels\n",
    "y_test = test_labels"
   ]
  },
  {
   "cell_type": "markdown",
   "metadata": {},
   "source": [
    "# DRAFTS"
   ]
  },
  {
   "cell_type": "code",
   "execution_count": 32,
   "metadata": {},
   "outputs": [],
   "source": [
    "\n",
    "train_labels = df_diff[\"BTC-USD\"].loc[:\"2019-12-31\"]\n",
    "test_labels = df_diff[\"BTC-USD\"].loc[\"2020-01-01\":]\n",
    "train_labels = train_labels[pd.DatetimeIndex(train_sentences.groupby(train_sentences.index).count().index)]\n",
    "test_labels = test_labels[pd.DatetimeIndex(test_sentences.groupby(test_sentences.index).count().index)]\n",
    "assert test_labels.shape == test_bert_concat_articles.shape\n",
    "assert train_labels.shape == train_bert_concat_articles.shape"
   ]
  },
  {
   "cell_type": "code",
   "execution_count": 585,
   "metadata": {},
   "outputs": [
    {
     "data": {
      "text/plain": [
       "(400, 80, 40, 20, 4)"
      ]
     },
     "execution_count": 585,
     "metadata": {},
     "output_type": "execute_result"
    }
   ],
   "source": [
    "d = np.arange(10000).reshape(100,5,2,2,5)\n",
    "d.strides"
   ]
  },
  {
   "cell_type": "code",
   "execution_count": 611,
   "metadata": {},
   "outputs": [],
   "source": [
    "result = np.array([])   \n",
    "for i in range(0,10):\n",
    "    result = np.append(result, np.array([i]*5))\n",
    "result = result.reshape(10,5)\n",
    "rolling_window_bert_2nd_dim(result,8)"
   ]
  },
  {
   "cell_type": "code",
   "execution_count": 10,
   "metadata": {},
   "outputs": [],
   "source": [
    "def rolling_window_bert_2nd_dim(a, window):\n",
    "    shape = (a.shape[0] - window + 1, window, a.shape[1])\n",
    "    strides = (a.strides[0], a.strides[1]*a.shape[1], a.strides[1])\n",
    "    #print(shape, strides)\n",
    "    return np.lib.stride_tricks.as_strided(a, shape=shape, strides=strides)"
   ]
  },
  {
   "cell_type": "code",
   "execution_count": 78,
   "metadata": {},
   "outputs": [],
   "source": []
  },
  {
   "cell_type": "code",
   "execution_count": 92,
   "metadata": {},
   "outputs": [],
   "source": [
    "#window = 100\n",
    "#X_train = [rolling_window_bert_2nd_dim(element, window) for element in train_bert_concat_articles]\n",
    "#X_test = [rolling_window_bert_2nd_dim(element, window) for element in test_bert_concat_articles]\n",
    "#y_train = train_labels\n",
    "#y_test = test_labels"
   ]
  },
  {
   "cell_type": "code",
   "execution_count": 102,
   "metadata": {},
   "outputs": [],
   "source": [
    "\n",
    "#X_train_tr= pad_sequences(train_bert_concat_articles, maxlen=maxlen, padding='post', truncating='post')"
   ]
  },
  {
   "cell_type": "code",
   "execution_count": 155,
   "metadata": {},
   "outputs": [],
   "source": [
    "X_train_tr = my_own_pad_sequence(train_bert_concat_articles, maxlen)\n",
    "X_test_tr = my_own_pad_sequence(test_bert_concat_articles, maxlen)"
   ]
  },
  {
   "cell_type": "code",
   "execution_count": 82,
   "metadata": {},
   "outputs": [],
   "source": [
    "from keras.preprocessing.sequence import pad_sequences\n",
    "maxlen = 5000\n",
    "X_train_tr= pad_sequences(X_train, maxlen=maxlen, truncating='post')\n",
    "X_test_tr= pad_sequences(X_test, maxlen=maxlen, truncating='post')\n",
    "\n"
   ]
  },
  {
   "cell_type": "code",
   "execution_count": 63,
   "metadata": {},
   "outputs": [
    {
     "data": {
      "text/plain": [
       "(array([  5.,  46., 104., 109.,  50.,  22.,  19.,   5.,   1.,   1.,   1.,\n",
       "          0.,   0.,   0.,   1.]),\n",
       " array([ 1478.        ,  2177.26666667,  2876.53333333,  3575.8       ,\n",
       "         4275.06666667,  4974.33333333,  5673.6       ,  6372.86666667,\n",
       "         7072.13333333,  7771.4       ,  8470.66666667,  9169.93333333,\n",
       "         9869.2       , 10568.46666667, 11267.73333333, 11967.        ]),\n",
       " <a list of 15 Patch objects>)"
      ]
     },
     "execution_count": 63,
     "metadata": {},
     "output_type": "execute_result"
    },
    {
     "data": {
      "image/png": "[encoded data removed]",
      "text/plain": [
       "<Figure size 432x288 with 1 Axes>"
      ]
     },
     "metadata": {
      "needs_background": "light"
     },
     "output_type": "display_data"
    }
   ],
   "source": [
    "plt.hist(lengths, bins = 15,)"
   ]
  },
  {
   "cell_type": "code",
   "execution_count": null,
   "metadata": {},
   "outputs": [],
   "source": []
  }
 ],
 "metadata": {
  "kernelspec": {
   "display_name": "bert",
   "language": "python",
   "name": "bert"
  },
  "language_info": {
   "codemirror_mode": {
    "name": "ipython",
    "version": 3
   },
   "file_extension": ".py",
   "mimetype": "text/x-python",
   "name": "python",
   "nbconvert_exporter": "python",
   "pygments_lexer": "ipython3",
   "version": "3.8.2"
  }
 },
 "nbformat": 4,
 "nbformat_minor": 2
}
