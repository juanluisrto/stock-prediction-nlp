{
 "cells": [
  {
   "cell_type": "markdown",
   "metadata": {},
   "source": [
    "## GAN\n",
    "\n",
    "https://machinelearningmastery.com/what-are-generative-adversarial-networks-gans/\n",
    "\n",
    "https://machinelearningmastery.com/how-to-develop-a-conditional-generative-adversarial-network-from-scratch/"
   ]
  },
  {
   "cell_type": "code",
   "execution_count": 15,
   "metadata": {},
   "outputs": [],
   "source": [
    "import numpy as np, pandas as pd\n",
    "from utils import *"
   ]
  },
  {
   "cell_type": "code",
   "execution_count": 2,
   "metadata": {},
   "outputs": [],
   "source": [
    "import yfinance as yf"
   ]
  },
  {
   "cell_type": "code",
   "execution_count": 12,
   "metadata": {},
   "outputs": [],
   "source": [
    "import yfinance as yf\n",
    "\n",
    "start = \"2019-01-01\"\n",
    "end   = \"2020-03-20\"\n",
    "\n",
    "stocks = [\"MSFT\"]\n",
    "\n",
    "df = yf.download(stocks, \n",
    "                     #period = \"1Y\",\n",
    "                      start= start, \n",
    "                      end= end, \n",
    "                      progress=False)\n"
   ]
  },
  {
   "cell_type": "code",
   "execution_count": 4,
   "metadata": {},
   "outputs": [],
   "source": [
    "def ma5(s):\n",
    "    print(type(s))\n",
    "    df = pd.DataFrame(s)\n",
    "    for i in range(1,5):\n",
    "        df[str(i)] = s.shift(i)\n",
    "    return pd.Series(df.values.mean(axis = 1), index=s.index, name = \"ma5\")\n",
    "    #return pd.DataFrame(df.values.mean(axis = 1), index=s.index, columns = [\"ma5\"])\n",
    "        "
   ]
  },
  {
   "cell_type": "code",
   "execution_count": 13,
   "metadata": {},
   "outputs": [
    {
     "name": "stdout",
     "output_type": "stream",
     "text": [
      "<class 'pandas.core.series.Series'>\n"
     ]
    }
   ],
   "source": [
    "df[\"ma5\"] = ma5(df[\"Close\"]).fillna(method = \"backfill\")\n",
    "df.drop(columns = [\"Adj Close\"], inplace = True)\n"
   ]
  },
  {
   "cell_type": "code",
   "execution_count": 162,
   "metadata": {},
   "outputs": [
    {
     "data": {
      "text/plain": [
       "Index(['Open', 'High', 'Low', 'Close', 'Volume', 'ma5'], dtype='object')"
      ]
     },
     "execution_count": 162,
     "metadata": {},
     "output_type": "execute_result"
    }
   ],
   "source": [
    "df.columns"
   ]
  },
  {
   "cell_type": "code",
   "execution_count": 41,
   "metadata": {},
   "outputs": [],
   "source": [
    "window = 2\n",
    "rolls = rolling_window_bert_2nd_dim(df.values,window)\n",
    "target = df.Close[window:]"
   ]
  },
  {
   "cell_type": "code",
   "execution_count": 42,
   "metadata": {},
   "outputs": [
    {
     "data": {
      "text/plain": [
       "Date\n",
       "2019-01-03     97.400002\n",
       "2019-01-04    101.930000\n",
       "2019-01-07    102.059998\n",
       "2019-01-08    102.800003\n",
       "2019-01-09    104.269997\n",
       "                 ...    \n",
       "2020-03-13    158.830002\n",
       "2020-03-16    135.419998\n",
       "2020-03-17    146.570007\n",
       "2020-03-18    140.399994\n",
       "2020-03-19    142.710007\n",
       "Name: Close, Length: 305, dtype: float64"
      ]
     },
     "execution_count": 42,
     "metadata": {},
     "output_type": "execute_result"
    }
   ],
   "source": [
    "target"
   ]
  },
  {
   "cell_type": "code",
   "execution_count": 99,
   "metadata": {},
   "outputs": [],
   "source": [
    "test = np.arange(100).reshape(20,5)\n",
    "d = df.values[:20,0:-1]\n",
    "d32 = np.float32(d)"
   ]
  },
  {
   "cell_type": "code",
   "execution_count": 100,
   "metadata": {},
   "outputs": [
    {
     "name": "stdout",
     "output_type": "stream",
     "text": [
      "(20, 5)\n",
      "(20, 5)\n",
      "(20, 5)\n"
     ]
    }
   ],
   "source": [
    "print(test.shape)\n",
    "print(d.shape)\n",
    "print(d32.shape)"
   ]
  },
  {
   "cell_type": "code",
   "execution_count": 103,
   "metadata": {},
   "outputs": [
    {
     "data": {
      "text/plain": [
       "dtype('int64')"
      ]
     },
     "execution_count": 103,
     "metadata": {},
     "output_type": "execute_result"
    }
   ],
   "source": [
    "test.dtype"
   ]
  },
  {
   "cell_type": "code",
   "execution_count": 150,
   "metadata": {},
   "outputs": [
    {
     "name": "stdout",
     "output_type": "stream",
     "text": [
      "(40, 8)\n",
      "(8, 2456)\n",
      "(4, 80)\n"
     ]
    }
   ],
   "source": [
    "print(test.strides)\n",
    "print(d.strides)\n",
    "print(d32.strides)"
   ]
  },
  {
   "cell_type": "code",
   "execution_count": 153,
   "metadata": {},
   "outputs": [],
   "source": [
    "roll_test = rolling_window_bert_2nd_dim(test,2)\n",
    "roll_d = rolling_window_bert_2nd_dim(d,2)\n",
    "roll_d32 = rolling_window_bert_2nd_dim(d32,2)"
   ]
  },
  {
   "cell_type": "code",
   "execution_count": 144,
   "metadata": {},
   "outputs": [],
   "source": [
    "test = np.array([5*[x] for x in np.arange(5)])"
   ]
  },
  {
   "cell_type": "code",
   "execution_count": 145,
   "metadata": {},
   "outputs": [],
   "source": [
    "roll_test = rolling_window_bert_2nd_dim(test, 2)"
   ]
  },
  {
   "cell_type": "code",
   "execution_count": 155,
   "metadata": {},
   "outputs": [
    {
     "data": {
      "text/plain": [
       "array([[[0, 0, 0, 0, 0],\n",
       "        [1, 1, 1, 1, 1]],\n",
       "\n",
       "       [[1, 1, 1, 1, 1],\n",
       "        [2, 2, 2, 2, 2]],\n",
       "\n",
       "       [[2, 2, 2, 2, 2],\n",
       "        [3, 3, 3, 3, 3]],\n",
       "\n",
       "       [[3, 3, 3, 3, 3],\n",
       "        [4, 4, 4, 4, 4]]])"
      ]
     },
     "execution_count": 155,
     "metadata": {},
     "output_type": "execute_result"
    }
   ],
   "source": [
    "roll_test\n"
   ]
  },
  {
   "cell_type": "code",
   "execution_count": 148,
   "metadata": {},
   "outputs": [
    {
     "data": {
      "text/plain": [
       "array([[[0, 0, 0, 0, 0],\n",
       "        [1, 1, 1, 1, 1]],\n",
       "\n",
       "       [[2, 2, 2, 2, 2],\n",
       "        [3, 3, 3, 3, 3]]])"
      ]
     },
     "execution_count": 148,
     "metadata": {},
     "output_type": "execute_result"
    }
   ],
   "source": [
    "roll_test[0:2]"
   ]
  },
  {
   "cell_type": "code",
   "execution_count": 154,
   "metadata": {},
   "outputs": [
    {
     "name": "stdout",
     "output_type": "stream",
     "text": [
      "(40, 40, 8)\n",
      "(8, 12280, 2456)\n",
      "(4, 400, 80)\n"
     ]
    }
   ],
   "source": [
    "print(roll_test.strides)\n",
    "print(roll_d.strides)\n",
    "print(roll_d32.strides)"
   ]
  },
  {
   "cell_type": "code",
   "execution_count": 161,
   "metadata": {},
   "outputs": [
    {
     "data": {
      "text/plain": [
       "(80, 400, 4)"
      ]
     },
     "execution_count": 161,
     "metadata": {},
     "output_type": "execute_result"
    }
   ],
   "source": [
    "roll_d32.T.strides"
   ]
  },
  {
   "cell_type": "code",
   "execution_count": 160,
   "metadata": {
    "scrolled": true
   },
   "outputs": [
    {
     "data": {
      "text/plain": [
       "(4, 400, 80)"
      ]
     },
     "execution_count": 160,
     "metadata": {},
     "output_type": "execute_result"
    }
   ],
   "source": [
    "roll_d32.strides"
   ]
  },
  {
   "cell_type": "code",
   "execution_count": 127,
   "metadata": {},
   "outputs": [
    {
     "data": {
      "text/plain": [
       "(40, 8)"
      ]
     },
     "execution_count": 127,
     "metadata": {},
     "output_type": "execute_result"
    }
   ],
   "source": [
    "np.random.random((30,5)).strides"
   ]
  },
  {
   "cell_type": "code",
   "execution_count": 128,
   "metadata": {},
   "outputs": [
    {
     "data": {
      "text/plain": [
       "(80, 40, 8)"
      ]
     },
     "execution_count": 128,
     "metadata": {},
     "output_type": "execute_result"
    }
   ],
   "source": [
    "np.random.random((30,2,5)).strides"
   ]
  },
  {
   "cell_type": "code",
   "execution_count": 152,
   "metadata": {},
   "outputs": [],
   "source": [
    "def rolling_window_bert_2nd_dim(a, window):\n",
    "    shape = (a.shape[0] - window + 1, window, a.shape[1])\n",
    "    strides = (a.strides[0], a.strides[1]*a.shape[1], a.strides[1])\n",
    "    #strides = (a.strides[0]*window, a.strides[0], a.strides[1])\n",
    "    #print(shape, strides)\n",
    "    return np.lib.stride_tricks.as_strided(a, shape=shape, strides=strides)"
   ]
  },
  {
   "cell_type": "code",
   "execution_count": 85,
   "metadata": {},
   "outputs": [
    {
     "data": {
      "text/plain": [
       "array([[  0,   1,   2,   3,   4,   5],\n",
       "       [  6,   7,   8,   9,  10,  11],\n",
       "       [ 12,  13,  14,  15,  16,  17],\n",
       "       [ 18,  19,  20,  21,  22,  23],\n",
       "       [ 24,  25,  26,  27,  28,  29],\n",
       "       [ 30,  31,  32,  33,  34,  35],\n",
       "       [ 36,  37,  38,  39,  40,  41],\n",
       "       [ 42,  43,  44,  45,  46,  47],\n",
       "       [ 48,  49,  50,  51,  52,  53],\n",
       "       [ 54,  55,  56,  57,  58,  59],\n",
       "       [ 60,  61,  62,  63,  64,  65],\n",
       "       [ 66,  67,  68,  69,  70,  71],\n",
       "       [ 72,  73,  74,  75,  76,  77],\n",
       "       [ 78,  79,  80,  81,  82,  83],\n",
       "       [ 84,  85,  86,  87,  88,  89],\n",
       "       [ 90,  91,  92,  93,  94,  95],\n",
       "       [ 96,  97,  98,  99, 100, 101],\n",
       "       [102, 103, 104, 105, 106, 107],\n",
       "       [108, 109, 110, 111, 112, 113],\n",
       "       [114, 115, 116, 117, 118, 119]])"
      ]
     },
     "execution_count": 85,
     "metadata": {},
     "output_type": "execute_result"
    }
   ],
   "source": [
    "test"
   ]
  },
  {
   "cell_type": "code",
   "execution_count": 82,
   "metadata": {},
   "outputs": [
    {
     "data": {
      "text/plain": [
       "38.375"
      ]
     },
     "execution_count": 82,
     "metadata": {},
     "output_type": "execute_result"
    }
   ],
   "source": [
    "2456/64"
   ]
  },
  {
   "cell_type": "code",
   "execution_count": null,
   "metadata": {},
   "outputs": [],
   "source": []
  },
  {
   "cell_type": "code",
   "execution_count": 50,
   "metadata": {},
   "outputs": [
    {
     "data": {
      "text/plain": [
       "(8, 2456)"
      ]
     },
     "execution_count": 50,
     "metadata": {},
     "output_type": "execute_result"
    }
   ],
   "source": []
  },
  {
   "cell_type": "code",
   "execution_count": 40,
   "metadata": {},
   "outputs": [
    {
     "data": {
      "text/html": [
       "<div>\n",
       "<style scoped>\n",
       "    .dataframe tbody tr th:only-of-type {\n",
       "        vertical-align: middle;\n",
       "    }\n",
       "\n",
       "    .dataframe tbody tr th {\n",
       "        vertical-align: top;\n",
       "    }\n",
       "\n",
       "    .dataframe thead th {\n",
       "        text-align: right;\n",
       "    }\n",
       "</style>\n",
       "<table border=\"1\" class=\"dataframe\">\n",
       "  <thead>\n",
       "    <tr style=\"text-align: right;\">\n",
       "      <th></th>\n",
       "      <th>Open</th>\n",
       "      <th>High</th>\n",
       "      <th>Low</th>\n",
       "      <th>Close</th>\n",
       "      <th>Volume</th>\n",
       "      <th>ma5</th>\n",
       "    </tr>\n",
       "    <tr>\n",
       "      <th>Date</th>\n",
       "      <th></th>\n",
       "      <th></th>\n",
       "      <th></th>\n",
       "      <th></th>\n",
       "      <th></th>\n",
       "      <th></th>\n",
       "    </tr>\n",
       "  </thead>\n",
       "  <tbody>\n",
       "    <tr>\n",
       "      <th>2018-12-31</th>\n",
       "      <td>101.290001</td>\n",
       "      <td>102.400002</td>\n",
       "      <td>100.440002</td>\n",
       "      <td>101.570000</td>\n",
       "      <td>33173800</td>\n",
       "      <td>100.816000</td>\n",
       "    </tr>\n",
       "    <tr>\n",
       "      <th>2019-01-02</th>\n",
       "      <td>99.550003</td>\n",
       "      <td>101.750000</td>\n",
       "      <td>98.940002</td>\n",
       "      <td>101.120003</td>\n",
       "      <td>35329300</td>\n",
       "      <td>100.816000</td>\n",
       "    </tr>\n",
       "    <tr>\n",
       "      <th>2019-01-03</th>\n",
       "      <td>100.099998</td>\n",
       "      <td>100.190002</td>\n",
       "      <td>97.199997</td>\n",
       "      <td>97.400002</td>\n",
       "      <td>42579100</td>\n",
       "      <td>100.816000</td>\n",
       "    </tr>\n",
       "    <tr>\n",
       "      <th>2019-01-04</th>\n",
       "      <td>99.720001</td>\n",
       "      <td>102.510002</td>\n",
       "      <td>98.930000</td>\n",
       "      <td>101.930000</td>\n",
       "      <td>44060600</td>\n",
       "      <td>100.816000</td>\n",
       "    </tr>\n",
       "    <tr>\n",
       "      <th>2019-01-07</th>\n",
       "      <td>101.639999</td>\n",
       "      <td>103.269997</td>\n",
       "      <td>100.980003</td>\n",
       "      <td>102.059998</td>\n",
       "      <td>35656100</td>\n",
       "      <td>100.816000</td>\n",
       "    </tr>\n",
       "    <tr>\n",
       "      <th>...</th>\n",
       "      <td>...</td>\n",
       "      <td>...</td>\n",
       "      <td>...</td>\n",
       "      <td>...</td>\n",
       "      <td>...</td>\n",
       "      <td>...</td>\n",
       "    </tr>\n",
       "    <tr>\n",
       "      <th>2020-03-13</th>\n",
       "      <td>147.500000</td>\n",
       "      <td>161.910004</td>\n",
       "      <td>140.729996</td>\n",
       "      <td>158.830002</td>\n",
       "      <td>92727400</td>\n",
       "      <td>152.612000</td>\n",
       "    </tr>\n",
       "    <tr>\n",
       "      <th>2020-03-16</th>\n",
       "      <td>140.000000</td>\n",
       "      <td>149.350006</td>\n",
       "      <td>135.000000</td>\n",
       "      <td>135.419998</td>\n",
       "      <td>87905900</td>\n",
       "      <td>149.572000</td>\n",
       "    </tr>\n",
       "    <tr>\n",
       "      <th>2020-03-17</th>\n",
       "      <td>140.000000</td>\n",
       "      <td>147.500000</td>\n",
       "      <td>135.000000</td>\n",
       "      <td>146.570007</td>\n",
       "      <td>81059800</td>\n",
       "      <td>146.702002</td>\n",
       "    </tr>\n",
       "    <tr>\n",
       "      <th>2020-03-18</th>\n",
       "      <td>138.000000</td>\n",
       "      <td>146.000000</td>\n",
       "      <td>135.020004</td>\n",
       "      <td>140.399994</td>\n",
       "      <td>81593200</td>\n",
       "      <td>144.056000</td>\n",
       "    </tr>\n",
       "    <tr>\n",
       "      <th>2020-03-19</th>\n",
       "      <td>142.770004</td>\n",
       "      <td>150.149994</td>\n",
       "      <td>139.000000</td>\n",
       "      <td>142.710007</td>\n",
       "      <td>85922700</td>\n",
       "      <td>144.786002</td>\n",
       "    </tr>\n",
       "  </tbody>\n",
       "</table>\n",
       "<p>307 rows × 6 columns</p>\n",
       "</div>"
      ],
      "text/plain": [
       "                  Open        High         Low       Close    Volume  \\\n",
       "Date                                                                   \n",
       "2018-12-31  101.290001  102.400002  100.440002  101.570000  33173800   \n",
       "2019-01-02   99.550003  101.750000   98.940002  101.120003  35329300   \n",
       "2019-01-03  100.099998  100.190002   97.199997   97.400002  42579100   \n",
       "2019-01-04   99.720001  102.510002   98.930000  101.930000  44060600   \n",
       "2019-01-07  101.639999  103.269997  100.980003  102.059998  35656100   \n",
       "...                ...         ...         ...         ...       ...   \n",
       "2020-03-13  147.500000  161.910004  140.729996  158.830002  92727400   \n",
       "2020-03-16  140.000000  149.350006  135.000000  135.419998  87905900   \n",
       "2020-03-17  140.000000  147.500000  135.000000  146.570007  81059800   \n",
       "2020-03-18  138.000000  146.000000  135.020004  140.399994  81593200   \n",
       "2020-03-19  142.770004  150.149994  139.000000  142.710007  85922700   \n",
       "\n",
       "                   ma5  \n",
       "Date                    \n",
       "2018-12-31  100.816000  \n",
       "2019-01-02  100.816000  \n",
       "2019-01-03  100.816000  \n",
       "2019-01-04  100.816000  \n",
       "2019-01-07  100.816000  \n",
       "...                ...  \n",
       "2020-03-13  152.612000  \n",
       "2020-03-16  149.572000  \n",
       "2020-03-17  146.702002  \n",
       "2020-03-18  144.056000  \n",
       "2020-03-19  144.786002  \n",
       "\n",
       "[307 rows x 6 columns]"
      ]
     },
     "execution_count": 40,
     "metadata": {},
     "output_type": "execute_result"
    }
   ],
   "source": [
    "df"
   ]
  },
  {
   "cell_type": "code",
   "execution_count": 47,
   "metadata": {},
   "outputs": [
    {
     "data": {
      "text/plain": [
       "array([[[ 1.01290001e+002,  1.02400002e+002,  1.00440002e+002,\n",
       "          1.01570000e+002,  3.31738000e+007,  1.00816000e+002],\n",
       "        [ 1.11269820e-308,  7.32088548e-312, -6.79864536e-167,\n",
       "         -1.55221119e+033, -3.11108604e-153,  4.37835928e-007]],\n",
       "\n",
       "       [[ 9.95500031e+001,  1.01750000e+002,  9.89400024e+001,\n",
       "          1.01120003e+002,  3.53293000e+007,  1.00816000e+002],\n",
       "        [ 9.73635329e-309,  7.21478569e-312, -3.14694826e+277,\n",
       "         -7.39359174e+130,  3.32270549e+223, -6.44807025e+236]],\n",
       "\n",
       "       [[ 1.00099998e+002,  1.00190002e+002,  9.71999969e+001,\n",
       "          9.74000015e+001,  4.25791000e+007,  1.00816000e+002],\n",
       "        [ 9.73639573e-309,  7.00258613e-313, -1.53459557e+173,\n",
       "          1.89613372e+235,  8.87556794e+216,  1.97745564e-021]],\n",
       "\n",
       "       ...,\n",
       "\n",
       "       [[ 1.40000000e+002,  1.49350006e+002,  1.35000000e+002,\n",
       "          1.35419998e+002,  8.79059000e+007,  1.49572000e+002],\n",
       "        [ 4.62595083e-312,  1.97494113e-115, -3.82362268e+201,\n",
       "         -8.77947124e-036, -2.20456721e+032, -7.60371782e-116]],\n",
       "\n",
       "       [[ 1.40000000e+002,  1.47500000e+002,  1.35000000e+002,\n",
       "          1.46570007e+002,  8.10598000e+007,  1.46702002e+002],\n",
       "        [ 4.60473087e-312,  8.07992115e-264, -4.08196336e+042,\n",
       "         -3.53930306e-003, -4.11486417e+200, -5.74952743e+047]],\n",
       "\n",
       "       [[ 1.38000000e+002,  1.46000000e+002,  1.35020004e+002,\n",
       "          1.40399994e+002,  8.15932000e+007,  1.44056000e+002],\n",
       "        [ 4.45619116e-312,  2.06842542e+177, -8.83542206e+279,\n",
       "          7.41553887e+182,  4.75254636e+032, -3.59330298e-295]]])"
      ]
     },
     "execution_count": 47,
     "metadata": {},
     "output_type": "execute_result"
    }
   ],
   "source": [
    "rolls[:,:,:]"
   ]
  },
  {
   "cell_type": "code",
   "execution_count": 39,
   "metadata": {},
   "outputs": [
    {
     "data": {
      "text/plain": [
       "(303, 5, 6)"
      ]
     },
     "execution_count": 39,
     "metadata": {},
     "output_type": "execute_result"
    }
   ],
   "source": [
    "windows.shape"
   ]
  },
  {
   "cell_type": "code",
   "execution_count": 36,
   "metadata": {},
   "outputs": [
    {
     "data": {
      "text/plain": [
       "(302,)"
      ]
     },
     "execution_count": 36,
     "metadata": {},
     "output_type": "execute_result"
    }
   ],
   "source": [
    "target.shape"
   ]
  },
  {
   "cell_type": "code",
   "execution_count": 22,
   "metadata": {},
   "outputs": [
    {
     "data": {
      "text/plain": [
       "(307, 6)"
      ]
     },
     "execution_count": 22,
     "metadata": {},
     "output_type": "execute_result"
    }
   ],
   "source": [
    "df.values.shape"
   ]
  },
  {
   "cell_type": "code",
   "execution_count": 24,
   "metadata": {},
   "outputs": [],
   "source": [
    "import matplotlib.pyplot as plt"
   ]
  },
  {
   "cell_type": "code",
   "execution_count": 32,
   "metadata": {},
   "outputs": [
    {
     "data": {
      "text/plain": [
       "10"
      ]
     },
     "execution_count": 32,
     "metadata": {},
     "output_type": "execute_result"
    }
   ],
   "source": [
    "df.Close[:10].index.nunique()"
   ]
  },
  {
   "cell_type": "code",
   "execution_count": 5,
   "metadata": {},
   "outputs": [],
   "source": [
    "from tensorflow.keras.models import Sequential\n",
    "from tensorflow.keras.layers import Conv2D, Dense, Dropout, Flatten"
   ]
  },
  {
   "cell_type": "code",
   "execution_count": 3,
   "metadata": {},
   "outputs": [],
   "source": [
    "def define_discriminator(in_shape=(28,28,1)):\n",
    "    model = Sequential()\n",
    "    # downsample\n",
    "    model.add(Conv2D(128, (3,3), strides=(2,2), padding='same', input_shape=in_shape))\n",
    "    model.add(LeakyReLU(alpha=0.2))\n",
    "    # downsample\n",
    "    model.add(Conv2D(128, (3,3), strides=(2,2), padding='same'))\n",
    "    model.add(LeakyReLU(alpha=0.2))\n",
    "    # classifier\n",
    "    model.add(Flatten())\n",
    "    model.add(Dropout(0.4))\n",
    "    model.add(Dense(1, activation='sigmoid'))\n",
    "    # compile model\n",
    "    opt = Adam(lr=0.0002, beta_1=0.5)\n",
    "    model.compile(loss='binary_crossentropy', optimizer=opt, metrics=['accuracy'])\n",
    "    return model"
   ]
  },
  {
   "cell_type": "code",
   "execution_count": null,
   "metadata": {},
   "outputs": [],
   "source": [
    "n_features = 5\n",
    "    model = Sequential()\n",
    "    model.add(LSTM(100, input_shape = (n_steps, n_features), return_sequences = True))\n",
    "    model.add(TimeDistributed(Dense(20, activation='elu')))\n",
    "    model.add(Flatten())\n",
    "    model.add(Dense(1, activation='elu'))\n",
    "    model.compile(loss='mean_squared_error', optimizer='adam')\n",
    "    print(model.summary())\n",
    "    return model"
   ]
  },
  {
   "cell_type": "code",
   "execution_count": null,
   "metadata": {},
   "outputs": [],
   "source": [
    "# define the standalone generator model\n",
    "def define_generator(latent_dim):\n",
    "    model = Sequential()\n",
    "    model.add(LSTM(100, input_shape = (n_steps, n_features), return_sequences = True))\n",
    "    model.add(LSTM(n_nodes, input_dim=latent_dim))\n",
    "    model.add(LSTM(100, input_shape = (n_steps, n_features), return_sequences = True))\n",
    "    model.add(TimeDistributed(Dense(20, activation='elu')))\n",
    "    # upsample to 14x14\n",
    "    model.add(Conv2DTranspose(128, (4,4), strides=(2,2), padding='same'))\n",
    "    model.add(LeakyReLU(alpha=0.2))\n",
    "    # upsample to 28x28\n",
    "    model.add(Conv2DTranspose(128, (4,4), strides=(2,2), padding='same'))\n",
    "    model.add(LeakyReLU(alpha=0.2))\n",
    "    # generate\n",
    "    model.add(Conv2D(1, (7,7), activation='tanh', padding='same'))\n",
    "    return model"
   ]
  },
  {
   "cell_type": "code",
   "execution_count": 5,
   "metadata": {},
   "outputs": [],
   "source": [
    "# define the standalone generator model\n",
    "def define_generator(latent_dim):\n",
    "    model = Sequential()\n",
    "    # foundation for 7x7 image\n",
    "    n_nodes = 128 * 7 * 7\n",
    "    model.add(Dense(n_nodes, input_dim=latent_dim))\n",
    "    model.add(LeakyReLU(alpha=0.2))\n",
    "    model.add(Reshape((7, 7, 128)))\n",
    "    # upsample to 14x14\n",
    "    model.add(Conv2DTranspose(128, (4,4), strides=(2,2), padding='same'))\n",
    "    model.add(LeakyReLU(alpha=0.2))\n",
    "    # upsample to 28x28\n",
    "    model.add(Conv2DTranspose(128, (4,4), strides=(2,2), padding='same'))\n",
    "    model.add(LeakyReLU(alpha=0.2))\n",
    "    # generate\n",
    "    model.add(Conv2D(1, (7,7), activation='tanh', padding='same'))\n",
    "    return model"
   ]
  },
  {
   "cell_type": "code",
   "execution_count": null,
   "metadata": {},
   "outputs": [],
   "source": [
    "def define_gan(generator, discriminator):\n",
    "    # make weights in the discriminator not trainable\n",
    "    discriminator.trainable = False\n",
    "    # connect them\n",
    "    model = Sequential()\n",
    "    # add generator\n",
    "    model.add(generator)\n",
    "    # add the discriminator\n",
    "    model.add(discriminator)\n",
    "    # compile model\n",
    "    opt = Adam(lr=0.0002, beta_1=0.5)\n",
    "    model.compile(loss='binary_crossentropy', optimizer=opt)\n",
    "    return model"
   ]
  }
 ],
 "metadata": {
  "kernelspec": {
   "display_name": "tfm",
   "language": "python",
   "name": "tfm"
  },
  "language_info": {
   "codemirror_mode": {
    "name": "ipython",
    "version": 3
   },
   "file_extension": ".py",
   "mimetype": "text/x-python",
   "name": "python",
   "nbconvert_exporter": "python",
   "pygments_lexer": "ipython3",
   "version": "3.7.6"
  }
 },
 "nbformat": 4,
 "nbformat_minor": 4
}
