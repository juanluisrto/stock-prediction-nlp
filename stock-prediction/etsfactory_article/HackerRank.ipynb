{
 "cells": [
  {
   "cell_type": "code",
   "execution_count": 96,
   "metadata": {},
   "outputs": [
    {
     "data": {
      "text/plain": [
       "0.9953222650189527"
      ]
     },
     "execution_count": 96,
     "metadata": {},
     "output_type": "execute_result"
    }
   ],
   "source": [
    "import math as m\n",
    "x_ = 20\n",
    "s_ = 2\n",
    "m.erf()"
   ]
  },
  {
   "cell_type": "code",
   "execution_count": 101,
   "metadata": {},
   "outputs": [
    {
     "name": "stdout",
     "output_type": "stream",
     "text": [
      "0.159\n",
      "0.841\n",
      "0.159\n"
     ]
    }
   ],
   "source": [
    "a = 1 - cum_normal(80,70,10)\n",
    "\n",
    "b = 1 - cum_normal(60,70,10)\n",
    "\n",
    "c = cum_normal(60,70,10)\n",
    "\n",
    "print(round(a,3))\n",
    "print(round(b,3))\n",
    "print(round(c,3))"
   ]
  },
  {
   "cell_type": "code",
   "execution_count": 108,
   "metadata": {},
   "outputs": [
    {
     "name": "stdout",
     "output_type": "stream",
     "text": [
      "0.6915\n"
     ]
    }
   ],
   "source": [
    "# Enter your code here. Read input from STDIN. Print output to STDOUT\n",
    "\n",
    "import math\n",
    "x = 250\n",
    "n = 100\n",
    "m = 2.4\n",
    "s = 2.0\n",
    "\n",
    "m_ = n*m\n",
    "s_ = math.sqrt(n)*s\n",
    "\n",
    "print(round(cum_normal(x, m_, s_),4))"
   ]
  },
  {
   "cell_type": "code",
   "execution_count": null,
   "metadata": {},
   "outputs": [],
   "source": [
    "import pandas as pd\n",
    "pd.read"
   ]
  },
  {
   "cell_type": "code",
   "execution_count": 107,
   "metadata": {},
   "outputs": [
    {
     "name": "stdout",
     "output_type": "stream",
     "text": [
      "0.0098\n"
     ]
    }
   ],
   "source": [
    "import math\n",
    "x = 9800\n",
    "n = 49\n",
    "m = 205\n",
    "s = 15\n",
    "\n",
    "m_ = n*m\n",
    "s_ = math.sqrt(n)*s\n",
    "\n",
    "print(round(cum_normal(x, m_, s_),4))"
   ]
  },
  {
   "cell_type": "code",
   "execution_count": 102,
   "metadata": {},
   "outputs": [],
   "source": [
    "def cum_normal(x, mu, sigma):\n",
    "    return 0.5*(1 +  math.erf((x - mu)/(sigma*math.sqrt(2))))"
   ]
  },
  {
   "cell_type": "code",
   "execution_count": 98,
   "metadata": {},
   "outputs": [
    {
     "data": {
      "text/plain": [
       "0.5"
      ]
     },
     "execution_count": 98,
     "metadata": {},
     "output_type": "execute_result"
    }
   ],
   "source": [
    "cum_normal(20,20,2)"
   ]
  },
  {
   "cell_type": "code",
   "execution_count": 78,
   "metadata": {},
   "outputs": [],
   "source": [
    "def poisson_distr(k,l):\n",
    "    return (l**k)*(m.e**-l)/m.factorial(k)\n",
    "    "
   ]
  },
  {
   "cell_type": "code",
   "execution_count": 88,
   "metadata": {},
   "outputs": [
    {
     "data": {
      "text/plain": [
       "<matplotlib.collections.PathCollection at 0x124c8f0d0>"
      ]
     },
     "execution_count": 88,
     "metadata": {},
     "output_type": "execute_result"
    },
    {
     "data": {
      "image/png": "[encoded data removed]",
      "text/plain": [
       "<Figure size 432x288 with 1 Axes>"
      ]
     },
     "metadata": {
      "needs_background": "light"
     },
     "output_type": "display_data"
    }
   ],
   "source": [
    "import itertools\n",
    "\n",
    "x = np.arange(0,10)\n",
    "y = list(map(poisson_distr, x, itertools.repeat(2, len(x))))\n",
    "plt.scatter(x,y)"
   ]
  },
  {
   "cell_type": "code",
   "execution_count": 91,
   "metadata": {},
   "outputs": [],
   "source": [
    "import statistics as s"
   ]
  },
  {
   "cell_type": "code",
   "execution_count": 82,
   "metadata": {},
   "outputs": [],
   "source": [
    "import numpy as np\n",
    "import pandas as pd\n",
    "import matplotlib.pyplot as plt"
   ]
  },
  {
   "cell_type": "code",
   "execution_count": 72,
   "metadata": {},
   "outputs": [],
   "source": [
    "df = pd.read_excel(\"/Users/juanluisrto/Desktop/javi/MailMerge.xlsx\")\n",
    "df[\"number\"].values"
   ]
  },
  {
   "cell_type": "code",
   "execution_count": 2,
   "metadata": {},
   "outputs": [],
   "source": [
    "import sys"
   ]
  },
  {
   "cell_type": "code",
   "execution_count": 48,
   "metadata": {},
   "outputs": [],
   "source": [
    "import math as m\n",
    "\n",
    "def binomial(n,k):\n",
    "    return m.factorial(n)/(m.factorial(k)*m.factorial(n - k))\n",
    "\n",
    "def binomial_distr(n,k,p):\n",
    "    return binomial(n,k)*(p**k)*((1-p)**(n-k))\n",
    "\n",
    "def neg_binomial_distr(n,k,p):\n",
    "    return binomial(n-1,k-1)*(p**k)*((1-p)**(n-k))\n",
    "\n",
    "def geometric_distr(n,p):\n",
    "    return (1-p)**(n-1)*p\n",
    "\n",
    "def odds2prob(a,b):\n",
    "    r = a/b\n",
    "    p = r/(r+1)\n",
    "    return p\n",
    "\n"
   ]
  },
  {
   "cell_type": "code",
   "execution_count": 64,
   "metadata": {},
   "outputs": [
    {
     "name": "stdout",
     "output_type": "stream",
     "text": [
      "0.006\n"
     ]
    }
   ],
   "source": [
    "\n",
    "def geometric_distr(n,p):\n",
    "    return ((1-p)**(n-1))*p\n",
    "r = geometric_distr(5,0.7)\n",
    "print(round(r,3))"
   ]
  },
  {
   "cell_type": "code",
   "execution_count": 67,
   "metadata": {},
   "outputs": [
    {
     "name": "stdout",
     "output_type": "stream",
     "text": [
      "1 : 0.33\n",
      "2 : 0.5511\n",
      "3 : 0.699237\n",
      "4 : 0.79848879\n",
      "5 : 0.8649874892999999\n",
      "0.865\n"
     ]
    }
   ],
   "source": [
    "cum = 0\n",
    "for i in range(1,6):\n",
    "    cum += geometric_distr(i,0.33)\n",
    "    print(i,\":\",cum)\n",
    "print(round(cum,3))"
   ]
  },
  {
   "cell_type": "code",
   "execution_count": 65,
   "metadata": {},
   "outputs": [
    {
     "name": "stdout",
     "output_type": "stream",
     "text": [
      "0.868\n"
     ]
    }
   ],
   "source": [
    "print(round(sum([(1 - (1 / 3))**(5 - x) * (1 / 3) for x in range(1, 6)]), 3))"
   ]
  },
  {
   "cell_type": "code",
   "execution_count": 62,
   "metadata": {},
   "outputs": [
    {
     "data": {
      "text/plain": [
       "253530120045645880299340641075200"
      ]
     },
     "execution_count": 62,
     "metadata": {},
     "output_type": "execute_result"
    }
   ],
   "source": [
    "200 << 100"
   ]
  },
  {
   "cell_type": "code",
   "execution_count": null,
   "metadata": {},
   "outputs": [],
   "source": [
    "## p = odds2prob(1.09,1)\n",
    "\n",
    "cum_prob = 0\n",
    "for k in range(3,7):\n",
    "    cum_prob += binomial_distr(6,k,p)\n",
    "\n",
    "print(round(cum_prob,3))\n",
    "\n",
    "p = 0.12 #odds2prob(1.09,1)\n",
    "\n",
    "le_2= 0\n",
    "for k in range(0,3):\n",
    "    le_2 += binomial_distr(10,k,p)\n",
    "\n",
    "m_2 = 0\n",
    "for k in range(2,11):\n",
    "    m_2 += binomial_distr(10,k,p)\n",
    "\n",
    "print(round(le_2,3))\n",
    "print(round(m_2,3))"
   ]
  },
  {
   "cell_type": "code",
   "execution_count": 24,
   "metadata": {},
   "outputs": [
    {
     "data": {
      "text/plain": [
       "1.045"
      ]
     },
     "execution_count": 24,
     "metadata": {},
     "output_type": "execute_result"
    }
   ],
   "source": [
    "r(1-p) = p\n",
    "r - rp = p\n",
    "r = p(r+1)\n",
    "p = r/(r+1)"
   ]
  },
  {
   "cell_type": "code",
   "execution_count": 35,
   "metadata": {},
   "outputs": [],
   "source": [
    "def odds2prob(a,b):\n",
    "    r = a/b\n",
    "    p = r/(r+1)\n",
    "    return p, 1-p"
   ]
  },
  {
   "cell_type": "code",
   "execution_count": 39,
   "metadata": {},
   "outputs": [
    {
     "data": {
      "text/plain": [
       "(0.75, 0.25)"
      ]
     },
     "execution_count": 39,
     "metadata": {},
     "output_type": "execute_result"
    }
   ],
   "source": [
    "odds2prob(6,2)"
   ]
  },
  {
   "cell_type": "code",
   "execution_count": 23,
   "metadata": {},
   "outputs": [
    {
     "data": {
      "text/plain": [
       "0.015625"
      ]
     },
     "execution_count": 23,
     "metadata": {},
     "output_type": "execute_result"
    }
   ],
   "source": [
    "binomial_distr(6,6,0.5)"
   ]
  },
  {
   "cell_type": "code",
   "execution_count": 17,
   "metadata": {},
   "outputs": [
    {
     "data": {
      "text/plain": [
       "3.0517578125e-05"
      ]
     },
     "execution_count": 17,
     "metadata": {},
     "output_type": "execute_result"
    }
   ],
   "source": [
    "(0.5**10)*0.5**(10-5)"
   ]
  },
  {
   "cell_type": "code",
   "execution_count": 14,
   "metadata": {},
   "outputs": [
    {
     "data": {
      "text/plain": [
       "252.0"
      ]
     },
     "execution_count": 14,
     "metadata": {},
     "output_type": "execute_result"
    }
   ],
   "source": [
    "binomial(10,5)"
   ]
  },
  {
   "cell_type": "code",
   "execution_count": 19,
   "metadata": {},
   "outputs": [
    {
     "data": {
      "text/plain": [
       "0.24609375"
      ]
     },
     "execution_count": 19,
     "metadata": {},
     "output_type": "execute_result"
    }
   ],
   "source": [
    "binomial_distr(10,5,0.5)"
   ]
  },
  {
   "cell_type": "code",
   "execution_count": 12,
   "metadata": {},
   "outputs": [
    {
     "name": "stdout",
     "output_type": "stream",
     "text": [
      "[1.0]\n",
      "[1.0, 1.0]\n",
      "[1.0, 2.0, 1.0]\n",
      "[1.0, 3.0, 3.0, 1.0]\n",
      "[1.0, 4.0, 6.0, 4.0, 1.0]\n",
      "[1.0, 5.0, 10.0, 10.0, 5.0, 1.0]\n",
      "[1.0, 6.0, 15.0, 20.0, 15.0, 6.0, 1.0]\n",
      "[1.0, 7.0, 21.0, 35.0, 35.0, 21.0, 7.0, 1.0]\n",
      "[1.0, 8.0, 28.0, 56.0, 70.0, 56.0, 28.0, 8.0, 1.0]\n",
      "[1.0, 9.0, 36.0, 84.0, 126.0, 126.0, 84.0, 36.0, 9.0, 1.0]\n"
     ]
    }
   ],
   "source": [
    "for i in range(10):\n",
    "    print([binomial(i,k) for k in range(i+1)])\n"
   ]
  },
  {
   "cell_type": "code",
   "execution_count": null,
   "metadata": {},
   "outputs": [],
   "source": [
    "2 red 1 black\n",
    "\n",
    "X = 4/3\n",
    "Y = 5/4\n",
    "Z = 5/5"
   ]
  },
  {
   "cell_type": "code",
   "execution_count": 232,
   "metadata": {},
   "outputs": [
    {
     "name": "stdout",
     "output_type": "stream",
     "text": [
      "0.40476190476190477\n"
     ]
    }
   ],
   "source": [
    "x_red = [True, False]\n",
    "y_red = [True, False]\n",
    "z_red = [True, False]\n",
    "\n",
    "cum_prob = 0\n",
    "for x in x_red:\n",
    "    for y in y_red:\n",
    "        for z in z_red:\n",
    "            if x + y + z == 2: #true result \n",
    "                cum_prob+= (4/7 if x else 3/7) * (5/9 if y else 4/9) * 0.5\n",
    "                \n",
    "print(cum_prob)          "
   ]
  },
  {
   "cell_type": "code",
   "execution_count": 234,
   "metadata": {},
   "outputs": [
    {
     "name": "stdout",
     "output_type": "stream",
     "text": [
      "0.24603174603174602\n",
      "0.40476190476190477\n"
     ]
    }
   ],
   "source": [
    "print(31/126)\n",
    "print(17/42)"
   ]
  },
  {
   "cell_type": "code",
   "execution_count": null,
   "metadata": {},
   "outputs": [],
   "source": [
    "r r r \n",
    "r r b\n",
    "r b r \n",
    "r b b \n",
    "b r r\n",
    "b r b\n",
    "b b r \n",
    "b b b "
   ]
  },
  {
   "cell_type": "code",
   "execution_count": 225,
   "metadata": {},
   "outputs": [
    {
     "name": "stdout",
     "output_type": "stream",
     "text": [
      "0.1111111111111111\n"
     ]
    }
   ],
   "source": [
    "count = 0\n",
    "for i in range(1,7):\n",
    "    for j in range(1,7):\n",
    "        if (i + j)==6 and i!=j:\n",
    "            count+=1\n",
    "print(count/(36))\n",
    "            "
   ]
  },
  {
   "cell_type": "code",
   "execution_count": 213,
   "metadata": {},
   "outputs": [
    {
     "name": "stdout",
     "output_type": "stream",
     "text": [
      "9.0\n"
     ]
    }
   ],
   "source": [
    "\n",
    "arr = [6, 12, 8, 10, 20, 16]\n",
    "freq = [5, 4, 3, 2, 1, 5]\n",
    "x = [[a]*f for a,f in zip(arr,freq)]\n",
    "x = [item for sublist in x for item in sublist]\n",
    "\n",
    "n = len(x)\n",
    "from statistics import median\n",
    "q1 = (median(x[:n//2]))\n",
    "q3 = (median(x[(n+1)//2:]))\n",
    "print(round(q3 - q1,1))"
   ]
  },
  {
   "cell_type": "code",
   "execution_count": 217,
   "metadata": {},
   "outputs": [
    {
     "data": {
      "text/plain": [
       "1.5"
      ]
     },
     "execution_count": 217,
     "metadata": {},
     "output_type": "execute_result"
    }
   ],
   "source": [
    "3/2"
   ]
  },
  {
   "cell_type": "code",
   "execution_count": 209,
   "metadata": {},
   "outputs": [],
   "source": [
    "x = [3, 7, 8, 5, 12, 14, 21, 13, 18]\n",
    "n = len(x)\n",
    "avg = np.mean(x)"
   ]
  },
  {
   "cell_type": "code",
   "execution_count": 210,
   "metadata": {},
   "outputs": [
    {
     "data": {
      "text/plain": [
       "array([67.60493827, 17.82716049, 10.38271605, 38.71604938,  0.60493827,\n",
       "        7.71604938, 95.60493827,  3.16049383, 45.9382716 ])"
      ]
     },
     "execution_count": 210,
     "metadata": {},
     "output_type": "execute_result"
    }
   ],
   "source": [
    "(lambda x: (x - avg)**2)(x)"
   ]
  },
  {
   "cell_type": "code",
   "execution_count": 212,
   "metadata": {},
   "outputs": [
    {
     "name": "stdout",
     "output_type": "stream",
     "text": [
      "5.652487707545291\n"
     ]
    }
   ],
   "source": [
    "std = (1/n*sum(list((lambda x: (x - avg)**2)(x))))**0.5\n",
    "print(std)\n"
   ]
  },
  {
   "cell_type": "code",
   "execution_count": 85,
   "metadata": {},
   "outputs": [
    {
     "name": "stdout",
     "output_type": "stream",
     "text": [
      "2504.5\n",
      "2504.5\n"
     ]
    },
    {
     "data": {
      "text/plain": [
       "True"
      ]
     },
     "execution_count": 85,
     "metadata": {},
     "output_type": "execute_result"
    }
   ],
   "source": [
    "numbers = [i + 5 for i in range(5000)]\n",
    "print(median(numbers))\n",
    "print(median_quick(numbers))\n",
    "median(numbers) == median_quick(numbers)"
   ]
  },
  {
   "cell_type": "code",
   "execution_count": null,
   "metadata": {},
   "outputs": [],
   "source": [
    "numbers = sorted([int(i) for i in arr])"
   ]
  },
  {
   "cell_type": "code",
   "execution_count": 199,
   "metadata": {},
   "outputs": [
    {
     "name": "stdout",
     "output_type": "stream",
     "text": [
      "[3, 5, 7, 8, 12, 13, 14, 18, 21]\n",
      "7\n",
      "12\n",
      "14\n",
      "Me: 0 3\n",
      "Np: 0 3.0 \n",
      "\n",
      "Me: 1 4.6\n",
      "Np: 1 4.6 \n",
      "\n",
      "Me: 2 6.2\n",
      "Np: 2 6.200000000000001 \n",
      "\n",
      "Me: 3 7.4\n",
      "Np: 3 7.4 \n",
      "\n",
      "Me: 4 8.8\n",
      "Np: 4 8.8 \n",
      "\n",
      "Me: 5 12\n",
      "Np: 5 12.0 \n",
      "\n",
      "Me: 6 12.8\n",
      "Np: 6 12.8 \n",
      "\n",
      "Me: 7 13.6\n",
      "Np: 7 13.6 \n",
      "\n",
      "Me: 8 15.6\n",
      "Np: 8 15.600000000000001 \n",
      "\n",
      "Me: 9 18.6\n",
      "Np: 9 18.6 \n",
      "\n"
     ]
    }
   ],
   "source": [
    "import math\n",
    "numbers = [i**2 for i in range(21)]\n",
    "numbers = [3, 7, 8, 5, 12, 14, 21, 13, 18]\n",
    "numbers = sorted(numbers)\n",
    "print(numbers)\n",
    "print(percentile(numbers,0.25))\n",
    "print(percentile(numbers,0.5))\n",
    "print(percentile(numbers,0.75))\n",
    "\n",
    "for d in range(10):\n",
    "    #print(d)\n",
    "    print(\"Me:\", d, percentile(numbers,d/10))\n",
    "    print(\"Np:\",d, np.percentile(numbers, d*10),\"\\n\")"
   ]
  },
  {
   "cell_type": "code",
   "execution_count": 200,
   "metadata": {},
   "outputs": [],
   "source": [
    "def percentile(numbers, p):\n",
    "    k = (len(numbers) - 1) * p\n",
    "    f = math.floor(k)\n",
    "    c = math.ceil(k)\n",
    "    if f == c:\n",
    "        return round(numbers[int(k)],1)\n",
    "    d0 = numbers[int(f)] * (c-k)\n",
    "    d1 = numbers[int(c)] * (k-f)\n",
    "    return round(d0 + d1, 1)\n",
    "         \n",
    "    "
   ]
  },
  {
   "cell_type": "code",
   "execution_count": 99,
   "metadata": {},
   "outputs": [
    {
     "ename": "FileNotFoundError",
     "evalue": "[Errno 2] No such file or directory: '-f'",
     "output_type": "error",
     "traceback": [
      "\u001b[0;31m---------------------------------------------------------------------------\u001b[0m",
      "\u001b[0;31mFileNotFoundError\u001b[0m                         Traceback (most recent call last)",
      "\u001b[0;32m<ipython-input-99-e0366fe3996e>\u001b[0m in \u001b[0;36m<module>\u001b[0;34m\u001b[0m\n\u001b[1;32m      8\u001b[0m \u001b[0;34m\u001b[0m\u001b[0m\n\u001b[1;32m      9\u001b[0m \u001b[0minputs\u001b[0m \u001b[0;34m=\u001b[0m \u001b[0;34m[\u001b[0m\u001b[0;34m]\u001b[0m\u001b[0;34m\u001b[0m\u001b[0;34m\u001b[0m\u001b[0m\n\u001b[0;32m---> 10\u001b[0;31m \u001b[0;32mfor\u001b[0m \u001b[0mline\u001b[0m \u001b[0;32min\u001b[0m \u001b[0mfileinput\u001b[0m\u001b[0;34m.\u001b[0m\u001b[0minput\u001b[0m\u001b[0;34m(\u001b[0m\u001b[0;34m)\u001b[0m\u001b[0;34m:\u001b[0m\u001b[0;34m\u001b[0m\u001b[0;34m\u001b[0m\u001b[0m\n\u001b[0m\u001b[1;32m     11\u001b[0m     \u001b[0minputs\u001b[0m\u001b[0;34m.\u001b[0m\u001b[0mappend\u001b[0m\u001b[0;34m(\u001b[0m\u001b[0mline\u001b[0m\u001b[0;34m)\u001b[0m\u001b[0;34m\u001b[0m\u001b[0;34m\u001b[0m\u001b[0m\n\u001b[1;32m     12\u001b[0m \u001b[0mn\u001b[0m\u001b[0;34m,\u001b[0m \u001b[0marr\u001b[0m \u001b[0;34m=\u001b[0m \u001b[0minputs\u001b[0m\u001b[0;34m\u001b[0m\u001b[0;34m\u001b[0m\u001b[0m\n",
      "\u001b[0;32m~/anaconda3/envs/tfm/lib/python3.7/fileinput.py\u001b[0m in \u001b[0;36m__next__\u001b[0;34m(self)\u001b[0m\n\u001b[1;32m    250\u001b[0m     \u001b[0;32mdef\u001b[0m \u001b[0m__next__\u001b[0m\u001b[0;34m(\u001b[0m\u001b[0mself\u001b[0m\u001b[0;34m)\u001b[0m\u001b[0;34m:\u001b[0m\u001b[0;34m\u001b[0m\u001b[0;34m\u001b[0m\u001b[0m\n\u001b[1;32m    251\u001b[0m         \u001b[0;32mwhile\u001b[0m \u001b[0;32mTrue\u001b[0m\u001b[0;34m:\u001b[0m\u001b[0;34m\u001b[0m\u001b[0;34m\u001b[0m\u001b[0m\n\u001b[0;32m--> 252\u001b[0;31m             \u001b[0mline\u001b[0m \u001b[0;34m=\u001b[0m \u001b[0mself\u001b[0m\u001b[0;34m.\u001b[0m\u001b[0m_readline\u001b[0m\u001b[0;34m(\u001b[0m\u001b[0;34m)\u001b[0m\u001b[0;34m\u001b[0m\u001b[0;34m\u001b[0m\u001b[0m\n\u001b[0m\u001b[1;32m    253\u001b[0m             \u001b[0;32mif\u001b[0m \u001b[0mline\u001b[0m\u001b[0;34m:\u001b[0m\u001b[0;34m\u001b[0m\u001b[0;34m\u001b[0m\u001b[0m\n\u001b[1;32m    254\u001b[0m                 \u001b[0mself\u001b[0m\u001b[0;34m.\u001b[0m\u001b[0m_filelineno\u001b[0m \u001b[0;34m+=\u001b[0m \u001b[0;36m1\u001b[0m\u001b[0;34m\u001b[0m\u001b[0;34m\u001b[0m\u001b[0m\n",
      "\u001b[0;32m~/anaconda3/envs/tfm/lib/python3.7/fileinput.py\u001b[0m in \u001b[0;36m_readline\u001b[0;34m(self)\u001b[0m\n\u001b[1;32m    362\u001b[0m                     \u001b[0mself\u001b[0m\u001b[0;34m.\u001b[0m\u001b[0m_file\u001b[0m \u001b[0;34m=\u001b[0m \u001b[0mself\u001b[0m\u001b[0;34m.\u001b[0m\u001b[0m_openhook\u001b[0m\u001b[0;34m(\u001b[0m\u001b[0mself\u001b[0m\u001b[0;34m.\u001b[0m\u001b[0m_filename\u001b[0m\u001b[0;34m,\u001b[0m \u001b[0mself\u001b[0m\u001b[0;34m.\u001b[0m\u001b[0m_mode\u001b[0m\u001b[0;34m)\u001b[0m\u001b[0;34m\u001b[0m\u001b[0;34m\u001b[0m\u001b[0m\n\u001b[1;32m    363\u001b[0m                 \u001b[0;32melse\u001b[0m\u001b[0;34m:\u001b[0m\u001b[0;34m\u001b[0m\u001b[0;34m\u001b[0m\u001b[0m\n\u001b[0;32m--> 364\u001b[0;31m                     \u001b[0mself\u001b[0m\u001b[0;34m.\u001b[0m\u001b[0m_file\u001b[0m \u001b[0;34m=\u001b[0m \u001b[0mopen\u001b[0m\u001b[0;34m(\u001b[0m\u001b[0mself\u001b[0m\u001b[0;34m.\u001b[0m\u001b[0m_filename\u001b[0m\u001b[0;34m,\u001b[0m \u001b[0mself\u001b[0m\u001b[0;34m.\u001b[0m\u001b[0m_mode\u001b[0m\u001b[0;34m)\u001b[0m\u001b[0;34m\u001b[0m\u001b[0;34m\u001b[0m\u001b[0m\n\u001b[0m\u001b[1;32m    365\u001b[0m         \u001b[0mself\u001b[0m\u001b[0;34m.\u001b[0m\u001b[0m_readline\u001b[0m \u001b[0;34m=\u001b[0m \u001b[0mself\u001b[0m\u001b[0;34m.\u001b[0m\u001b[0m_file\u001b[0m\u001b[0;34m.\u001b[0m\u001b[0mreadline\u001b[0m  \u001b[0;31m# hide FileInput._readline\u001b[0m\u001b[0;34m\u001b[0m\u001b[0;34m\u001b[0m\u001b[0m\n\u001b[1;32m    366\u001b[0m         \u001b[0;32mreturn\u001b[0m \u001b[0mself\u001b[0m\u001b[0;34m.\u001b[0m\u001b[0m_readline\u001b[0m\u001b[0;34m(\u001b[0m\u001b[0;34m)\u001b[0m\u001b[0;34m\u001b[0m\u001b[0;34m\u001b[0m\u001b[0m\n",
      "\u001b[0;31mFileNotFoundError\u001b[0m: [Errno 2] No such file or directory: '-f'"
     ]
    }
   ],
   "source": [
    "import fileinput\n",
    "\n",
    "def median_quick(numbers):\n",
    "    n = len(numbers)\n",
    "    if n%2 == 1:\n",
    "        numbers.insert(numbers[int(n/2)],int(n/2))\n",
    "    return int(0.5*(numbers[int(n/2)] + numbers[int((n - 1)/2)]))\n",
    "\n",
    "inputs = []\n",
    "for line in fileinput.input():\n",
    "    inputs.append(line)\n",
    "n, arr = inputs\n",
    "n = int(n)\n",
    "numbers = sorted([int(i) for i in arr.split(\" \")])\n",
    "\n",
    "if  n%2 == 1:\n",
    "    numbers.insert(numbers[int(n/2)],int(n/2))\n",
    "\n",
    "print(median_quick(numbers[:(n-1)/2]))\n",
    "print(median_quick(numbers))\n",
    "print(median_quick(numbers[(n-1)/2:]))"
   ]
  },
  {
   "cell_type": "code",
   "execution_count": 66,
   "metadata": {},
   "outputs": [],
   "source": [
    "def median(numbers):\n",
    "    n = len(numbers)\n",
    "    if n%2 == 0:\n",
    "        return 0.5*(numbers[int(n/2)] + numbers[int((n - 1)/2)])\n",
    "    else:\n",
    "        return numbers[int((n - 1)/2)]"
   ]
  },
  {
   "cell_type": "code",
   "execution_count": null,
   "metadata": {},
   "outputs": [],
   "source": []
  },
  {
   "cell_type": "code",
   "execution_count": null,
   "metadata": {},
   "outputs": [],
   "source": [
    "def maxSubsetSum(arr):\n",
    "    odds, evens = [],[]\n",
    "    for i in range(len(arr) - 1):\n",
    "        odds.append(arr[i])\n",
    "        evens.append(arr[i])\n",
    "        \n",
    "    "
   ]
  },
  {
   "cell_type": "code",
   "execution_count": 41,
   "metadata": {},
   "outputs": [],
   "source": [
    "chosen = [0]*len(arr)\n",
    "restricted = [0]*len(arr)"
   ]
  },
  {
   "cell_type": "code",
   "execution_count": 43,
   "metadata": {},
   "outputs": [
    {
     "data": {
      "text/plain": [
       "[0, 0, 0, 0, 0]"
      ]
     },
     "execution_count": 43,
     "metadata": {},
     "output_type": "execute_result"
    }
   ],
   "source": [
    "restricted"
   ]
  },
  {
   "cell_type": "code",
   "execution_count": null,
   "metadata": {},
   "outputs": [],
   "source": []
  },
  {
   "cell_type": "code",
   "execution_count": 39,
   "metadata": {},
   "outputs": [],
   "source": [
    "arr = [3, 7, 4, 6, 5]"
   ]
  },
  {
   "cell_type": "code",
   "execution_count": 37,
   "metadata": {},
   "outputs": [],
   "source": [
    "def jumpingOnClouds(c):\n",
    "    i = 0\n",
    "    n = len(c)\n",
    "    jumps = 0\n",
    "    while(i < n - 1):\n",
    "        if i == n - 2:\n",
    "            i = i+1\n",
    "        elif c[i] == 0 and c[i + 1] == 0 and c[i + 2] == 0:\n",
    "            i = i+2\n",
    "        elif c[i] == 0 and c[i + 1] == 1 and c[i + 2] == 0:\n",
    "            i = i+2\n",
    "        else:\n",
    "            i = i+1\n",
    "        jumps +=1\n",
    "    return jumps\n",
    "        \n"
   ]
  },
  {
   "cell_type": "code",
   "execution_count": 38,
   "metadata": {},
   "outputs": [
    {
     "data": {
      "text/plain": [
       "3"
      ]
     },
     "execution_count": 38,
     "metadata": {},
     "output_type": "execute_result"
    }
   ],
   "source": [
    "c = [0, 0, 0, 1, 0, 0]\n",
    "jumpingOnClouds(c)"
   ]
  },
  {
   "cell_type": "code",
   "execution_count": 34,
   "metadata": {},
   "outputs": [
    {
     "data": {
      "text/plain": [
       "5"
      ]
     },
     "execution_count": 34,
     "metadata": {},
     "output_type": "execute_result"
    }
   ],
   "source": [
    "c = [0, 0, 1, 0, 0, 1, 0]\n",
    "jumpingOnClouds(c)"
   ]
  },
  {
   "cell_type": "code",
   "execution_count": 1,
   "metadata": {},
   "outputs": [],
   "source": [
    "def repeatedString(s, n):\n",
    "    reps = int(n/len(s))\n",
    "    offset = n - len(s)*reps\n",
    "    print(s*reps)\n",
    "    print(reps,offset, len(s))\n",
    "    return s.count(\"a\")*reps + s[:offset].count(\"a\")"
   ]
  },
  {
   "cell_type": "code",
   "execution_count": 2,
   "metadata": {},
   "outputs": [
    {
     "name": "stdout",
     "output_type": "stream",
     "text": [
      "abaabaaba\n",
      "3 1 3\n"
     ]
    },
    {
     "data": {
      "text/plain": [
       "7"
      ]
     },
     "execution_count": 2,
     "metadata": {},
     "output_type": "execute_result"
    }
   ],
   "source": [
    "repeatedString(\"aba\",10)"
   ]
  },
  {
   "cell_type": "code",
   "execution_count": null,
   "metadata": {},
   "outputs": [],
   "source": []
  }
 ],
 "metadata": {
  "kernelspec": {
   "display_name": "tfm",
   "language": "python",
   "name": "tfm"
  },
  "language_info": {
   "codemirror_mode": {
    "name": "ipython",
    "version": 3
   },
   "file_extension": ".py",
   "mimetype": "text/x-python",
   "name": "python",
   "nbconvert_exporter": "python",
   "pygments_lexer": "ipython3",
   "version": "3.7.6"
  }
 },
 "nbformat": 4,
 "nbformat_minor": 4
}
