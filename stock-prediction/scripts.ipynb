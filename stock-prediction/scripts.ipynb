{
 "cells": [
  {
   "cell_type": "code",
   "execution_count": 1,
   "metadata": {},
   "outputs": [],
   "source": [
    "import pandas as pd, os \n",
    "from google.cloud import bigquery\n",
    "from tqdm import tqdm"
   ]
  },
  {
   "cell_type": "code",
   "execution_count": 2,
   "metadata": {},
   "outputs": [
    {
     "data": {
      "text/plain": [
       "True"
      ]
     },
     "execution_count": 2,
     "metadata": {},
     "output_type": "execute_result"
    }
   ],
   "source": [
    "from dotenv import load_dotenv\n",
    "load_dotenv(\"/Users/juanluis/Documents/credentials/env.txt\")"
   ]
  },
  {
   "cell_type": "markdown",
   "metadata": {},
   "source": [
    "### Loads newspaper articles to BQ"
   ]
  },
  {
   "cell_type": "code",
   "execution_count": 7,
   "metadata": {},
   "outputs": [],
   "source": [
    "bq_client = bigquery.Client()"
   ]
  },
  {
   "cell_type": "code",
   "execution_count": 3,
   "metadata": {},
   "outputs": [],
   "source": [
    "stocks = [\"AAPL\", 'KHC', 'PEP', 'GS', 'MSFT', 'MCD', 'OXY']\n",
    "gcloud_project = \"stock-sentiment-nlp\"\n",
    "news = {}"
   ]
  },
  {
   "cell_type": "code",
   "execution_count": 4,
   "metadata": {},
   "outputs": [
    {
     "data": {
      "text/plain": [
       "'\\n## Loads data from csv to BQ\\n# pyarrow needs to be installed to load df to tables\\nnews_df = {}\\npath = \"./news_scraping/csv\"\\nfor stock in os.listdir(path):\\n    if os.path.isdir(f\"{path}/{stock}\"):\\n        months_df = []\\n        for file in os.listdir(f\"{path}/{stock}\"):\\n            month = pd.read_csv(f\"{path}/{stock}/{file}\", index_col = 0)\\n            month.date_google = pd.to_datetime(month.date_google, errors = \"coerce\")\\n            month.date_article = pd.to_datetime(month.date_article, errors = \"coerce\")\\n            months_df.append(month)\\n        news_df[stock] = pd.concat(months_df).drop_duplicates(\"title\").sort_values(\"date_google\").dropna()\\n\\nfor stock, data in news_df.items():\\n    data.insert(0,\"id\", list(map(str,data.index.values)))\\n    bq_client.load_table_from_dataframe(\\n        dataframe = data,\\n        destination = f\"{gcloud_project}.news.{stock}_news\"\\n    )\\n    print(f\"Table for {stock} news created\")\\n    \\n        \\n\\n'"
      ]
     },
     "execution_count": 4,
     "metadata": {},
     "output_type": "execute_result"
    }
   ],
   "source": [
    "\"\"\"\n",
    "## Loads data from csv to BQ\n",
    "# pyarrow needs to be installed to load df to tables\n",
    "news_df = {}\n",
    "path = \"./news_scraping/csv\"\n",
    "for stock in os.listdir(path):\n",
    "    if os.path.isdir(f\"{path}/{stock}\"):\n",
    "        months_df = []\n",
    "        for file in os.listdir(f\"{path}/{stock}\"):\n",
    "            month = pd.read_csv(f\"{path}/{stock}/{file}\", index_col = 0)\n",
    "            month.date_google = pd.to_datetime(month.date_google, errors = \"coerce\")\n",
    "            month.date_article = pd.to_datetime(month.date_article, errors = \"coerce\")\n",
    "            months_df.append(month)\n",
    "        news_df[stock] = pd.concat(months_df).drop_duplicates(\"title\").sort_values(\"date_google\").dropna()\n",
    "\n",
    "for stock, data in news_df.items():\n",
    "    data.insert(0,\"id\", list(map(str,data.index.values)))\n",
    "    bq_client.load_table_from_dataframe(\n",
    "        dataframe = data,\n",
    "        destination = f\"{gcloud_project}.news.{stock}_news\"\n",
    "    )\n",
    "    print(f\"Table for {stock} news created\")\n",
    "    \n",
    "for stock, data in news_df.items():\n",
    "    print(stock, data.shape)\n",
    "\n",
    "\"\"\""
   ]
  },
  {
   "cell_type": "code",
   "execution_count": 8,
   "metadata": {},
   "outputs": [
    {
     "name": "stderr",
     "output_type": "stream",
     "text": [
      "100%|████████████████████████████████████████████████████████████████████████████████████████████████████████████████████████████████████| 7/7 [00:22<00:00,  3.26s/it]\n"
     ]
    }
   ],
   "source": [
    "#Downloads data from BQ to pandas\n",
    "for stock in tqdm(stocks):\n",
    "    df = bq_client.query(\n",
    "        f\"\"\"SELECT date_google, date_article, title, description\n",
    "            FROM `{gcloud_project}.news.{stock}_news`\"\"\"\n",
    "            ).result().to_dataframe()\n",
    "    news[stock] = df"
   ]
  },
  {
   "cell_type": "markdown",
   "metadata": {},
   "source": [
    "## Extract sentiment from titles"
   ]
  },
  {
   "cell_type": "code",
   "execution_count": null,
   "metadata": {},
   "outputs": [],
   "source": [
    "from transformers import pipeline, AutoTokenizer"
   ]
  },
  {
   "cell_type": "code",
   "execution_count": null,
   "metadata": {},
   "outputs": [],
   "source": [
    "nlp = pipeline(\"sentiment-analysis\", \n",
    "               model = \"nlptown/bert-base-multilingual-uncased-sentiment\", \n",
    "               return_all_scores = True,\n",
    "              )"
   ]
  },
  {
   "cell_type": "code",
   "execution_count": null,
   "metadata": {},
   "outputs": [],
   "source": [
    "nlp_binary = pipeline(\"sentiment-analysis\", return_all_scores = True)"
   ]
  },
  {
   "cell_type": "code",
   "execution_count": null,
   "metadata": {},
   "outputs": [],
   "source": [
    "from dotenv import load_dotenv\n",
    "load_dotenv()"
   ]
  },
  {
   "cell_type": "code",
   "execution_count": null,
   "metadata": {},
   "outputs": [],
   "source": [
    "for stock, data in news_df.items():\n",
    "    dates = pd.DataFrame(index = pd.date_range(start = \"2019-01-01\", end = \"2020-12-31\"))\n",
    "    group = data[[\"id\",\"date_google\"]].groupby(\"date_google\").count()\n",
    "    series = pd.merge(dates,group, right_index=True,left_index=True, how = \"left\")\n",
    "    print(stock, series.isna().sum()[\"id\"], series.isna().sum()[\"id\"]/dates.shape[0])\n"
   ]
  },
  {
   "cell_type": "code",
   "execution_count": null,
   "metadata": {},
   "outputs": [],
   "source": [
    "aapl.df.filter(regex= \".*star|date\").groupby(\"date_google\").mean()"
   ]
  },
  {
   "cell_type": "code",
   "execution_count": null,
   "metadata": {},
   "outputs": [],
   "source": [
    "sentiment\n",
    "- date\n",
    "- avg sent pred 1,2,3,4,5\n",
    "- close, open, etc\n",
    "\n",
    "headlines\n",
    "- date\n",
    "- id\n",
    "- classif (0-5)\n",
    "- url\n",
    "- title\n",
    "- description\n"
   ]
  },
  {
   "cell_type": "code",
   "execution_count": null,
   "metadata": {},
   "outputs": [],
   "source": [
    "predict(target)"
   ]
  },
  {
   "cell_type": "code",
   "execution_count": null,
   "metadata": {},
   "outputs": [],
   "source": [
    "for stock in [\"AAPL\", 'KHC', 'PEP', 'GS', 'MSFT', 'MCD', 'OXY']:\n",
    "    sp = SentimentPredictor(stock)\n",
    "    sp.predict_title_and_description()\n",
    "    sp.push_headlines_to_bq()\n",
    "    sp.push_series_to_bq()\n",
    "    print(\"STOCK COMPLETED\", stock, datetime.now())\n",
    "    sentiment_predictors[stock] = sp\n",
    "    "
   ]
  },
  {
   "cell_type": "code",
   "execution_count": null,
   "metadata": {},
   "outputs": [],
   "source": [
    "class SentimentPredictor:\n",
    "    gcloud_project = \"stock-sentiment-nlp\"\n",
    "    bq_client = get_bq_client(os.environ.get(\"GOOGLE_APPLICATION_CREDENTIALS\"), gcloud_project)\n",
    "    nlp = pipeline(\"sentiment-analysis\", \n",
    "               model = \"nlptown/bert-base-multilingual-uncased-sentiment\",\n",
    "               return_all_scores = True)\n",
    "    \n",
    "    def __init__(self,stock):\n",
    "        self.stock_name = stock\n",
    "        self.get_df_from_bq()\n",
    "    \n",
    "    def get_df_from_bq(self):\n",
    "        self.df = bq_client.query(\n",
    "            f\"\"\"SELECT id, date_google, title, description, url \n",
    "                FROM `{gcloud_project}.news.{self.stock_name}_news`\"\"\").result().to_dataframe()\n",
    "    \n",
    "    def predict(self, text):\n",
    "        while(len(text) > 0):\n",
    "            try:\n",
    "                return self.nlp(text)\n",
    "            except RuntimeError:\n",
    "                text = \" \".join(text.split(\" \")[:-100])\n",
    "        \n",
    "    def predict_and_separate_stars(self,x):\n",
    "        out = self.predict(x)[0]\n",
    "        return out[0][\"score\"], out[1][\"score\"], out[2][\"score\"], out[3][\"score\"], out[4][\"score\"]\n",
    "    \n",
    "    def predict_title_and_description(self):\n",
    "        text = self.df.title.apply(str) #+ \" \" + self.df.description.apply(str)\n",
    "        self.df['star1'], self.df['star2'], self.df['star3'], self.df['star4'], self.df['star5'] = zip(*text.map(self.predict_and_separate_stars))\n",
    "        self.df[\"winner\"] = self.df.filter(regex = \".*star\").idxmax(axis=1)\n",
    "        \n",
    "    \n",
    "    def push_headlines_to_bq(self):\n",
    "        self.headlines = self.df[[\"date_google\", \"url\", \"title\", \"description\", \"winner\"]]\n",
    "        bq_client.load_table_from_dataframe(\n",
    "            dataframe = self.headlines,\n",
    "            destination = f\"{gcloud_project}.headlines.{self.stock_name}_titles\"\n",
    "            )\n",
    "    def push_series_to_bq(self):\n",
    "        dates = pd.DataFrame(index = pd.date_range(start = \"2019-01-01\", end = \"2020-12-31\"))\n",
    "        average = self.df.filter(regex= \"star.*|date\").groupby(\"date_google\").median()\n",
    "        average.index = average.index.tz_localize(None)\n",
    "        self.series = pd.merge(dates,average, right_index=True,left_index=True, how = \"left\").reset_index()\n",
    "        bq_client.load_table_from_dataframe(\n",
    "            dataframe = self.series,\n",
    "            destination = f\"{gcloud_project}.series.{self.stock_name}_series_titles_median\"\n",
    "            )\n",
    "        \n",
    "        \n",
    "        \n",
    "        \n",
    "        \n",
    "        \n",
    "        "
   ]
  },
  {
   "cell_type": "code",
   "execution_count": null,
   "metadata": {},
   "outputs": [],
   "source": []
  }
 ],
 "metadata": {
  "kernelspec": {
   "display_name": "tfm",
   "language": "python",
   "name": "tfm"
  },
  "language_info": {
   "codemirror_mode": {
    "name": "ipython",
    "version": 3
   },
   "file_extension": ".py",
   "mimetype": "text/x-python",
   "name": "python",
   "nbconvert_exporter": "python",
   "pygments_lexer": "ipython3",
   "version": "3.8.12"
  }
 },
 "nbformat": 4,
 "nbformat_minor": 4
}
